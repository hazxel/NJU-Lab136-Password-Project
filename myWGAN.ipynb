{
 "cells": [
  {
   "cell_type": "code",
   "execution_count": 1,
   "metadata": {},
   "outputs": [],
   "source": [
    "import torch\n",
    "import torch.nn as nn\n",
    "import torch.nn.functional as F\n",
    "import random\n",
    "from data_prep import Password as P\n",
    "import logging\n",
    "\n",
    "logger = logging.getLogger()\n",
    "logger.setLevel(logging.DEBUG)\n",
    "\n",
    "USE_CUDA = False\n",
    "PRE_GEN_ITERS = 100\n",
    "ADVERSIVE_ITERS = 500\n",
    "CRITIC_ITERS = 1\n",
    "\n",
    "device = torch.device(\"cuda\" if torch.cuda.is_available() and USE_CUDA else \"cpu\")"
   ]
  },
  {
   "cell_type": "code",
   "execution_count": 2,
   "metadata": {},
   "outputs": [],
   "source": [
    "# custom weights initialization called on G and D\n",
    "def weights_init(m):\n",
    "    classname = m.__class__.__name__\n",
    "    if classname.find('Linear') != -1:\n",
    "        nn.init.normal_(m.weight.data, 0, 0.001)"
   ]
  },
  {
   "cell_type": "code",
   "execution_count": 3,
   "metadata": {},
   "outputs": [],
   "source": [
    "class Discriminator(nn.Module):\n",
    "    def __init__(self, hidden_size):\n",
    "        super(Discriminator, self).__init__()\n",
    "\n",
    "        self.input_size = P.n_letters + 1\n",
    "        self.hidden_size = hidden_size\n",
    "        self.output_size = 1\n",
    "        \n",
    "        self.i2h = nn.Sequential(*[\n",
    "            nn.Linear(self.input_size + self.hidden_size, self.hidden_size)\n",
    "        ])\n",
    "        self.i2o = nn.Sequential(*[\n",
    "            nn.Linear(self.input_size + self.hidden_size, self.output_size),\n",
    "        ])\n",
    "        \n",
    "        self.i2h.apply(weights_init)\n",
    "        self.i2o.apply(weights_init)\n",
    "        \n",
    "    def forward(self, input, hidden):\n",
    "        combined = torch.cat((input, hidden), 1)\n",
    "        hidden = self.i2h(combined)\n",
    "        output = self.i2o(combined)\n",
    "        return output, hidden\n",
    "\n",
    "    def initHidden(self):\n",
    "        return torch.zeros(1, self.hidden_size).to(device)\n",
    "    \n",
    "    def requiresGrad(self):\n",
    "        for p in self.parameters():\n",
    "            p.requires_grad = True\n",
    "            \n",
    "    def requiresNoGrad(self):\n",
    "        for p in self.parameters():\n",
    "            p.requires_grad = False\n",
    "            \n",
    "    def calcGradientPenalty(self, real_data, fake_data, LAMBDA = .5):\n",
    "        if real_data.size()[0] > fake_data.size()[0]:\n",
    "            fake_data = P.zeroPadding(fake_data, real_data.size(0))\n",
    "        elif real_data.size()[0] < fake_data.size()[0]:\n",
    "            real_data = P.zeroPadding(real_data, fake_data.size(0))\n",
    "        alpha = torch.rand(1).to(device)\n",
    "        interpolate = alpha * real_data + (1 - alpha) * fake_data\n",
    "        interpolate.requires_grad = True\n",
    "\n",
    "        output = self.discriminate(interpolate)\n",
    "\n",
    "        grad = torch.ones_like(interpolate).to(device)\n",
    "        gradients = torch.autograd.grad(\n",
    "                outputs=output,\n",
    "                inputs=interpolate,\n",
    "                grad_outputs=grad,\n",
    "                create_graph=True,\n",
    "                retain_graph=True,\n",
    "                only_inputs=True,\n",
    "            )[0]\n",
    "        penalty = (gradients.norm(2, dim=2)[0][0] - 1 ) ** 2 * LAMBDA\n",
    "        return penalty\n",
    "    \n",
    "    def train(self, input_tensor, category):\n",
    "        hidden = self.initHidden()\n",
    "        self.zero_grad()\n",
    "        \n",
    "        for i in range(input_tensor.size()[0]):\n",
    "            output, hidden = self(input_tensor[i], hidden)\n",
    "            \n",
    "        loss = -output * category\n",
    "        loss.backward(retain_graph = True)\n",
    "\n",
    "        return output, loss.item()\n",
    "    \n",
    "    def discriminate(self, input_tensor):\n",
    "        hidden = self.initHidden()\n",
    "        for i in range(input_tensor.size()[0]):\n",
    "            output, hidden = self(input_tensor[i], hidden)\n",
    "        return output"
   ]
  },
  {
   "cell_type": "code",
   "execution_count": 4,
   "metadata": {},
   "outputs": [],
   "source": [
    "class Generator(nn.Module):\n",
    "    def __init__(self, hidden_size):\n",
    "        super(Generator, self).__init__()\n",
    "        \n",
    "        self.input_size = P.n_letters + 1\n",
    "        self.hidden_size = hidden_size\n",
    "        self.output_size = P.n_letters + 1\n",
    "        \n",
    "        self.lstm = nn.LSTM(self.input_size, self.hidden_size)\n",
    "        self.h2o = nn.Linear(self.hidden_size, self.output_size)\n",
    "        self.dropout = nn.Dropout(0.1)\n",
    "        self.hidden = self.initHiddenZeros()\n",
    "\n",
    "    def forward(self, input):\n",
    "        output, self.hidden = self.lstm(input.view(1,1,-1), self.hidden)\n",
    "        output = self.h2o(output)\n",
    "        output = self.dropout(output)\n",
    "        output = F.log_softmax(output,dim=2)\n",
    "        return output\n",
    "\n",
    "    def initHiddenZeros(self):\n",
    "        return (torch.zeros(1, 1, self.hidden_size).to(device),\n",
    "                torch.zeros(1, 1, self.hidden_size).to(device))\n",
    "    \n",
    "    def initHiddenRand(self):\n",
    "        return (torch.rand(1,1, self.hidden_size).to(device), \n",
    "                torch.rand(1,1, self.hidden_size).to(device))\n",
    "    \n",
    "    def generatePassTensor(self, max_length = 18):\n",
    "        start_letter = p.passwords_string[random.randint(0,len(p.passwords_string) - 1)][0]\n",
    "        with torch.no_grad():\n",
    "            input_tensor = P.passwordToInputTensor(start_letter).to(device)\n",
    "            self.hidden = self.initHiddenZeros()\n",
    "            password = start_letter\n",
    "\n",
    "            for c in range(max_length):\n",
    "                output = self(input_tensor[0])\n",
    "                output = output.view(1,-1)\n",
    "                topv, topi = output.topk(1)\n",
    "                topi = topi[0][0]\n",
    "                if topi == P.n_letters - 1:\n",
    "                    break\n",
    "                else:\n",
    "                    letter = P.all_letters[topi]\n",
    "                    password += letter\n",
    "                input_tensor = P.passwordToInputTensor(letter).to(device)\n",
    "        \n",
    "        return P.passwordToInputTensor(password)\n",
    "        \n",
    "    \n",
    "    def generate_N(self, p, n_generate = 100, max_length = 18):\n",
    "        generate_list = []\n",
    "\n",
    "        for i in range(n_generate):\n",
    "            start_letter = p.passwords_string[random.randint(0,len(p.passwords_string) - 1)][0]\n",
    "            with torch.no_grad():\n",
    "                input_tensor = P.passwordToInputTensor(start_letter).to(device)\n",
    "                self.hidden = self.initHiddenZeros()\n",
    "                output_password = start_letter\n",
    "\n",
    "                for c in range(max_length):\n",
    "                    output = self(input_tensor[0])\n",
    "                    output = output.view(1,-1)\n",
    "                    topv, topi = output.topk(1)\n",
    "                    topi = topi[0][0]\n",
    "                    if topi == P.n_letters - 1:\n",
    "                        break\n",
    "                    else:\n",
    "                        letter = P.all_letters[topi]\n",
    "                        output_password += letter\n",
    "                    input_tensor = P.passwordToInputTensor(letter).to(device)\n",
    "                    \n",
    "            generate_list.append(output_password)\n",
    "            \n",
    "        return generate_list\n",
    "\n",
    "    \n",
    "    def pre_train(self, input_line_tensor, target_line_tensor):\n",
    "        target_line_tensor.unsqueeze_(-1)\n",
    "        self.hidden = self.initHiddenZeros()\n",
    "\n",
    "        criterion = nn.NLLLoss()\n",
    "        optimizer = torch.optim.SGD(self.parameters(), lr=0.1)\n",
    "\n",
    "        self.zero_grad()\n",
    "        loss = torch.tensor(0, dtype = torch.float32, requires_grad = True, device = device)\n",
    "\n",
    "        for i in range(input_line_tensor.size(0)):\n",
    "            output = self(input_line_tensor[i])\n",
    "            output = output.view(1,-1)\n",
    "            l = criterion(output, target_line_tensor[i])\n",
    "            loss = loss + l\n",
    "\n",
    "        loss.backward()\n",
    "        optimizer.step()\n",
    "\n",
    "        return output, loss.item() / input_line_tensor.size(0)\n",
    "    \n",
    "    \n",
    "    def train(self, D, p, criterion = nn.NLLLoss(), learning_rate = 0.005, max_length = 18):\n",
    "        start_letter = p.passwords_string[random.randint(0,len(p.passwords_string) - 1)][0]\n",
    "        start_tensor = P.passwordToInputTensor(start_letter)\n",
    "        output_tensor = start_tensor\n",
    "        self.hidden = self.initHiddenZeros()\n",
    "       \n",
    "        output = start_tensor.to(device)\n",
    "        for c in range(max_length):\n",
    "            output = self(output[0])\n",
    "            output_tensor = torch.cat((output_tensor, torch.exp(output)), -3)\n",
    "            topv, topi = output.topk(1)\n",
    "            topi = topi[0][0]\n",
    "            if topi == P.n_letters - 1:\n",
    "                break\n",
    "            \n",
    "        output = D.discriminate(output_tensor)\n",
    "        target_tensor = torch.tensor([1], dtype = torch.long, device = device)\n",
    "        loss = -output\n",
    "        #loss = criterion(output, target_tensor)\n",
    "        loss.backward()\n",
    "        \n",
    "        for p in self.parameters():\n",
    "            p.data.add_(-learning_rate, p.grad.data)"
   ]
  },
  {
   "cell_type": "code",
   "execution_count": 5,
   "metadata": {},
   "outputs": [],
   "source": [
    "g = Generator(128).to(device)\n",
    "d = Discriminator(256).to(device)\n",
    "opt_g = torch.optim.Adam(g.parameters(), lr=0.0002, betas=(0.5, 0.999))\n",
    "opt_d = torch.optim.Adam(d.parameters(), lr=0.0002, betas=(0.5, 0.999))"
   ]
  },
  {
   "cell_type": "code",
   "execution_count": 6,
   "metadata": {},
   "outputs": [
    {
     "name": "stderr",
     "output_type": "stream",
     "text": [
      "INFO:root:Initializing passwords...\n",
      "DEBUG:root:Loading from existing json file...\n",
      "INFO:root:Done initializing passwords.\n"
     ]
    }
   ],
   "source": [
    "p = P()\n",
    "passwords = p.passIter()"
   ]
  },
  {
   "cell_type": "code",
   "execution_count": 7,
   "metadata": {},
   "outputs": [
    {
     "name": "stderr",
     "output_type": "stream",
     "text": [
      "INFO:root:---------- Pre-training generator ----------\n",
      "DEBUG:root:Iter: 0 Loss: 4.385491371154785\n"
     ]
    }
   ],
   "source": [
    "print_every = 100\n",
    "loss_trend = []\n",
    "logging.info(\"---------- Pre-training generator ----------\")\n",
    "for i in range(PRE_GEN_ITERS):\n",
    "    pas = next(passwords)\n",
    "    input_tensor = P.passwordToInputTensor(pas).to(device)\n",
    "    target_tensor = P.passwordToTargetTensor(pas).to(device)\n",
    "    output, loss = g.pre_train(input_tensor, target_tensor)\n",
    "    \n",
    "    if i % print_every == 0:\n",
    "        loss_trend.append(loss)\n",
    "        logging.debug(\"Iter: \"+ str(i)+\" Loss: \"+str(loss))"
   ]
  },
  {
   "cell_type": "code",
   "execution_count": 19,
   "metadata": {},
   "outputs": [
    {
     "name": "stderr",
     "output_type": "stream",
     "text": [
      "INFO:root:---------- Adversarial Training ----------\n",
      "\n",
      "DEBUG:root:----------------- 1 / 500 -----------------\n",
      "DEBUG:root:Training discriminator...\n",
      "DEBUG:root:Done. Classification accuracy: 0.5 Loss: -0.4934585690498352\n",
      "DEBUG:root:Training generator...\n",
      "DEBUG:root:Done training generator.\n",
      "\n",
      "DEBUG:root:----------------- 2 / 500 -----------------\n",
      "DEBUG:root:Training discriminator...\n",
      "DEBUG:root:Done. Classification accuracy: 0.5 Loss: -0.5321651697158813\n",
      "DEBUG:root:Training generator...\n",
      "DEBUG:root:Done training generator.\n",
      "\n",
      "DEBUG:root:----------------- 3 / 500 -----------------\n",
      "DEBUG:root:Training discriminator...\n",
      "DEBUG:root:Done. Classification accuracy: 0.5 Loss: 0.3566511273384094\n",
      "DEBUG:root:Training generator...\n",
      "DEBUG:root:Done training generator.\n",
      "\n",
      "DEBUG:root:----------------- 4 / 500 -----------------\n",
      "DEBUG:root:Training discriminator...\n"
     ]
    },
    {
     "name": "stdout",
     "output_type": "stream",
     "text": [
      "real loss: 1.0560625791549683\n",
      "fake loss: -1.5520808696746826\n",
      "g:0.00255972589366138\n",
      "real loss: 0.9930590391159058\n",
      "fake loss: -1.5620405673980713\n",
      "g:0.03681632876396179\n",
      "real loss: 1.5509690046310425\n",
      "fake loss: -1.2230209112167358\n",
      "g:0.02870303764939308\n",
      "real loss: 1.5222121477127075\n"
     ]
    },
    {
     "name": "stderr",
     "output_type": "stream",
     "text": [
      "DEBUG:root:Done. Classification accuracy: 0.5 Loss: -0.03203435242176056\n",
      "DEBUG:root:Training generator...\n",
      "DEBUG:root:Done training generator.\n",
      "\n",
      "DEBUG:root:----------------- 5 / 500 -----------------\n",
      "DEBUG:root:Training discriminator...\n",
      "DEBUG:root:Done. Classification accuracy: 0.5 Loss: -0.4895944595336914\n",
      "DEBUG:root:Training generator...\n",
      "DEBUG:root:Done training generator.\n",
      "\n",
      "DEBUG:root:----------------- 6 / 500 -----------------\n",
      "DEBUG:root:Training discriminator...\n",
      "DEBUG:root:Done. Classification accuracy: 0.5 Loss: -0.39134904742240906\n",
      "DEBUG:root:Training generator...\n",
      "DEBUG:root:Done training generator.\n",
      "\n",
      "DEBUG:root:----------------- 7 / 500 -----------------\n",
      "DEBUG:root:Training discriminator...\n",
      "DEBUG:root:Done. Classification accuracy: 0.5 Loss: -0.5030427575111389\n"
     ]
    },
    {
     "name": "stdout",
     "output_type": "stream",
     "text": [
      "fake loss: -1.5542702674865723\n",
      "g:2.376624797761906e-05\n",
      "real loss: 1.0234472751617432\n",
      "fake loss: -1.571798324584961\n",
      "g:0.05875660106539726\n",
      "real loss: 1.1757439374923706\n",
      "fake loss: -1.5728542804718018\n",
      "g:0.005761292297393084\n",
      "real loss: 1.0702487230300903\n",
      "fake loss: -1.5754199028015137\n",
      "g:0.002128405962139368\n"
     ]
    },
    {
     "name": "stderr",
     "output_type": "stream",
     "text": [
      "DEBUG:root:Training generator...\n",
      "DEBUG:root:Done training generator.\n",
      "\n",
      "DEBUG:root:----------------- 8 / 500 -----------------\n",
      "DEBUG:root:Training discriminator...\n",
      "DEBUG:root:Done. Classification accuracy: 0.5 Loss: -0.043970704078674316\n",
      "DEBUG:root:Training generator...\n",
      "DEBUG:root:Done training generator.\n",
      "\n",
      "DEBUG:root:----------------- 9 / 500 -----------------\n",
      "DEBUG:root:Training discriminator...\n",
      "DEBUG:root:Done. Classification accuracy: 0.5 Loss: -0.4410381615161896\n",
      "DEBUG:root:Training generator...\n",
      "DEBUG:root:Done training generator.\n",
      "\n",
      "DEBUG:root:----------------- 10 / 500 -----------------\n",
      "DEBUG:root:Training discriminator...\n",
      "DEBUG:root:Done. Classification accuracy: 0.5 Loss: -0.40543079376220703\n",
      "DEBUG:root:Training generator...\n",
      "DEBUG:root:Done training generator.\n",
      "\n",
      "DEBUG:root:----------------- 11 / 500 -----------------\n",
      "DEBUG:root:Training discriminator...\n"
     ]
    },
    {
     "name": "stdout",
     "output_type": "stream",
     "text": [
      "real loss: 1.5292423963546753\n",
      "fake loss: -1.581003189086914\n",
      "g:0.007790089584887028\n",
      "real loss: 1.1503548622131348\n",
      "fake loss: -1.5922679901123047\n",
      "g:0.0008749762200750411\n",
      "real loss: 1.1018588542938232\n",
      "fake loss: -1.60701322555542\n",
      "g:0.09972358494997025\n",
      "real loss: 1.1572099924087524\n",
      "fake loss: -1.6065787076950073\n",
      "g:0.0075252060778439045\n"
     ]
    },
    {
     "name": "stderr",
     "output_type": "stream",
     "text": [
      "DEBUG:root:Done. Classification accuracy: 0.5 Loss: -0.44184350967407227\n",
      "DEBUG:root:Training generator...\n",
      "DEBUG:root:Done training generator.\n",
      "\n",
      "DEBUG:root:----------------- 12 / 500 -----------------\n",
      "DEBUG:root:Training discriminator...\n",
      "DEBUG:root:Done. Classification accuracy: 0.5 Loss: -0.4959218204021454\n",
      "DEBUG:root:Training generator...\n",
      "DEBUG:root:Done training generator.\n",
      "\n",
      "DEBUG:root:----------------- 13 / 500 -----------------\n",
      "DEBUG:root:Training discriminator...\n",
      "DEBUG:root:Done. Classification accuracy: 0.5 Loss: -0.4670984745025635\n",
      "DEBUG:root:Training generator...\n",
      "DEBUG:root:Done training generator.\n",
      "\n",
      "DEBUG:root:----------------- 14 / 500 -----------------\n",
      "DEBUG:root:Training discriminator...\n",
      "DEBUG:root:Done. Classification accuracy: 0.5 Loss: -0.5025168657302856\n",
      "DEBUG:root:Training generator...\n",
      "DEBUG:root:Done training generator.\n",
      "\n",
      "DEBUG:root:----------------- 15 / 500 -----------------\n",
      "DEBUG:root:Training discriminator...\n",
      "DEBUG:root:Done. Classification accuracy: 0.5 Loss: -0.436786949634552\n",
      "DEBUG:root:Training generator...\n"
     ]
    },
    {
     "name": "stdout",
     "output_type": "stream",
     "text": [
      "real loss: 1.1120314598083496\n",
      "fake loss: -1.6097760200500488\n",
      "g:0.0018227447289973497\n",
      "real loss: 1.1485345363616943\n",
      "fake loss: -1.6173628568649292\n",
      "g:0.0017298351740464568\n",
      "real loss: 1.1042178869247437\n",
      "fake loss: -1.6211941242218018\n",
      "g:0.01445938553661108\n",
      "real loss: 1.1841027736663818\n",
      "fake loss: -1.6344012022018433\n",
      "g:0.013511493802070618\n"
     ]
    },
    {
     "name": "stderr",
     "output_type": "stream",
     "text": [
      "DEBUG:root:Done training generator.\n",
      "\n",
      "DEBUG:root:----------------- 16 / 500 -----------------\n",
      "DEBUG:root:Training discriminator...\n",
      "DEBUG:root:Done. Classification accuracy: 0.5 Loss: -0.4943471848964691\n",
      "DEBUG:root:Training generator...\n",
      "DEBUG:root:Done training generator.\n",
      "\n",
      "DEBUG:root:----------------- 17 / 500 -----------------\n",
      "DEBUG:root:Training discriminator...\n",
      "DEBUG:root:Done. Classification accuracy: 0.5 Loss: -0.008960998617112637\n",
      "DEBUG:root:Training generator...\n",
      "DEBUG:root:Done training generator.\n",
      "\n",
      "DEBUG:root:----------------- 18 / 500 -----------------\n",
      "DEBUG:root:Training discriminator...\n",
      "DEBUG:root:Done. Classification accuracy: 0.5 Loss: -0.1338059902191162\n",
      "DEBUG:root:Training generator...\n",
      "DEBUG:root:Done training generator.\n",
      "\n"
     ]
    },
    {
     "name": "stdout",
     "output_type": "stream",
     "text": [
      "real loss: 1.1436271667480469\n",
      "fake loss: -1.638043761253357\n",
      "g:6.941451283637434e-05\n",
      "real loss: 1.6368353366851807\n",
      "fake loss: -1.6457979679107666\n",
      "g:1.632479325053282e-06\n",
      "real loss: 1.159186840057373\n",
      "fake loss: -1.3086435794830322\n",
      "g:0.01565074548125267\n"
     ]
    },
    {
     "name": "stderr",
     "output_type": "stream",
     "text": [
      "DEBUG:root:----------------- 19 / 500 -----------------\n",
      "DEBUG:root:Training discriminator...\n",
      "DEBUG:root:Done. Classification accuracy: 0.5 Loss: -0.4797862768173218\n",
      "DEBUG:root:Training generator...\n",
      "DEBUG:root:Done training generator.\n",
      "\n",
      "DEBUG:root:----------------- 20 / 500 -----------------\n",
      "DEBUG:root:Training discriminator...\n",
      "DEBUG:root:Done. Classification accuracy: 0.5 Loss: -0.050986964255571365\n",
      "DEBUG:root:Training generator...\n",
      "DEBUG:root:Done training generator.\n",
      "\n",
      "DEBUG:root:----------------- 21 / 500 -----------------\n",
      "DEBUG:root:Training discriminator...\n",
      "DEBUG:root:Done. Classification accuracy: 0.5 Loss: -0.547685980796814\n",
      "DEBUG:root:Training generator...\n",
      "DEBUG:root:Done training generator.\n",
      "\n"
     ]
    },
    {
     "name": "stdout",
     "output_type": "stream",
     "text": [
      "real loss: 1.1685324907302856\n",
      "fake loss: -1.6599462032318115\n",
      "g:0.011627447791397572\n",
      "real loss: 1.6060891151428223\n",
      "fake loss: -1.6620765924453735\n",
      "g:0.005000511649996042\n",
      "real loss: 1.1160937547683716\n",
      "fake loss: -1.6663352251052856\n",
      "g:0.0025554695166647434\n"
     ]
    },
    {
     "name": "stderr",
     "output_type": "stream",
     "text": [
      "DEBUG:root:----------------- 22 / 500 -----------------\n",
      "DEBUG:root:Training discriminator...\n",
      "DEBUG:root:Done. Classification accuracy: 0.5 Loss: -0.5205541849136353\n",
      "DEBUG:root:Training generator...\n",
      "DEBUG:root:Done training generator.\n",
      "\n",
      "DEBUG:root:----------------- 23 / 500 -----------------\n",
      "DEBUG:root:Training discriminator...\n",
      "DEBUG:root:Done. Classification accuracy: 0.5 Loss: -0.08275429904460907\n",
      "DEBUG:root:Training generator...\n",
      "DEBUG:root:Done training generator.\n",
      "\n",
      "DEBUG:root:----------------- 24 / 500 -----------------\n",
      "DEBUG:root:Training discriminator...\n",
      "DEBUG:root:Done. Classification accuracy: 0.5 Loss: -0.002961738035082817\n",
      "DEBUG:root:Training generator...\n"
     ]
    },
    {
     "name": "stdout",
     "output_type": "stream",
     "text": [
      "real loss: 1.149679183959961\n",
      "fake loss: -1.6719889640808105\n",
      "g:0.0017556082457304\n",
      "real loss: 1.1645053625106812\n",
      "fake loss: -1.3028180599212646\n",
      "g:0.055558402091264725\n",
      "real loss: 1.6702814102172852\n",
      "fake loss: -1.68092942237854\n",
      "g:0.007686274126172066\n"
     ]
    },
    {
     "name": "stderr",
     "output_type": "stream",
     "text": [
      "DEBUG:root:Done training generator.\n",
      "\n",
      "DEBUG:root:----------------- 25 / 500 -----------------\n",
      "DEBUG:root:Training discriminator...\n",
      "DEBUG:root:Done. Classification accuracy: 0.5 Loss: -0.03172999620437622\n",
      "DEBUG:root:Training generator...\n",
      "DEBUG:root:Done training generator.\n",
      "\n",
      "DEBUG:root:----------------- 26 / 500 -----------------\n",
      "DEBUG:root:Training discriminator...\n",
      "DEBUG:root:Done. Classification accuracy: 0.5 Loss: -0.4228677451610565\n",
      "DEBUG:root:Training generator...\n",
      "DEBUG:root:Done training generator.\n",
      "\n",
      "DEBUG:root:----------------- 27 / 500 -----------------\n",
      "DEBUG:root:Training discriminator...\n",
      "DEBUG:root:Done. Classification accuracy: 0.5 Loss: -0.46095287799835205\n",
      "DEBUG:root:Training generator...\n"
     ]
    },
    {
     "name": "stdout",
     "output_type": "stream",
     "text": [
      "real loss: 1.643553614616394\n",
      "fake loss: -1.6804370880126953\n",
      "g:0.005153475794941187\n",
      "real loss: 1.2696809768676758\n",
      "fake loss: -1.7054164409637451\n",
      "g:0.012867708690464497\n",
      "real loss: 1.241837978363037\n",
      "fake loss: -1.713187575340271\n",
      "g:0.010396729223430157\n"
     ]
    },
    {
     "name": "stderr",
     "output_type": "stream",
     "text": [
      "DEBUG:root:Done training generator.\n",
      "\n",
      "DEBUG:root:----------------- 28 / 500 -----------------\n",
      "DEBUG:root:Training discriminator...\n",
      "DEBUG:root:Done. Classification accuracy: 0.5 Loss: -0.48882025480270386\n",
      "DEBUG:root:Training generator...\n",
      "DEBUG:root:Done training generator.\n",
      "\n",
      "DEBUG:root:----------------- 29 / 500 -----------------\n",
      "DEBUG:root:Training discriminator...\n",
      "DEBUG:root:Done. Classification accuracy: 0.5 Loss: -0.4714554250240326\n",
      "DEBUG:root:Training generator...\n",
      "DEBUG:root:Done training generator.\n",
      "\n",
      "DEBUG:root:----------------- 30 / 500 -----------------\n",
      "DEBUG:root:Training discriminator...\n",
      "DEBUG:root:Done. Classification accuracy: 0.5 Loss: -0.446995347738266\n",
      "DEBUG:root:Training generator...\n",
      "DEBUG:root:Done training generator.\n",
      "\n",
      "DEBUG:root:----------------- 31 / 500 -----------------\n",
      "DEBUG:root:Training discriminator...\n",
      "DEBUG:root:Done. Classification accuracy: 0.5 Loss: -0.489427775144577\n",
      "DEBUG:root:Training generator...\n"
     ]
    },
    {
     "name": "stdout",
     "output_type": "stream",
     "text": [
      "real loss: 1.2289828062057495\n",
      "fake loss: -1.7178031206130981\n",
      "g:7.426302772728377e-08\n",
      "real loss: 1.2468825578689575\n",
      "fake loss: -1.7286956310272217\n",
      "g:0.010357650928199291\n",
      "real loss: 1.2483489513397217\n",
      "fake loss: -1.7325761318206787\n",
      "g:0.037231843918561935\n",
      "real loss: 1.2423218488693237\n",
      "fake loss: -1.7329611778259277\n",
      "g:0.0012115663848817348\n"
     ]
    },
    {
     "name": "stderr",
     "output_type": "stream",
     "text": [
      "DEBUG:root:Done training generator.\n",
      "\n",
      "DEBUG:root:----------------- 32 / 500 -----------------\n",
      "DEBUG:root:Training discriminator...\n",
      "DEBUG:root:Done. Classification accuracy: 0.5 Loss: -0.037580788135528564\n",
      "DEBUG:root:Training generator...\n",
      "DEBUG:root:Done training generator.\n",
      "\n",
      "DEBUG:root:----------------- 33 / 500 -----------------\n",
      "DEBUG:root:Training discriminator...\n",
      "DEBUG:root:Done. Classification accuracy: 0.5 Loss: -0.42511335015296936\n",
      "DEBUG:root:Training generator...\n",
      "DEBUG:root:Done training generator.\n",
      "\n",
      "DEBUG:root:----------------- 34 / 500 -----------------\n",
      "DEBUG:root:Training discriminator...\n",
      "DEBUG:root:Done. Classification accuracy: 0.5 Loss: -0.35987839102745056\n",
      "DEBUG:root:Training generator...\n",
      "DEBUG:root:Done training generator.\n",
      "\n",
      "DEBUG:root:----------------- 35 / 500 -----------------\n",
      "DEBUG:root:Training discriminator...\n",
      "DEBUG:root:Done. Classification accuracy: 0.5 Loss: -0.5139719247817993\n"
     ]
    },
    {
     "name": "stdout",
     "output_type": "stream",
     "text": [
      "real loss: 1.7012728452682495\n",
      "fake loss: -1.7407019138336182\n",
      "g:0.0018482808955013752\n",
      "real loss: 1.3289568424224854\n",
      "fake loss: -1.7544560432434082\n",
      "g:0.0003858548298012465\n",
      "real loss: 1.3561244010925293\n",
      "fake loss: -1.7642991542816162\n",
      "g:0.04829636961221695\n",
      "real loss: 1.239190697669983\n",
      "fake loss: -1.765396237373352\n",
      "g:0.01223363820463419\n"
     ]
    },
    {
     "name": "stderr",
     "output_type": "stream",
     "text": [
      "DEBUG:root:Training generator...\n",
      "DEBUG:root:Done training generator.\n",
      "\n",
      "DEBUG:root:----------------- 36 / 500 -----------------\n",
      "DEBUG:root:Training discriminator...\n",
      "DEBUG:root:Done. Classification accuracy: 0.5 Loss: -0.3901118338108063\n",
      "DEBUG:root:Training generator...\n",
      "DEBUG:root:Done training generator.\n",
      "\n",
      "DEBUG:root:----------------- 37 / 500 -----------------\n",
      "DEBUG:root:Training discriminator...\n",
      "DEBUG:root:Done. Classification accuracy: 0.5 Loss: -0.5581383109092712\n",
      "DEBUG:root:Training generator...\n",
      "DEBUG:root:Done training generator.\n",
      "\n",
      "DEBUG:root:----------------- 38 / 500 -----------------\n",
      "DEBUG:root:Training discriminator...\n",
      "DEBUG:root:Done. Classification accuracy: 0.5 Loss: -0.4855037033557892\n",
      "DEBUG:root:Training generator...\n",
      "DEBUG:root:Done training generator.\n",
      "\n"
     ]
    },
    {
     "name": "stdout",
     "output_type": "stream",
     "text": [
      "real loss: 1.360602855682373\n",
      "fake loss: -1.7671899795532227\n",
      "g:0.01647530309855938\n",
      "real loss: 1.2045272588729858\n",
      "fake loss: -1.7681357860565186\n",
      "g:0.005470206029713154\n",
      "real loss: 1.281010627746582\n",
      "fake loss: -1.771446943283081\n",
      "g:0.00493262242525816\n"
     ]
    },
    {
     "name": "stderr",
     "output_type": "stream",
     "text": [
      "DEBUG:root:----------------- 39 / 500 -----------------\n",
      "DEBUG:root:Training discriminator...\n",
      "DEBUG:root:Done. Classification accuracy: 0.5 Loss: -0.47442397475242615\n",
      "DEBUG:root:Training generator...\n",
      "DEBUG:root:Done training generator.\n",
      "\n",
      "DEBUG:root:----------------- 40 / 500 -----------------\n",
      "DEBUG:root:Training discriminator...\n",
      "DEBUG:root:Done. Classification accuracy: 0.5 Loss: -0.37441885471343994\n",
      "DEBUG:root:Training generator...\n",
      "DEBUG:root:Done training generator.\n",
      "\n",
      "DEBUG:root:----------------- 41 / 500 -----------------\n",
      "DEBUG:root:Training discriminator...\n",
      "DEBUG:root:Done. Classification accuracy: 0.5 Loss: -0.5367020964622498\n",
      "DEBUG:root:Training generator...\n"
     ]
    },
    {
     "name": "stdout",
     "output_type": "stream",
     "text": [
      "real loss: 1.3080246448516846\n",
      "fake loss: -1.7824575901031494\n",
      "g:8.976538083516061e-06\n",
      "real loss: 1.415322184562683\n",
      "fake loss: -1.7934411764144897\n",
      "g:0.003700143424794078\n",
      "real loss: 1.2640094757080078\n",
      "fake loss: -1.808321237564087\n",
      "g:0.007609680760651827\n"
     ]
    },
    {
     "name": "stderr",
     "output_type": "stream",
     "text": [
      "DEBUG:root:Done training generator.\n",
      "\n",
      "DEBUG:root:----------------- 42 / 500 -----------------\n",
      "DEBUG:root:Training discriminator...\n",
      "DEBUG:root:Done. Classification accuracy: 0.5 Loss: -0.541113555431366\n",
      "DEBUG:root:Training generator...\n",
      "DEBUG:root:Done training generator.\n",
      "\n",
      "DEBUG:root:----------------- 43 / 500 -----------------\n",
      "DEBUG:root:Training discriminator...\n",
      "DEBUG:root:Done. Classification accuracy: 0.5 Loss: -0.3579160273075104\n",
      "DEBUG:root:Training generator...\n",
      "DEBUG:root:Done training generator.\n",
      "\n",
      "DEBUG:root:----------------- 44 / 500 -----------------\n",
      "DEBUG:root:Training discriminator...\n",
      "DEBUG:root:Done. Classification accuracy: 0.5 Loss: -0.44918182492256165\n",
      "DEBUG:root:Training generator...\n"
     ]
    },
    {
     "name": "stdout",
     "output_type": "stream",
     "text": [
      "real loss: 1.2747955322265625\n",
      "fake loss: -1.8178675174713135\n",
      "g:0.0019584011752158403\n",
      "real loss: 1.4257820844650269\n",
      "fake loss: -1.8287811279296875\n",
      "g:0.04508300870656967\n",
      "real loss: 1.349299669265747\n",
      "fake loss: -1.8218332529067993\n",
      "g:0.023351745679974556\n"
     ]
    },
    {
     "name": "stderr",
     "output_type": "stream",
     "text": [
      "DEBUG:root:Done training generator.\n",
      "\n",
      "DEBUG:root:----------------- 45 / 500 -----------------\n",
      "DEBUG:root:Training discriminator...\n",
      "DEBUG:root:Done. Classification accuracy: 0.5 Loss: -0.5392462015151978\n",
      "DEBUG:root:Training generator...\n",
      "DEBUG:root:Done training generator.\n",
      "\n",
      "DEBUG:root:----------------- 46 / 500 -----------------\n",
      "DEBUG:root:Training discriminator...\n",
      "DEBUG:root:Done. Classification accuracy: 0.5 Loss: -0.48369133472442627\n",
      "DEBUG:root:Training generator...\n",
      "DEBUG:root:Done training generator.\n",
      "\n",
      "DEBUG:root:----------------- 47 / 500 -----------------\n",
      "DEBUG:root:Training discriminator...\n",
      "DEBUG:root:Done. Classification accuracy: 0.5 Loss: -0.5741696357727051\n",
      "DEBUG:root:Training generator...\n",
      "DEBUG:root:Done training generator.\n",
      "\n",
      "DEBUG:root:----------------- 48 / 500 -----------------\n",
      "DEBUG:root:Training discriminator...\n"
     ]
    },
    {
     "name": "stdout",
     "output_type": "stream",
     "text": [
      "real loss: 1.2633326053619385\n",
      "fake loss: -1.8278101682662964\n",
      "g:0.02523137629032135\n",
      "real loss: 1.3250312805175781\n",
      "fake loss: -1.8187644481658936\n",
      "g:0.010041818954050541\n",
      "real loss: 1.2608180046081543\n",
      "fake loss: -1.8384807109832764\n",
      "g:0.003493067342787981\n",
      "real loss: 1.4117388725280762\n"
     ]
    },
    {
     "name": "stderr",
     "output_type": "stream",
     "text": [
      "DEBUG:root:Done. Classification accuracy: 0.5 Loss: -0.424283504486084\n",
      "DEBUG:root:Training generator...\n",
      "DEBUG:root:Done training generator.\n",
      "\n",
      "DEBUG:root:----------------- 49 / 500 -----------------\n",
      "DEBUG:root:Training discriminator...\n",
      "DEBUG:root:Done. Classification accuracy: 0.5 Loss: -0.4396333396434784\n",
      "DEBUG:root:Training generator...\n",
      "DEBUG:root:Done training generator.\n",
      "\n",
      "DEBUG:root:----------------- 50 / 500 -----------------\n",
      "DEBUG:root:Training discriminator...\n",
      "DEBUG:root:Done. Classification accuracy: 0.5 Loss: -0.4431913197040558\n",
      "DEBUG:root:Training generator...\n",
      "DEBUG:root:Done training generator.\n",
      "\n",
      "DEBUG:root:----------------- 51 / 500 -----------------\n",
      "DEBUG:root:Training discriminator...\n"
     ]
    },
    {
     "name": "stdout",
     "output_type": "stream",
     "text": [
      "fake loss: -1.8406994342803955\n",
      "g:0.0046770633198320866\n",
      "real loss: 1.380966305732727\n",
      "fake loss: -1.863254427909851\n",
      "g:0.04265477880835533\n",
      "real loss: 1.4180779457092285\n",
      "fake loss: -1.8656389713287354\n",
      "g:0.00436969893053174\n",
      "real loss: 1.3313413858413696\n",
      "fake loss: -1.8773466348648071\n"
     ]
    },
    {
     "name": "stderr",
     "output_type": "stream",
     "text": [
      "DEBUG:root:Done. Classification accuracy: 0.5 Loss: -0.5329318046569824\n",
      "DEBUG:root:Training generator...\n",
      "DEBUG:root:Done training generator.\n",
      "\n",
      "DEBUG:root:----------------- 52 / 500 -----------------\n",
      "DEBUG:root:Training discriminator...\n",
      "DEBUG:root:Done. Classification accuracy: 0.5 Loss: -0.5599064826965332\n",
      "DEBUG:root:Training generator...\n",
      "DEBUG:root:Done training generator.\n",
      "\n",
      "DEBUG:root:----------------- 53 / 500 -----------------\n",
      "DEBUG:root:Training discriminator...\n",
      "DEBUG:root:Done. Classification accuracy: 0.5 Loss: -0.5572776198387146\n",
      "DEBUG:root:Training generator...\n",
      "DEBUG:root:Done training generator.\n",
      "\n",
      "DEBUG:root:----------------- 54 / 500 -----------------\n",
      "DEBUG:root:Training discriminator...\n"
     ]
    },
    {
     "name": "stdout",
     "output_type": "stream",
     "text": [
      "g:0.013073419220745564\n",
      "real loss: 1.3235784769058228\n",
      "fake loss: -1.88355553150177\n",
      "g:7.054336310829967e-05\n",
      "real loss: 1.3222134113311768\n",
      "fake loss: -1.8917813301086426\n",
      "g:0.012290281243622303\n",
      "real loss: 1.354151725769043\n",
      "fake loss: -1.5521254539489746\n"
     ]
    },
    {
     "name": "stderr",
     "output_type": "stream",
     "text": [
      "DEBUG:root:Done. Classification accuracy: 0.5 Loss: -0.19541436433792114\n",
      "DEBUG:root:Training generator...\n",
      "DEBUG:root:Done training generator.\n",
      "\n",
      "DEBUG:root:----------------- 55 / 500 -----------------\n",
      "DEBUG:root:Training discriminator...\n",
      "DEBUG:root:Done. Classification accuracy: 0.5 Loss: -0.5379651188850403\n",
      "DEBUG:root:Training generator...\n",
      "DEBUG:root:Done training generator.\n",
      "\n",
      "DEBUG:root:----------------- 56 / 500 -----------------\n",
      "DEBUG:root:Training discriminator...\n",
      "DEBUG:root:Done. Classification accuracy: 0.5 Loss: -0.3926982581615448\n",
      "DEBUG:root:Training generator...\n",
      "DEBUG:root:Done training generator.\n",
      "\n",
      "DEBUG:root:----------------- 57 / 500 -----------------\n",
      "DEBUG:root:Training discriminator...\n"
     ]
    },
    {
     "name": "stdout",
     "output_type": "stream",
     "text": [
      "g:0.0025593640748411417\n",
      "real loss: 1.369541883468628\n",
      "fake loss: -1.9092007875442505\n",
      "g:0.0016937667969614267\n",
      "real loss: 1.5217564105987549\n",
      "fake loss: -1.9189300537109375\n",
      "g:0.004475380759686232\n",
      "real loss: 1.3529906272888184\n",
      "fake loss: -1.9270305633544922\n"
     ]
    },
    {
     "name": "stderr",
     "output_type": "stream",
     "text": [
      "DEBUG:root:Done. Classification accuracy: 0.5 Loss: -0.5694005489349365\n",
      "DEBUG:root:Training generator...\n",
      "DEBUG:root:Done training generator.\n",
      "\n",
      "DEBUG:root:----------------- 58 / 500 -----------------\n",
      "DEBUG:root:Training discriminator...\n",
      "DEBUG:root:Done. Classification accuracy: 0.5 Loss: -0.4643555283546448\n",
      "DEBUG:root:Training generator...\n",
      "DEBUG:root:Done training generator.\n",
      "\n",
      "DEBUG:root:----------------- 59 / 500 -----------------\n",
      "DEBUG:root:Training discriminator...\n",
      "DEBUG:root:Done. Classification accuracy: 0.5 Loss: -0.46781420707702637\n",
      "DEBUG:root:Training generator...\n",
      "DEBUG:root:Done training generator.\n",
      "\n",
      "DEBUG:root:----------------- 60 / 500 -----------------\n",
      "DEBUG:root:Training discriminator...\n"
     ]
    },
    {
     "name": "stdout",
     "output_type": "stream",
     "text": [
      "g:0.004639376420527697\n",
      "real loss: 1.4685559272766113\n",
      "fake loss: -1.9332292079925537\n",
      "g:0.0003177648759447038\n",
      "real loss: 1.472821593284607\n",
      "fake loss: -1.941552758216858\n",
      "g:0.0009169466211460531\n",
      "real loss: 1.5533572435379028\n",
      "fake loss: -1.951193928718567\n",
      "g:0.006553504150360823\n"
     ]
    },
    {
     "name": "stderr",
     "output_type": "stream",
     "text": [
      "DEBUG:root:Done. Classification accuracy: 0.5 Loss: -0.39128318428993225\n",
      "DEBUG:root:Training generator...\n",
      "DEBUG:root:Done training generator.\n",
      "\n",
      "DEBUG:root:----------------- 61 / 500 -----------------\n",
      "DEBUG:root:Training discriminator...\n",
      "DEBUG:root:Done. Classification accuracy: 0.5 Loss: -0.5143698453903198\n",
      "DEBUG:root:Training generator...\n",
      "DEBUG:root:Done training generator.\n",
      "\n",
      "DEBUG:root:----------------- 62 / 500 -----------------\n",
      "DEBUG:root:Training discriminator...\n",
      "DEBUG:root:Done. Classification accuracy: 0.5 Loss: -0.4402391314506531\n",
      "DEBUG:root:Training generator...\n",
      "DEBUG:root:Done training generator.\n",
      "\n",
      "DEBUG:root:----------------- 63 / 500 -----------------\n",
      "DEBUG:root:Training discriminator...\n",
      "DEBUG:root:Done. Classification accuracy: 0.5 Loss: -0.4994940161705017\n",
      "DEBUG:root:Training generator...\n",
      "DEBUG:root:Done training generator.\n",
      "\n"
     ]
    },
    {
     "name": "stdout",
     "output_type": "stream",
     "text": [
      "real loss: 1.4295481443405151\n",
      "fake loss: -1.9483875036239624\n",
      "g:0.0044695050455629826\n",
      "real loss: 1.5082635879516602\n",
      "fake loss: -1.9616951942443848\n",
      "g:0.013192462734878063\n",
      "real loss: 1.4633145332336426\n",
      "fake loss: -1.9690932035446167\n",
      "g:0.0062846411019563675\n"
     ]
    },
    {
     "name": "stderr",
     "output_type": "stream",
     "text": [
      "DEBUG:root:----------------- 64 / 500 -----------------\n",
      "DEBUG:root:Training discriminator...\n",
      "DEBUG:root:Done. Classification accuracy: 0.5 Loss: -0.5271804332733154\n",
      "DEBUG:root:Training generator...\n",
      "DEBUG:root:Done training generator.\n",
      "\n",
      "DEBUG:root:----------------- 65 / 500 -----------------\n",
      "DEBUG:root:Training discriminator...\n",
      "DEBUG:root:Done. Classification accuracy: 0.5 Loss: -0.47445639967918396\n",
      "DEBUG:root:Training generator...\n",
      "DEBUG:root:Done training generator.\n",
      "\n",
      "DEBUG:root:----------------- 66 / 500 -----------------\n",
      "DEBUG:root:Training discriminator...\n",
      "DEBUG:root:Done. Classification accuracy: 0.5 Loss: -0.5575137734413147\n",
      "DEBUG:root:Training generator...\n"
     ]
    },
    {
     "name": "stdout",
     "output_type": "stream",
     "text": [
      "real loss: 1.4372010231018066\n",
      "fake loss: -1.9711401462554932\n",
      "g:0.006758710369467735\n",
      "real loss: 1.501375675201416\n",
      "fake loss: -1.9847021102905273\n",
      "g:0.008870049379765987\n",
      "real loss: 1.435408592224121\n",
      "fake loss: -1.9930577278137207\n",
      "g:0.00013537751510739326\n"
     ]
    },
    {
     "name": "stderr",
     "output_type": "stream",
     "text": [
      "DEBUG:root:Done training generator.\n",
      "\n",
      "DEBUG:root:----------------- 67 / 500 -----------------\n",
      "DEBUG:root:Training discriminator...\n",
      "DEBUG:root:Done. Classification accuracy: 0.5 Loss: 0.010701497085392475\n",
      "DEBUG:root:Training generator...\n",
      "DEBUG:root:Done training generator.\n",
      "\n",
      "DEBUG:root:----------------- 68 / 500 -----------------\n",
      "DEBUG:root:Training discriminator...\n",
      "DEBUG:root:Done. Classification accuracy: 0.5 Loss: -0.5239992141723633\n",
      "DEBUG:root:Training generator...\n",
      "DEBUG:root:Done training generator.\n",
      "\n",
      "DEBUG:root:----------------- 69 / 500 -----------------\n",
      "DEBUG:root:Training discriminator...\n",
      "DEBUG:root:Done. Classification accuracy: 0.5 Loss: -0.561774492263794\n",
      "DEBUG:root:Training generator...\n"
     ]
    },
    {
     "name": "stdout",
     "output_type": "stream",
     "text": [
      "real loss: 1.9998666048049927\n",
      "fake loss: -2.0046463012695312\n",
      "g:0.01548119354993105\n",
      "real loss: 1.4856935739517212\n",
      "fake loss: -2.009732246398926\n",
      "g:3.945867865695618e-05\n",
      "real loss: 1.455661654472351\n",
      "fake loss: -2.0185935497283936\n",
      "g:0.0011574217351153493\n"
     ]
    },
    {
     "name": "stderr",
     "output_type": "stream",
     "text": [
      "DEBUG:root:Done training generator.\n",
      "\n",
      "DEBUG:root:----------------- 70 / 500 -----------------\n",
      "DEBUG:root:Training discriminator...\n",
      "DEBUG:root:Done. Classification accuracy: 0.5 Loss: -0.522852897644043\n",
      "DEBUG:root:Training generator...\n",
      "DEBUG:root:Done training generator.\n",
      "\n",
      "DEBUG:root:----------------- 71 / 500 -----------------\n",
      "DEBUG:root:Training discriminator...\n",
      "DEBUG:root:Done. Classification accuracy: 0.5 Loss: -0.4983917772769928\n",
      "DEBUG:root:Training generator...\n",
      "DEBUG:root:Done training generator.\n",
      "\n",
      "DEBUG:root:----------------- 72 / 500 -----------------\n",
      "DEBUG:root:Training discriminator...\n",
      "DEBUG:root:Done. Classification accuracy: 0.5 Loss: -0.44515135884284973\n",
      "DEBUG:root:Training generator...\n",
      "DEBUG:root:Done training generator.\n",
      "\n",
      "DEBUG:root:----------------- 73 / 500 -----------------\n",
      "DEBUG:root:Training discriminator...\n"
     ]
    },
    {
     "name": "stdout",
     "output_type": "stream",
     "text": [
      "real loss: 1.5057661533355713\n",
      "fake loss: -2.02986216545105\n",
      "g:0.0012430925853550434\n",
      "real loss: 1.538435459136963\n",
      "fake loss: -2.0396335124969482\n",
      "g:0.0028062621131539345\n",
      "real loss: 1.5827556848526\n",
      "fake loss: -2.047856569290161\n",
      "g:0.019949529320001602\n"
     ]
    },
    {
     "name": "stderr",
     "output_type": "stream",
     "text": [
      "DEBUG:root:Done. Classification accuracy: 0.5 Loss: -0.007659259717911482\n",
      "DEBUG:root:Training generator...\n",
      "DEBUG:root:Done training generator.\n",
      "\n",
      "DEBUG:root:----------------- 74 / 500 -----------------\n",
      "DEBUG:root:Training discriminator...\n",
      "DEBUG:root:Done. Classification accuracy: 0.5 Loss: -0.48432037234306335\n",
      "DEBUG:root:Training generator...\n",
      "DEBUG:root:Done training generator.\n",
      "\n",
      "DEBUG:root:----------------- 75 / 500 -----------------\n",
      "DEBUG:root:Training discriminator...\n",
      "DEBUG:root:Done. Classification accuracy: 0.5 Loss: -0.4416281580924988\n",
      "DEBUG:root:Training generator...\n",
      "DEBUG:root:Done training generator.\n",
      "\n",
      "DEBUG:root:----------------- 76 / 500 -----------------\n",
      "DEBUG:root:Training discriminator...\n"
     ]
    },
    {
     "name": "stdout",
     "output_type": "stream",
     "text": [
      "real loss: 1.6888959407806396\n",
      "fake loss: -1.700951337814331\n",
      "g:0.004396137315779924\n",
      "real loss: 1.5685110092163086\n",
      "fake loss: -2.05584979057312\n",
      "g:0.003018415067344904\n",
      "real loss: 1.6215534210205078\n",
      "fake loss: -2.066157341003418\n",
      "g:0.0029757602605968714\n",
      "real loss: 1.58535897731781\n"
     ]
    },
    {
     "name": "stderr",
     "output_type": "stream",
     "text": [
      "DEBUG:root:Done. Classification accuracy: 0.5 Loss: -0.48528093099594116\n",
      "DEBUG:root:Training generator...\n",
      "DEBUG:root:Done training generator.\n",
      "\n",
      "DEBUG:root:----------------- 77 / 500 -----------------\n",
      "DEBUG:root:Training discriminator...\n",
      "DEBUG:root:Done. Classification accuracy: 0.5 Loss: -0.4604441821575165\n",
      "DEBUG:root:Training generator...\n",
      "DEBUG:root:Done training generator.\n",
      "\n",
      "DEBUG:root:----------------- 78 / 500 -----------------\n",
      "DEBUG:root:Training discriminator...\n",
      "DEBUG:root:Done. Classification accuracy: 0.5 Loss: -0.4203210175037384\n",
      "DEBUG:root:Training generator...\n",
      "DEBUG:root:Done training generator.\n",
      "\n"
     ]
    },
    {
     "name": "stdout",
     "output_type": "stream",
     "text": [
      "fake loss: -2.075108528137207\n",
      "g:0.004468612372875214\n",
      "real loss: 1.6187189817428589\n",
      "fake loss: -2.079427480697632\n",
      "g:0.0002643148472998291\n",
      "real loss: 1.658379316329956\n",
      "fake loss: -2.0802762508392334\n",
      "g:0.0015759315574541688\n"
     ]
    },
    {
     "name": "stderr",
     "output_type": "stream",
     "text": [
      "DEBUG:root:----------------- 79 / 500 -----------------\n",
      "DEBUG:root:Training discriminator...\n",
      "DEBUG:root:Done. Classification accuracy: 0.5 Loss: -0.48713669180870056\n",
      "DEBUG:root:Training generator...\n",
      "DEBUG:root:Done training generator.\n",
      "\n",
      "DEBUG:root:----------------- 80 / 500 -----------------\n",
      "DEBUG:root:Training discriminator...\n",
      "DEBUG:root:Done. Classification accuracy: 0.5 Loss: -0.4594247043132782\n",
      "DEBUG:root:Training generator...\n",
      "DEBUG:root:Done training generator.\n",
      "\n",
      "DEBUG:root:----------------- 81 / 500 -----------------\n",
      "DEBUG:root:Training discriminator...\n",
      "DEBUG:root:Done. Classification accuracy: 0.5 Loss: -0.5398346781730652\n",
      "DEBUG:root:Training generator...\n",
      "DEBUG:root:Done training generator.\n",
      "\n",
      "DEBUG:root:----------------- 82 / 500 -----------------\n",
      "DEBUG:root:Training discriminator...\n"
     ]
    },
    {
     "name": "stdout",
     "output_type": "stream",
     "text": [
      "real loss: 1.622657299041748\n",
      "fake loss: -2.1112804412841797\n",
      "g:0.0014864394906908274\n",
      "real loss: 1.6236227750778198\n",
      "fake loss: -2.128371477127075\n",
      "g:0.045323990285396576\n",
      "real loss: 1.5837678909301758\n",
      "fake loss: -2.125357151031494\n",
      "g:0.0017545993905514479\n"
     ]
    },
    {
     "name": "stderr",
     "output_type": "stream",
     "text": [
      "DEBUG:root:Done. Classification accuracy: 0.5 Loss: -0.5321383476257324\n",
      "DEBUG:root:Training generator...\n",
      "DEBUG:root:Done training generator.\n",
      "\n",
      "DEBUG:root:----------------- 83 / 500 -----------------\n",
      "DEBUG:root:Training discriminator...\n",
      "DEBUG:root:Done. Classification accuracy: 0.5 Loss: -0.17898881435394287\n",
      "DEBUG:root:Training generator...\n",
      "DEBUG:root:Done training generator.\n",
      "\n",
      "DEBUG:root:----------------- 84 / 500 -----------------\n",
      "DEBUG:root:Training discriminator...\n",
      "DEBUG:root:Done. Classification accuracy: 0.5 Loss: -0.4467925727367401\n"
     ]
    },
    {
     "name": "stdout",
     "output_type": "stream",
     "text": [
      "real loss: 1.583772897720337\n",
      "fake loss: -2.115915298461914\n",
      "g:4.032626748085022e-06\n",
      "real loss: 1.6120164394378662\n",
      "fake loss: -1.7912100553512573\n",
      "g:0.00020479493832681328\n",
      "real loss: 1.6484659910202026\n",
      "fake loss: -2.1517434120178223\n",
      "g:0.05648484826087952\n"
     ]
    },
    {
     "name": "stderr",
     "output_type": "stream",
     "text": [
      "DEBUG:root:Training generator...\n",
      "DEBUG:root:Done training generator.\n",
      "\n",
      "DEBUG:root:----------------- 85 / 500 -----------------\n",
      "DEBUG:root:Training discriminator...\n",
      "DEBUG:root:Done. Classification accuracy: 0.5 Loss: -0.4454420208930969\n",
      "DEBUG:root:Training generator...\n",
      "DEBUG:root:Done training generator.\n",
      "\n",
      "DEBUG:root:----------------- 86 / 500 -----------------\n",
      "DEBUG:root:Training discriminator...\n",
      "DEBUG:root:Done. Classification accuracy: 0.5 Loss: -0.4444526135921478\n",
      "DEBUG:root:Training generator...\n",
      "DEBUG:root:Done training generator.\n",
      "\n",
      "DEBUG:root:----------------- 87 / 500 -----------------\n",
      "DEBUG:root:Training discriminator...\n"
     ]
    },
    {
     "name": "stdout",
     "output_type": "stream",
     "text": [
      "real loss: 1.706229567527771\n",
      "fake loss: -2.1517333984375\n",
      "g:6.179748015711084e-05\n",
      "real loss: 1.7163746356964111\n",
      "fake loss: -2.161081075668335\n",
      "g:0.00025383508182130754\n",
      "real loss: 1.5932254791259766\n",
      "fake loss: -2.1737923622131348\n"
     ]
    },
    {
     "name": "stderr",
     "output_type": "stream",
     "text": [
      "DEBUG:root:Done. Classification accuracy: 0.5 Loss: -0.5791139602661133\n",
      "DEBUG:root:Training generator...\n",
      "DEBUG:root:Done training generator.\n",
      "\n",
      "DEBUG:root:----------------- 88 / 500 -----------------\n",
      "DEBUG:root:Training discriminator...\n",
      "DEBUG:root:Done. Classification accuracy: 0.5 Loss: -0.5406688451766968\n",
      "DEBUG:root:Training generator...\n",
      "DEBUG:root:Done training generator.\n",
      "\n",
      "DEBUG:root:----------------- 89 / 500 -----------------\n",
      "DEBUG:root:Training discriminator...\n",
      "DEBUG:root:Done. Classification accuracy: 0.5 Loss: -0.5179510116577148\n",
      "DEBUG:root:Training generator...\n"
     ]
    },
    {
     "name": "stdout",
     "output_type": "stream",
     "text": [
      "g:0.0014529050095006824\n",
      "real loss: 1.644338846206665\n",
      "fake loss: -2.185025453567505\n",
      "g:1.775619421096053e-05\n",
      "real loss: 1.6713787317276\n",
      "fake loss: -2.190744638442993\n",
      "g:0.0014149107737466693\n"
     ]
    },
    {
     "name": "stderr",
     "output_type": "stream",
     "text": [
      "DEBUG:root:Done training generator.\n",
      "\n",
      "DEBUG:root:----------------- 90 / 500 -----------------\n",
      "DEBUG:root:Training discriminator...\n",
      "DEBUG:root:Done. Classification accuracy: 0.5 Loss: -0.49734458327293396\n",
      "DEBUG:root:Training generator...\n",
      "DEBUG:root:Done training generator.\n",
      "\n",
      "DEBUG:root:----------------- 91 / 500 -----------------\n",
      "DEBUG:root:Training discriminator...\n",
      "DEBUG:root:Done. Classification accuracy: 0.5 Loss: -0.4138134717941284\n",
      "DEBUG:root:Training generator...\n",
      "DEBUG:root:Done training generator.\n",
      "\n",
      "DEBUG:root:----------------- 92 / 500 -----------------\n",
      "DEBUG:root:Training discriminator...\n",
      "DEBUG:root:Done. Classification accuracy: 0.5 Loss: -0.011920854449272156\n",
      "DEBUG:root:Training generator...\n",
      "DEBUG:root:Done training generator.\n",
      "\n"
     ]
    },
    {
     "name": "stdout",
     "output_type": "stream",
     "text": [
      "real loss: 1.6836929321289062\n",
      "fake loss: -2.2164902687072754\n",
      "g:0.035452742129564285\n",
      "real loss: 1.798136830329895\n",
      "fake loss: -2.221287727355957\n",
      "g:0.0093374103307724\n",
      "real loss: 2.2099967002868652\n",
      "fake loss: -2.2219395637512207\n",
      "g:2.2009440726833418e-05\n"
     ]
    },
    {
     "name": "stderr",
     "output_type": "stream",
     "text": [
      "DEBUG:root:----------------- 93 / 500 -----------------\n",
      "DEBUG:root:Training discriminator...\n",
      "DEBUG:root:Done. Classification accuracy: 0.5 Loss: -0.5032961964607239\n",
      "DEBUG:root:Training generator...\n",
      "DEBUG:root:Done training generator.\n",
      "\n",
      "DEBUG:root:----------------- 94 / 500 -----------------\n",
      "DEBUG:root:Training discriminator...\n",
      "DEBUG:root:Done. Classification accuracy: 0.5 Loss: -0.5303655862808228\n",
      "DEBUG:root:Training generator...\n",
      "DEBUG:root:Done training generator.\n",
      "\n",
      "DEBUG:root:----------------- 95 / 500 -----------------\n",
      "DEBUG:root:Training discriminator...\n",
      "DEBUG:root:Done. Classification accuracy: 0.5 Loss: -0.5742835998535156\n",
      "DEBUG:root:Training generator...\n",
      "DEBUG:root:Done training generator.\n",
      "\n",
      "DEBUG:root:----------------- 96 / 500 -----------------\n",
      "DEBUG:root:Training discriminator...\n"
     ]
    },
    {
     "name": "stdout",
     "output_type": "stream",
     "text": [
      "real loss: 1.7259536981582642\n",
      "fake loss: -2.2316527366638184\n",
      "g:0.002402836922556162\n",
      "real loss: 1.7127704620361328\n",
      "fake loss: -2.2472784519195557\n",
      "g:0.00414242735132575\n",
      "real loss: 1.6871238946914673\n",
      "fake loss: -2.262371778488159\n",
      "g:0.0009642633376643062\n",
      "real loss: 2.2434029579162598\n"
     ]
    },
    {
     "name": "stderr",
     "output_type": "stream",
     "text": [
      "DEBUG:root:Done. Classification accuracy: 0.5 Loss: -0.02189602702856064\n",
      "DEBUG:root:Training generator...\n",
      "DEBUG:root:Done training generator.\n",
      "\n",
      "DEBUG:root:----------------- 97 / 500 -----------------\n",
      "DEBUG:root:Training discriminator...\n",
      "DEBUG:root:Done. Classification accuracy: 0.5 Loss: -0.5099828839302063\n",
      "DEBUG:root:Training generator...\n",
      "DEBUG:root:Done training generator.\n",
      "\n",
      "DEBUG:root:----------------- 98 / 500 -----------------\n",
      "DEBUG:root:Training discriminator...\n",
      "DEBUG:root:Done. Classification accuracy: 0.5 Loss: -0.42555227875709534\n",
      "DEBUG:root:Training generator...\n",
      "DEBUG:root:Done training generator.\n",
      "\n"
     ]
    },
    {
     "name": "stdout",
     "output_type": "stream",
     "text": [
      "fake loss: -2.2703282833099365\n",
      "g:0.005029298365116119\n",
      "real loss: 1.7667200565338135\n",
      "fake loss: -2.279425621032715\n",
      "g:0.002722695702686906\n",
      "real loss: 1.8426556587219238\n",
      "fake loss: -2.2711527347564697\n",
      "g:0.002944809151813388\n"
     ]
    },
    {
     "name": "stderr",
     "output_type": "stream",
     "text": [
      "DEBUG:root:----------------- 99 / 500 -----------------\n",
      "DEBUG:root:Training discriminator...\n",
      "DEBUG:root:Done. Classification accuracy: 0.5 Loss: -0.5215318202972412\n",
      "DEBUG:root:Training generator...\n",
      "DEBUG:root:Done training generator.\n",
      "\n",
      "DEBUG:root:----------------- 100 / 500 -----------------\n",
      "DEBUG:root:Training discriminator...\n",
      "DEBUG:root:Done. Classification accuracy: 0.5 Loss: -0.5413866639137268\n",
      "DEBUG:root:Training generator...\n",
      "DEBUG:root:Done training generator.\n",
      "\n",
      "DEBUG:root:----------------- 101 / 500 -----------------\n",
      "DEBUG:root:Training discriminator...\n",
      "DEBUG:root:Done. Classification accuracy: 0.5 Loss: -0.4573074281215668\n",
      "DEBUG:root:Training generator...\n",
      "DEBUG:root:Done training generator.\n",
      "\n",
      "DEBUG:root:----------------- 102 / 500 -----------------\n",
      "DEBUG:root:Training discriminator...\n"
     ]
    },
    {
     "name": "stdout",
     "output_type": "stream",
     "text": [
      "real loss: 1.7755314111709595\n",
      "fake loss: -2.2976977825164795\n",
      "g:0.0006345448782667518\n",
      "real loss: 1.7656179666519165\n",
      "fake loss: -2.307119846343994\n",
      "g:0.00011520898260641843\n",
      "real loss: 1.844644546508789\n",
      "fake loss: -2.303819179534912\n",
      "g:0.0018672096775844693\n",
      "real loss: 1.8440537452697754\n"
     ]
    },
    {
     "name": "stderr",
     "output_type": "stream",
     "text": [
      "DEBUG:root:Done. Classification accuracy: 0.5 Loss: -0.4831385016441345\n",
      "DEBUG:root:Training generator...\n",
      "DEBUG:root:Done training generator.\n",
      "\n",
      "DEBUG:root:----------------- 103 / 500 -----------------\n",
      "DEBUG:root:Training discriminator...\n",
      "DEBUG:root:Done. Classification accuracy: 0.5 Loss: -0.5141955614089966\n",
      "DEBUG:root:Training generator...\n",
      "DEBUG:root:Done training generator.\n",
      "\n",
      "DEBUG:root:----------------- 104 / 500 -----------------\n",
      "DEBUG:root:Training discriminator...\n",
      "DEBUG:root:Done. Classification accuracy: 0.5 Loss: -0.5594101548194885\n",
      "DEBUG:root:Training generator...\n",
      "DEBUG:root:Done training generator.\n",
      "\n",
      "DEBUG:root:----------------- 105 / 500 -----------------\n",
      "DEBUG:root:Training discriminator...\n",
      "DEBUG:root:Done. Classification accuracy: 0.5 Loss: -0.5166131854057312\n"
     ]
    },
    {
     "name": "stdout",
     "output_type": "stream",
     "text": [
      "fake loss: -2.331990957260132\n",
      "g:0.004798698239028454\n",
      "real loss: 1.8272329568862915\n",
      "fake loss: -2.3414623737335205\n",
      "g:3.3883919968502596e-05\n",
      "real loss: 1.7936898469924927\n",
      "fake loss: -2.3537068367004395\n",
      "g:0.0006068576476536691\n",
      "real loss: 1.8434737920761108\n",
      "fake loss: -2.366291046142578\n",
      "g:0.0062040528282523155\n"
     ]
    },
    {
     "name": "stderr",
     "output_type": "stream",
     "text": [
      "DEBUG:root:Training generator...\n",
      "DEBUG:root:Done training generator.\n",
      "\n",
      "DEBUG:root:----------------- 106 / 500 -----------------\n",
      "DEBUG:root:Training discriminator...\n",
      "DEBUG:root:Done. Classification accuracy: 0.5 Loss: -0.531958818435669\n",
      "DEBUG:root:Training generator...\n",
      "DEBUG:root:Done training generator.\n",
      "\n",
      "DEBUG:root:----------------- 107 / 500 -----------------\n",
      "DEBUG:root:Training discriminator...\n",
      "DEBUG:root:Done. Classification accuracy: 0.5 Loss: -0.49630770087242126\n",
      "DEBUG:root:Training generator...\n",
      "DEBUG:root:Done training generator.\n",
      "\n",
      "DEBUG:root:----------------- 108 / 500 -----------------\n",
      "DEBUG:root:Training discriminator...\n",
      "DEBUG:root:Done. Classification accuracy: 0.5 Loss: -0.49602946639060974\n",
      "DEBUG:root:Training generator...\n",
      "DEBUG:root:Done training generator.\n",
      "\n",
      "DEBUG:root:----------------- 109 / 500 -----------------\n",
      "DEBUG:root:Training discriminator...\n"
     ]
    },
    {
     "name": "stdout",
     "output_type": "stream",
     "text": [
      "real loss: 1.8249285221099854\n",
      "fake loss: -2.3585054874420166\n",
      "g:0.0016181536484509706\n",
      "real loss: 1.888853907585144\n",
      "fake loss: -2.385589599609375\n",
      "g:0.0004280006396584213\n",
      "real loss: 1.9013136625289917\n",
      "fake loss: -2.3981261253356934\n",
      "g:0.0007829887908883393\n",
      "real loss: 1.9529374837875366\n"
     ]
    },
    {
     "name": "stderr",
     "output_type": "stream",
     "text": [
      "DEBUG:root:Done. Classification accuracy: 0.5 Loss: -0.4382687211036682\n",
      "DEBUG:root:Training generator...\n",
      "DEBUG:root:Done training generator.\n",
      "\n",
      "DEBUG:root:----------------- 110 / 500 -----------------\n",
      "DEBUG:root:Training discriminator...\n",
      "DEBUG:root:Done. Classification accuracy: 0.5 Loss: -0.5334348678588867\n",
      "DEBUG:root:Training generator...\n",
      "DEBUG:root:Done training generator.\n",
      "\n",
      "DEBUG:root:----------------- 111 / 500 -----------------\n",
      "DEBUG:root:Training discriminator...\n",
      "DEBUG:root:Done. Classification accuracy: 0.5 Loss: -0.49138331413269043\n",
      "DEBUG:root:Training generator...\n",
      "DEBUG:root:Done training generator.\n",
      "\n",
      "DEBUG:root:----------------- 112 / 500 -----------------\n",
      "DEBUG:root:Training discriminator...\n",
      "DEBUG:root:Done. Classification accuracy: 0.5 Loss: -0.4958508014678955\n",
      "DEBUG:root:Training generator...\n"
     ]
    },
    {
     "name": "stdout",
     "output_type": "stream",
     "text": [
      "fake loss: -2.392702102661133\n",
      "g:0.0014959085965529084\n",
      "real loss: 1.8892261981964111\n",
      "fake loss: -2.4243242740631104\n",
      "g:0.0016632132465019822\n",
      "real loss: 1.9422873258590698\n",
      "fake loss: -2.4349517822265625\n",
      "g:0.0012811478227376938\n",
      "real loss: 1.951175570487976\n",
      "fake loss: -2.44805645942688\n",
      "g:0.0010300823487341404\n"
     ]
    },
    {
     "name": "stderr",
     "output_type": "stream",
     "text": [
      "DEBUG:root:Done training generator.\n",
      "\n",
      "DEBUG:root:----------------- 113 / 500 -----------------\n",
      "DEBUG:root:Training discriminator...\n",
      "DEBUG:root:Done. Classification accuracy: 0.5 Loss: -0.5202686190605164\n",
      "DEBUG:root:Training generator...\n",
      "DEBUG:root:Done training generator.\n",
      "\n",
      "DEBUG:root:----------------- 114 / 500 -----------------\n",
      "DEBUG:root:Training discriminator...\n",
      "DEBUG:root:Done. Classification accuracy: 0.5 Loss: -0.5593277812004089\n",
      "DEBUG:root:Training generator...\n",
      "DEBUG:root:Done training generator.\n",
      "\n",
      "DEBUG:root:----------------- 115 / 500 -----------------\n",
      "DEBUG:root:Training discriminator...\n"
     ]
    },
    {
     "name": "stdout",
     "output_type": "stream",
     "text": [
      "real loss: 1.938253402709961\n",
      "fake loss: -2.459657907485962\n",
      "g:0.0011358580086380243\n",
      "real loss: 1.9106361865997314\n",
      "fake loss: -2.4730165004730225\n",
      "g:0.003052515210583806\n",
      "real loss: 1.9545410871505737\n",
      "fake loss: -2.483370065689087\n",
      "g:0.001123833004385233\n"
     ]
    },
    {
     "name": "stderr",
     "output_type": "stream",
     "text": [
      "DEBUG:root:Done. Classification accuracy: 0.5 Loss: -0.5277051329612732\n",
      "DEBUG:root:Training generator...\n",
      "DEBUG:root:Done training generator.\n",
      "\n",
      "DEBUG:root:----------------- 116 / 500 -----------------\n",
      "DEBUG:root:Training discriminator...\n",
      "DEBUG:root:Done. Classification accuracy: 0.5 Loss: -0.48418816924095154\n",
      "DEBUG:root:Training generator...\n",
      "DEBUG:root:Done training generator.\n",
      "\n",
      "DEBUG:root:----------------- 117 / 500 -----------------\n",
      "DEBUG:root:Training discriminator...\n",
      "DEBUG:root:Done. Classification accuracy: 0.5 Loss: -0.40587949752807617\n",
      "DEBUG:root:Training generator...\n",
      "DEBUG:root:Done training generator.\n",
      "\n",
      "DEBUG:root:----------------- 118 / 500 -----------------\n",
      "DEBUG:root:Training discriminator...\n",
      "DEBUG:root:Done. Classification accuracy: 0.5 Loss: -0.5236074328422546\n",
      "DEBUG:root:Training generator...\n"
     ]
    },
    {
     "name": "stdout",
     "output_type": "stream",
     "text": [
      "real loss: 2.010806083679199\n",
      "fake loss: -2.495589256286621\n",
      "g:0.0005950079066678882\n",
      "real loss: 2.1018712520599365\n",
      "fake loss: -2.50998592376709\n",
      "g:0.002235179767012596\n",
      "real loss: 1.9977703094482422\n",
      "fake loss: -2.521973133087158\n",
      "g:0.0005954121588729322\n"
     ]
    },
    {
     "name": "stderr",
     "output_type": "stream",
     "text": [
      "DEBUG:root:Done training generator.\n",
      "\n",
      "DEBUG:root:----------------- 119 / 500 -----------------\n",
      "DEBUG:root:Training discriminator...\n",
      "DEBUG:root:Done. Classification accuracy: 0.5 Loss: -0.5025625228881836\n",
      "DEBUG:root:Training generator...\n",
      "DEBUG:root:Done training generator.\n",
      "\n",
      "DEBUG:root:----------------- 120 / 500 -----------------\n",
      "DEBUG:root:Training discriminator...\n",
      "DEBUG:root:Done. Classification accuracy: 0.5 Loss: -0.35335779190063477\n",
      "DEBUG:root:Training generator...\n",
      "DEBUG:root:Done training generator.\n",
      "\n",
      "DEBUG:root:----------------- 121 / 500 -----------------\n",
      "DEBUG:root:Training discriminator...\n",
      "DEBUG:root:Done. Classification accuracy: 0.5 Loss: -0.5255905985832214\n",
      "DEBUG:root:Training generator...\n",
      "DEBUG:root:Done training generator.\n",
      "\n",
      "DEBUG:root:----------------- 122 / 500 -----------------\n",
      "DEBUG:root:Training discriminator...\n"
     ]
    },
    {
     "name": "stdout",
     "output_type": "stream",
     "text": [
      "real loss: 2.032784938812256\n",
      "fake loss: -2.5353477001190186\n",
      "g:2.421584213152528e-07\n",
      "real loss: 2.1725234985351562\n",
      "fake loss: -2.534397602081299\n",
      "g:0.008516296744346619\n",
      "real loss: 2.0378081798553467\n",
      "fake loss: -2.563671350479126\n",
      "g:0.00027257451438345015\n",
      "real loss: 2.5341200828552246\n",
      "fake loss: -2.5771408081054688\n"
     ]
    },
    {
     "name": "stderr",
     "output_type": "stream",
     "text": [
      "DEBUG:root:Done. Classification accuracy: 0.5 Loss: -0.04274639114737511\n",
      "DEBUG:root:Training generator...\n",
      "DEBUG:root:Done training generator.\n",
      "\n",
      "DEBUG:root:----------------- 123 / 500 -----------------\n",
      "DEBUG:root:Training discriminator...\n",
      "DEBUG:root:Done. Classification accuracy: 0.5 Loss: -0.5633213520050049\n",
      "DEBUG:root:Training generator...\n",
      "DEBUG:root:Done training generator.\n",
      "\n",
      "DEBUG:root:----------------- 124 / 500 -----------------\n",
      "DEBUG:root:Training discriminator...\n",
      "DEBUG:root:Done. Classification accuracy: 0.5 Loss: -0.5346831679344177\n",
      "DEBUG:root:Training generator...\n",
      "DEBUG:root:Done training generator.\n",
      "\n"
     ]
    },
    {
     "name": "stdout",
     "output_type": "stream",
     "text": [
      "g:0.00027433488867245615\n",
      "real loss: 2.024496078491211\n",
      "fake loss: -2.5928714275360107\n",
      "g:0.005053997505456209\n",
      "real loss: 2.0662636756896973\n",
      "fake loss: -2.6024575233459473\n",
      "g:0.001510666566900909\n"
     ]
    },
    {
     "name": "stderr",
     "output_type": "stream",
     "text": [
      "DEBUG:root:----------------- 125 / 500 -----------------\n",
      "DEBUG:root:Training discriminator...\n",
      "DEBUG:root:Done. Classification accuracy: 0.5 Loss: -0.5746278762817383\n",
      "DEBUG:root:Training generator...\n",
      "DEBUG:root:Done training generator.\n",
      "\n",
      "DEBUG:root:----------------- 126 / 500 -----------------\n",
      "DEBUG:root:Training discriminator...\n",
      "DEBUG:root:Done. Classification accuracy: 0.5 Loss: -0.5447520017623901\n",
      "DEBUG:root:Training generator...\n",
      "DEBUG:root:Done training generator.\n",
      "\n",
      "DEBUG:root:----------------- 127 / 500 -----------------\n",
      "DEBUG:root:Training discriminator...\n",
      "DEBUG:root:Done. Classification accuracy: 0.5 Loss: -0.5555810928344727\n",
      "DEBUG:root:Training generator...\n"
     ]
    },
    {
     "name": "stdout",
     "output_type": "stream",
     "text": [
      "real loss: 2.042478561401367\n",
      "fake loss: -2.6172666549682617\n",
      "g:0.00016021591727621853\n",
      "real loss: 2.0839900970458984\n",
      "fake loss: -2.6343929767608643\n",
      "g:0.005650884471833706\n",
      "real loss: 2.0936617851257324\n",
      "fake loss: -2.649242877960205\n",
      "g:2.726267211983213e-09\n"
     ]
    },
    {
     "name": "stderr",
     "output_type": "stream",
     "text": [
      "DEBUG:root:Done training generator.\n",
      "\n",
      "DEBUG:root:----------------- 128 / 500 -----------------\n",
      "DEBUG:root:Training discriminator...\n",
      "DEBUG:root:Done. Classification accuracy: 0.5 Loss: -0.3983325958251953\n",
      "DEBUG:root:Training generator...\n",
      "DEBUG:root:Done training generator.\n",
      "\n",
      "DEBUG:root:----------------- 129 / 500 -----------------\n",
      "DEBUG:root:Training discriminator...\n",
      "DEBUG:root:Done. Classification accuracy: 0.5 Loss: -0.3799716532230377\n",
      "DEBUG:root:Training generator...\n",
      "DEBUG:root:Done training generator.\n",
      "\n",
      "DEBUG:root:----------------- 130 / 500 -----------------\n",
      "DEBUG:root:Training discriminator...\n",
      "DEBUG:root:Done. Classification accuracy: 0.5 Loss: -0.5374246835708618\n"
     ]
    },
    {
     "name": "stdout",
     "output_type": "stream",
     "text": [
      "real loss: 2.236032247543335\n",
      "fake loss: -2.6659657955169678\n",
      "g:0.0316009521484375\n",
      "real loss: 2.2111737728118896\n",
      "fake loss: -2.7044143676757812\n",
      "g:0.11326894909143448\n",
      "real loss: 2.1392486095428467\n",
      "fake loss: -2.6996493339538574\n",
      "g:0.022976018488407135\n"
     ]
    },
    {
     "name": "stderr",
     "output_type": "stream",
     "text": [
      "DEBUG:root:Training generator...\n",
      "DEBUG:root:Done training generator.\n",
      "\n",
      "DEBUG:root:----------------- 131 / 500 -----------------\n",
      "DEBUG:root:Training discriminator...\n",
      "DEBUG:root:Done. Classification accuracy: 0.5 Loss: -0.367676317691803\n",
      "DEBUG:root:Training generator...\n",
      "DEBUG:root:Done training generator.\n",
      "\n",
      "DEBUG:root:----------------- 132 / 500 -----------------\n",
      "DEBUG:root:Training discriminator...\n",
      "DEBUG:root:Done. Classification accuracy: 0.5 Loss: -0.472456693649292\n",
      "DEBUG:root:Training generator...\n",
      "DEBUG:root:Done training generator.\n",
      "\n",
      "DEBUG:root:----------------- 133 / 500 -----------------\n",
      "DEBUG:root:Training discriminator...\n",
      "DEBUG:root:Done. Classification accuracy: 0.5 Loss: -0.5133053064346313\n",
      "DEBUG:root:Training generator...\n"
     ]
    },
    {
     "name": "stdout",
     "output_type": "stream",
     "text": [
      "real loss: 2.2579822540283203\n",
      "fake loss: -2.6758341789245605\n",
      "g:0.05017561465501785\n",
      "real loss: 2.2523880004882812\n",
      "fake loss: -2.724846839904785\n",
      "g:2.135825297955307e-06\n",
      "real loss: 2.212594985961914\n",
      "fake loss: -2.7503678798675537\n",
      "g:0.024467606097459793\n"
     ]
    },
    {
     "name": "stderr",
     "output_type": "stream",
     "text": [
      "DEBUG:root:Done training generator.\n",
      "\n",
      "DEBUG:root:----------------- 134 / 500 -----------------\n",
      "DEBUG:root:Training discriminator...\n",
      "DEBUG:root:Done. Classification accuracy: 0.5 Loss: -0.42715832591056824\n",
      "DEBUG:root:Training generator...\n",
      "DEBUG:root:Done training generator.\n",
      "\n",
      "DEBUG:root:----------------- 135 / 500 -----------------\n",
      "DEBUG:root:Training discriminator...\n",
      "DEBUG:root:Done. Classification accuracy: 0.5 Loss: -0.4580408036708832\n",
      "DEBUG:root:Training generator...\n",
      "DEBUG:root:Done training generator.\n",
      "\n",
      "DEBUG:root:----------------- 136 / 500 -----------------\n",
      "DEBUG:root:Training discriminator...\n",
      "DEBUG:root:Done. Classification accuracy: 0.5 Loss: -0.5065520405769348\n",
      "DEBUG:root:Training generator...\n"
     ]
    },
    {
     "name": "stdout",
     "output_type": "stream",
     "text": [
      "real loss: 2.3149755001068115\n",
      "fake loss: -2.7603278160095215\n",
      "g:0.018193982541561127\n",
      "real loss: 2.279291868209839\n",
      "fake loss: -2.76312518119812\n",
      "g:0.025792496278882027\n",
      "real loss: 2.264254331588745\n",
      "fake loss: -2.7715046405792236\n",
      "g:0.0006982493214309216\n"
     ]
    },
    {
     "name": "stderr",
     "output_type": "stream",
     "text": [
      "DEBUG:root:Done training generator.\n",
      "\n",
      "DEBUG:root:----------------- 137 / 500 -----------------\n",
      "DEBUG:root:Training discriminator...\n",
      "DEBUG:root:Done. Classification accuracy: 0.5 Loss: -0.46676990389823914\n",
      "DEBUG:root:Training generator...\n",
      "DEBUG:root:Done training generator.\n",
      "\n",
      "DEBUG:root:----------------- 138 / 500 -----------------\n",
      "DEBUG:root:Training discriminator...\n",
      "DEBUG:root:Done. Classification accuracy: 0.5 Loss: -0.5536301136016846\n",
      "DEBUG:root:Training generator...\n",
      "DEBUG:root:Done training generator.\n",
      "\n",
      "DEBUG:root:----------------- 139 / 500 -----------------\n",
      "DEBUG:root:Training discriminator...\n",
      "DEBUG:root:Done. Classification accuracy: 0.5 Loss: -0.45187491178512573\n",
      "DEBUG:root:Training generator...\n"
     ]
    },
    {
     "name": "stdout",
     "output_type": "stream",
     "text": [
      "real loss: 2.332059144973755\n",
      "fake loss: -2.814807653427124\n",
      "g:0.015978600829839706\n",
      "real loss: 2.2520365715026855\n",
      "fake loss: -2.8217005729675293\n",
      "g:0.016033876687288284\n",
      "real loss: 2.325608968734741\n",
      "fake loss: -2.803528070449829\n",
      "g:0.026044175028800964\n"
     ]
    },
    {
     "name": "stderr",
     "output_type": "stream",
     "text": [
      "DEBUG:root:Done training generator.\n",
      "\n",
      "DEBUG:root:----------------- 140 / 500 -----------------\n",
      "DEBUG:root:Training discriminator...\n",
      "DEBUG:root:Done. Classification accuracy: 0.5 Loss: -0.5175604820251465\n",
      "DEBUG:root:Training generator...\n",
      "DEBUG:root:Done training generator.\n",
      "\n",
      "DEBUG:root:----------------- 141 / 500 -----------------\n",
      "DEBUG:root:Training discriminator...\n",
      "DEBUG:root:Done. Classification accuracy: 0.5 Loss: -0.4203811287879944\n",
      "DEBUG:root:Training generator...\n",
      "DEBUG:root:Done training generator.\n",
      "\n",
      "DEBUG:root:----------------- 142 / 500 -----------------\n",
      "DEBUG:root:Training discriminator...\n",
      "DEBUG:root:Done. Classification accuracy: 0.5 Loss: 0.1280905306339264\n",
      "DEBUG:root:Training generator...\n"
     ]
    },
    {
     "name": "stdout",
     "output_type": "stream",
     "text": [
      "real loss: 2.3416218757629395\n",
      "fake loss: -2.8634724617004395\n",
      "g:0.004290127661079168\n",
      "real loss: 2.391392230987549\n",
      "fake loss: -2.864621639251709\n",
      "g:0.05284828320145607\n",
      "real loss: 2.5105414390563965\n",
      "fake loss: -2.5208237171173096\n",
      "g:0.13837280869483948\n"
     ]
    },
    {
     "name": "stderr",
     "output_type": "stream",
     "text": [
      "DEBUG:root:Done training generator.\n",
      "\n",
      "DEBUG:root:----------------- 143 / 500 -----------------\n",
      "DEBUG:root:Training discriminator...\n",
      "DEBUG:root:Done. Classification accuracy: 0.5 Loss: -0.2260114848613739\n",
      "DEBUG:root:Training generator...\n",
      "DEBUG:root:Done training generator.\n",
      "\n",
      "DEBUG:root:----------------- 144 / 500 -----------------\n",
      "DEBUG:root:Training discriminator...\n",
      "DEBUG:root:Done. Classification accuracy: 0.5 Loss: -0.4007239043712616\n",
      "DEBUG:root:Training generator...\n",
      "DEBUG:root:Done training generator.\n",
      "\n",
      "DEBUG:root:----------------- 145 / 500 -----------------\n",
      "DEBUG:root:Training discriminator...\n"
     ]
    },
    {
     "name": "stdout",
     "output_type": "stream",
     "text": [
      "real loss: 2.5314950942993164\n",
      "fake loss: -2.93168306350708\n",
      "g:0.17417648434638977\n",
      "real loss: 2.520322799682617\n",
      "fake loss: -2.927929162979126\n",
      "g:0.0068824621848762035\n",
      "real loss: 2.4101080894470215\n",
      "fake loss: -2.9308972358703613\n",
      "g:0.042959775775671005\n"
     ]
    },
    {
     "name": "stderr",
     "output_type": "stream",
     "text": [
      "DEBUG:root:Done. Classification accuracy: 0.5 Loss: -0.47782936692237854\n",
      "DEBUG:root:Training generator...\n",
      "DEBUG:root:Done training generator.\n",
      "\n",
      "DEBUG:root:----------------- 146 / 500 -----------------\n",
      "DEBUG:root:Training discriminator...\n",
      "DEBUG:root:Done. Classification accuracy: 0.5 Loss: -0.5101551413536072\n",
      "DEBUG:root:Training generator...\n",
      "DEBUG:root:Done training generator.\n",
      "\n",
      "DEBUG:root:----------------- 147 / 500 -----------------\n",
      "DEBUG:root:Training discriminator...\n",
      "DEBUG:root:Done. Classification accuracy: 0.5 Loss: -0.5297596454620361\n",
      "DEBUG:root:Training generator...\n",
      "DEBUG:root:Done training generator.\n",
      "\n",
      "DEBUG:root:----------------- 148 / 500 -----------------\n",
      "DEBUG:root:Training discriminator...\n",
      "DEBUG:root:Done. Classification accuracy: 0.5 Loss: -0.36442089080810547\n",
      "DEBUG:root:Training generator...\n",
      "DEBUG:root:Done training generator.\n",
      "\n"
     ]
    },
    {
     "name": "stdout",
     "output_type": "stream",
     "text": [
      "real loss: 2.4516758918762207\n",
      "fake loss: -2.9659311771392822\n",
      "g:0.0041001602075994015\n",
      "real loss: 2.4437990188598633\n",
      "fake loss: -2.9902286529541016\n",
      "g:0.016669971868395805\n",
      "real loss: 2.451286792755127\n",
      "fake loss: -3.027459144592285\n",
      "g:0.21175146102905273\n"
     ]
    },
    {
     "name": "stderr",
     "output_type": "stream",
     "text": [
      "DEBUG:root:----------------- 149 / 500 -----------------\n",
      "DEBUG:root:Training discriminator...\n",
      "DEBUG:root:Done. Classification accuracy: 0.5 Loss: -0.1351698487997055\n",
      "DEBUG:root:Training generator...\n",
      "DEBUG:root:Done training generator.\n",
      "\n",
      "DEBUG:root:----------------- 150 / 500 -----------------\n",
      "DEBUG:root:Training discriminator...\n",
      "DEBUG:root:Done. Classification accuracy: 0.5 Loss: 0.03689219057559967\n",
      "DEBUG:root:Training generator...\n",
      "DEBUG:root:Done training generator.\n",
      "\n",
      "DEBUG:root:----------------- 151 / 500 -----------------\n",
      "DEBUG:root:Training discriminator...\n",
      "DEBUG:root:Done. Classification accuracy: 0.5 Loss: -0.30577608942985535\n",
      "DEBUG:root:Training generator...\n"
     ]
    },
    {
     "name": "stdout",
     "output_type": "stream",
     "text": [
      "real loss: 2.4923274517059326\n",
      "fake loss: -2.6471922397613525\n",
      "g:0.019694939255714417\n",
      "real loss: 2.9981956481933594\n",
      "fake loss: -3.031363010406494\n",
      "g:0.07005955278873444\n",
      "real loss: 2.687279462814331\n",
      "fake loss: -3.061701536178589\n",
      "g:0.06864598393440247\n"
     ]
    },
    {
     "name": "stderr",
     "output_type": "stream",
     "text": [
      "DEBUG:root:Done training generator.\n",
      "\n",
      "DEBUG:root:----------------- 152 / 500 -----------------\n",
      "DEBUG:root:Training discriminator...\n",
      "DEBUG:root:Done. Classification accuracy: 0.5 Loss: -0.5136334300041199\n",
      "DEBUG:root:Training generator...\n",
      "DEBUG:root:Done training generator.\n",
      "\n",
      "DEBUG:root:----------------- 153 / 500 -----------------\n",
      "DEBUG:root:Training discriminator...\n",
      "DEBUG:root:Done. Classification accuracy: 0.5 Loss: -0.47605830430984497\n",
      "DEBUG:root:Training generator...\n",
      "DEBUG:root:Done training generator.\n",
      "\n",
      "DEBUG:root:----------------- 154 / 500 -----------------\n",
      "DEBUG:root:Training discriminator...\n",
      "DEBUG:root:Done. Classification accuracy: 0.5 Loss: -0.5181881189346313\n",
      "DEBUG:root:Training generator...\n"
     ]
    },
    {
     "name": "stdout",
     "output_type": "stream",
     "text": [
      "real loss: 2.569981098175049\n",
      "fake loss: -3.096428871154785\n",
      "g:0.012814363464713097\n",
      "real loss: 2.6288065910339355\n",
      "fake loss: -3.1057116985321045\n",
      "g:0.0008468100568279624\n",
      "real loss: 2.54842472076416\n",
      "fake loss: -3.1229796409606934\n",
      "g:0.056366823613643646\n"
     ]
    },
    {
     "name": "stderr",
     "output_type": "stream",
     "text": [
      "DEBUG:root:Done training generator.\n",
      "\n",
      "DEBUG:root:----------------- 155 / 500 -----------------\n",
      "DEBUG:root:Training discriminator...\n",
      "DEBUG:root:Done. Classification accuracy: 0.5 Loss: -0.39195215702056885\n",
      "DEBUG:root:Training generator...\n",
      "DEBUG:root:Done training generator.\n",
      "\n",
      "DEBUG:root:----------------- 156 / 500 -----------------\n",
      "DEBUG:root:Training discriminator...\n",
      "DEBUG:root:Done. Classification accuracy: 0.5 Loss: -0.43111705780029297\n",
      "DEBUG:root:Training generator...\n",
      "DEBUG:root:Done training generator.\n",
      "\n",
      "DEBUG:root:----------------- 157 / 500 -----------------\n",
      "DEBUG:root:Training discriminator...\n",
      "DEBUG:root:Done. Classification accuracy: 0.5 Loss: -0.4459788501262665\n",
      "DEBUG:root:Training generator...\n"
     ]
    },
    {
     "name": "stdout",
     "output_type": "stream",
     "text": [
      "real loss: 2.6595895290374756\n",
      "fake loss: -3.1690237522125244\n",
      "g:0.11748206615447998\n",
      "real loss: 2.695887565612793\n",
      "fake loss: -3.149770736694336\n",
      "g:0.022766098380088806\n",
      "real loss: 2.75754976272583\n",
      "fake loss: -3.203648805618286\n",
      "g:0.00012019048153888434\n"
     ]
    },
    {
     "name": "stderr",
     "output_type": "stream",
     "text": [
      "DEBUG:root:Done training generator.\n",
      "\n",
      "DEBUG:root:----------------- 158 / 500 -----------------\n",
      "DEBUG:root:Training discriminator...\n",
      "DEBUG:root:Done. Classification accuracy: 0.5 Loss: -0.06612271815538406\n",
      "DEBUG:root:Training generator...\n",
      "DEBUG:root:Done training generator.\n",
      "\n",
      "DEBUG:root:----------------- 159 / 500 -----------------\n",
      "DEBUG:root:Training discriminator...\n",
      "DEBUG:root:Done. Classification accuracy: 0.5 Loss: -0.39011481404304504\n",
      "DEBUG:root:Training generator...\n",
      "DEBUG:root:Done training generator.\n",
      "\n",
      "DEBUG:root:----------------- 160 / 500 -----------------\n",
      "DEBUG:root:Training discriminator...\n",
      "DEBUG:root:Done. Classification accuracy: 0.5 Loss: 0.06797977536916733\n",
      "DEBUG:root:Training generator...\n",
      "DEBUG:root:Done training generator.\n",
      "\n"
     ]
    },
    {
     "name": "stdout",
     "output_type": "stream",
     "text": [
      "real loss: 2.7052395343780518\n",
      "fake loss: -2.8662896156311035\n",
      "g:0.0949273630976677\n",
      "real loss: 2.7345476150512695\n",
      "fake loss: -3.2335071563720703\n",
      "g:0.10884472727775574\n",
      "real loss: 3.245361328125\n",
      "fake loss: -3.2817022800445557\n",
      "g:0.10432072728872299\n"
     ]
    },
    {
     "name": "stderr",
     "output_type": "stream",
     "text": [
      "DEBUG:root:----------------- 161 / 500 -----------------\n",
      "DEBUG:root:Training discriminator...\n",
      "DEBUG:root:Done. Classification accuracy: 0.5 Loss: -0.4786941111087799\n",
      "DEBUG:root:Training generator...\n",
      "DEBUG:root:Done training generator.\n",
      "\n",
      "DEBUG:root:----------------- 162 / 500 -----------------\n",
      "DEBUG:root:Training discriminator...\n",
      "DEBUG:root:Done. Classification accuracy: 0.5 Loss: -0.3940335214138031\n",
      "DEBUG:root:Training generator...\n",
      "DEBUG:root:Done training generator.\n",
      "\n",
      "DEBUG:root:----------------- 163 / 500 -----------------\n",
      "DEBUG:root:Training discriminator...\n",
      "DEBUG:root:Done. Classification accuracy: 0.5 Loss: -0.271564781665802\n",
      "DEBUG:root:Training generator...\n"
     ]
    },
    {
     "name": "stdout",
     "output_type": "stream",
     "text": [
      "real loss: 2.7885990142822266\n",
      "fake loss: -3.267981767654419\n",
      "g:0.000688637257553637\n",
      "real loss: 2.79878830909729\n",
      "fake loss: -3.3061046600341797\n",
      "g:0.11328282952308655\n",
      "real loss: 2.8415632247924805\n",
      "fake loss: -3.3658649921417236\n",
      "g:0.25273698568344116\n"
     ]
    },
    {
     "name": "stderr",
     "output_type": "stream",
     "text": [
      "DEBUG:root:Done training generator.\n",
      "\n",
      "DEBUG:root:----------------- 164 / 500 -----------------\n",
      "DEBUG:root:Training discriminator...\n",
      "DEBUG:root:Done. Classification accuracy: 0.5 Loss: -0.5028325319290161\n",
      "DEBUG:root:Training generator...\n",
      "DEBUG:root:Done training generator.\n",
      "\n",
      "DEBUG:root:----------------- 165 / 500 -----------------\n",
      "DEBUG:root:Training discriminator...\n",
      "DEBUG:root:Done. Classification accuracy: 0.5 Loss: -0.4958459734916687\n",
      "DEBUG:root:Training generator...\n",
      "DEBUG:root:Done training generator.\n",
      "\n",
      "DEBUG:root:----------------- 166 / 500 -----------------\n",
      "DEBUG:root:Training discriminator...\n",
      "DEBUG:root:Done. Classification accuracy: 0.5 Loss: 0.006993081420660019\n",
      "DEBUG:root:Training generator...\n"
     ]
    },
    {
     "name": "stdout",
     "output_type": "stream",
     "text": [
      "real loss: 2.8494462966918945\n",
      "fake loss: -3.3554234504699707\n",
      "g:0.003144643735140562\n",
      "real loss: 2.826077938079834\n",
      "fake loss: -3.377243757247925\n",
      "g:0.05531984567642212\n",
      "real loss: 3.369849443435669\n",
      "fake loss: -3.407048225402832\n",
      "g:0.044191863387823105\n"
     ]
    },
    {
     "name": "stderr",
     "output_type": "stream",
     "text": [
      "DEBUG:root:Done training generator.\n",
      "\n",
      "DEBUG:root:----------------- 167 / 500 -----------------\n",
      "DEBUG:root:Training discriminator...\n",
      "DEBUG:root:Done. Classification accuracy: 0.5 Loss: -0.501897394657135\n",
      "DEBUG:root:Training generator...\n",
      "DEBUG:root:Done training generator.\n",
      "\n",
      "DEBUG:root:----------------- 168 / 500 -----------------\n",
      "DEBUG:root:Training discriminator...\n",
      "DEBUG:root:Done. Classification accuracy: 0.5 Loss: -0.5566222667694092\n",
      "DEBUG:root:Training generator...\n",
      "DEBUG:root:Done training generator.\n",
      "\n",
      "DEBUG:root:----------------- 169 / 500 -----------------\n",
      "DEBUG:root:Training discriminator...\n",
      "DEBUG:root:Done. Classification accuracy: 0.5 Loss: -0.5386602878570557\n",
      "DEBUG:root:Training generator...\n"
     ]
    },
    {
     "name": "stdout",
     "output_type": "stream",
     "text": [
      "real loss: 2.8949575424194336\n",
      "fake loss: -3.428018093109131\n",
      "g:0.031163157895207405\n",
      "real loss: 2.8401498794555664\n",
      "fake loss: -3.4636900424957275\n",
      "g:0.06691792607307434\n",
      "real loss: 2.943239212036133\n",
      "fake loss: -3.5152556896209717\n",
      "g:0.03335617855191231\n"
     ]
    },
    {
     "name": "stderr",
     "output_type": "stream",
     "text": [
      "DEBUG:root:Done training generator.\n",
      "\n",
      "DEBUG:root:----------------- 170 / 500 -----------------\n",
      "DEBUG:root:Training discriminator...\n",
      "DEBUG:root:Done. Classification accuracy: 0.5 Loss: -0.5258999466896057\n",
      "DEBUG:root:Training generator...\n",
      "DEBUG:root:Done training generator.\n",
      "\n",
      "DEBUG:root:----------------- 171 / 500 -----------------\n",
      "DEBUG:root:Training discriminator...\n",
      "DEBUG:root:Done. Classification accuracy: 0.5 Loss: -0.09399700164794922\n",
      "DEBUG:root:Training generator...\n",
      "DEBUG:root:Done training generator.\n",
      "\n",
      "DEBUG:root:----------------- 172 / 500 -----------------\n",
      "DEBUG:root:Training discriminator...\n",
      "DEBUG:root:Done. Classification accuracy: 0.5 Loss: 0.01983509212732315\n",
      "DEBUG:root:Training generator...\n",
      "DEBUG:root:Done training generator.\n",
      "\n"
     ]
    },
    {
     "name": "stdout",
     "output_type": "stream",
     "text": [
      "real loss: 3.010535717010498\n",
      "fake loss: -3.541055202484131\n",
      "g:0.00461951270699501\n",
      "real loss: 3.4719223976135254\n",
      "fake loss: -3.56604266166687\n",
      "g:0.00012325884017627686\n",
      "real loss: 3.5400490760803223\n",
      "fake loss: -3.599547863006592\n",
      "g:0.07933387905359268\n"
     ]
    },
    {
     "name": "stderr",
     "output_type": "stream",
     "text": [
      "DEBUG:root:----------------- 173 / 500 -----------------\n",
      "DEBUG:root:Training discriminator...\n",
      "DEBUG:root:Done. Classification accuracy: 0.5 Loss: 0.2345552146434784\n",
      "DEBUG:root:Training generator...\n",
      "DEBUG:root:Done training generator.\n",
      "\n",
      "DEBUG:root:----------------- 174 / 500 -----------------\n",
      "DEBUG:root:Training discriminator...\n",
      "DEBUG:root:Done. Classification accuracy: 0.5 Loss: -0.22737719118595123\n",
      "DEBUG:root:Training generator...\n",
      "DEBUG:root:Done training generator.\n",
      "\n",
      "DEBUG:root:----------------- 175 / 500 -----------------\n",
      "DEBUG:root:Training discriminator...\n",
      "DEBUG:root:Done. Classification accuracy: 0.5 Loss: -0.04712146520614624\n",
      "DEBUG:root:Training generator...\n",
      "DEBUG:root:Done training generator.\n",
      "\n"
     ]
    },
    {
     "name": "stdout",
     "output_type": "stream",
     "text": [
      "real loss: 3.1493263244628906\n",
      "fake loss: -3.2794857025146484\n",
      "g:0.3647145926952362\n",
      "real loss: 3.266312599182129\n",
      "fake loss: -3.6525495052337646\n",
      "g:0.1588597148656845\n",
      "real loss: 3.6692821979522705\n",
      "fake loss: -3.71702241897583\n",
      "g:0.0006187559920363128\n"
     ]
    },
    {
     "name": "stderr",
     "output_type": "stream",
     "text": [
      "DEBUG:root:----------------- 176 / 500 -----------------\n",
      "DEBUG:root:Training discriminator...\n",
      "DEBUG:root:Done. Classification accuracy: 0.5 Loss: -0.24919193983078003\n",
      "DEBUG:root:Training generator...\n",
      "DEBUG:root:Done training generator.\n",
      "\n",
      "DEBUG:root:----------------- 177 / 500 -----------------\n",
      "DEBUG:root:Training discriminator...\n",
      "DEBUG:root:Done. Classification accuracy: 0.5 Loss: -0.2687828540802002\n",
      "DEBUG:root:Training generator...\n",
      "DEBUG:root:Done training generator.\n",
      "\n",
      "DEBUG:root:----------------- 178 / 500 -----------------\n",
      "DEBUG:root:Training discriminator...\n",
      "DEBUG:root:Done. Classification accuracy: 0.5 Loss: -0.5230581760406494\n",
      "DEBUG:root:Training generator...\n",
      "DEBUG:root:Done training generator.\n",
      "\n"
     ]
    },
    {
     "name": "stdout",
     "output_type": "stream",
     "text": [
      "real loss: 3.2392897605895996\n",
      "fake loss: -3.7730982303619385\n",
      "g:0.28461652994155884\n",
      "real loss: 3.3001201152801514\n",
      "fake loss: -3.7284085750579834\n",
      "g:0.15950559079647064\n",
      "real loss: 3.2670185565948486\n",
      "fake loss: -3.7988765239715576\n",
      "g:0.00879981741309166\n"
     ]
    },
    {
     "name": "stderr",
     "output_type": "stream",
     "text": [
      "DEBUG:root:----------------- 179 / 500 -----------------\n",
      "DEBUG:root:Training discriminator...\n",
      "DEBUG:root:Done. Classification accuracy: 0.5 Loss: -0.3571518063545227\n",
      "DEBUG:root:Training generator...\n",
      "DEBUG:root:Done training generator.\n",
      "\n",
      "DEBUG:root:----------------- 180 / 500 -----------------\n",
      "DEBUG:root:Training discriminator...\n",
      "DEBUG:root:Done. Classification accuracy: 0.5 Loss: -0.5101771950721741\n",
      "DEBUG:root:Training generator...\n",
      "DEBUG:root:Done training generator.\n",
      "\n",
      "DEBUG:root:----------------- 181 / 500 -----------------\n",
      "DEBUG:root:Training discriminator...\n",
      "DEBUG:root:Done. Classification accuracy: 0.5 Loss: -0.5996643304824829\n",
      "DEBUG:root:Training generator...\n"
     ]
    },
    {
     "name": "stdout",
     "output_type": "stream",
     "text": [
      "real loss: 3.3289647102355957\n",
      "fake loss: -3.890519380569458\n",
      "g:0.2044028490781784\n",
      "real loss: 3.384643077850342\n",
      "fake loss: -3.8971447944641113\n",
      "g:0.0023245341144502163\n",
      "real loss: 3.2644779682159424\n",
      "fake loss: -3.920551061630249\n",
      "g:0.056408774107694626\n"
     ]
    },
    {
     "name": "stderr",
     "output_type": "stream",
     "text": [
      "DEBUG:root:Done training generator.\n",
      "\n",
      "DEBUG:root:----------------- 182 / 500 -----------------\n",
      "DEBUG:root:Training discriminator...\n",
      "DEBUG:root:Done. Classification accuracy: 0.5 Loss: -0.08126099407672882\n",
      "DEBUG:root:Training generator...\n",
      "DEBUG:root:Done training generator.\n",
      "\n",
      "DEBUG:root:----------------- 183 / 500 -----------------\n",
      "DEBUG:root:Training discriminator...\n",
      "DEBUG:root:Done. Classification accuracy: 0.5 Loss: -0.4438982307910919\n",
      "DEBUG:root:Training generator...\n",
      "DEBUG:root:Done training generator.\n",
      "\n",
      "DEBUG:root:----------------- 184 / 500 -----------------\n",
      "DEBUG:root:Training discriminator...\n",
      "DEBUG:root:Done. Classification accuracy: 0.5 Loss: -0.5353121757507324\n",
      "DEBUG:root:Training generator...\n"
     ]
    },
    {
     "name": "stdout",
     "output_type": "stream",
     "text": [
      "real loss: 3.8813278675079346\n",
      "fake loss: -3.9802236557006836\n",
      "g:0.017634790390729904\n",
      "real loss: 3.548022508621216\n",
      "fake loss: -4.022180557250977\n",
      "g:0.030259830877184868\n",
      "real loss: 3.4795262813568115\n",
      "fake loss: -4.045620918273926\n",
      "g:0.030782440677285194\n"
     ]
    },
    {
     "name": "stderr",
     "output_type": "stream",
     "text": [
      "DEBUG:root:Done training generator.\n",
      "\n",
      "DEBUG:root:----------------- 185 / 500 -----------------\n",
      "DEBUG:root:Training discriminator...\n",
      "DEBUG:root:Done. Classification accuracy: 0.5 Loss: -0.20292429625988007\n",
      "DEBUG:root:Training generator...\n",
      "DEBUG:root:Done training generator.\n",
      "\n",
      "DEBUG:root:----------------- 186 / 500 -----------------\n",
      "DEBUG:root:Training discriminator...\n",
      "DEBUG:root:Done. Classification accuracy: 0.5 Loss: -0.5907316207885742\n",
      "DEBUG:root:Training generator...\n",
      "DEBUG:root:Done training generator.\n",
      "\n",
      "DEBUG:root:----------------- 187 / 500 -----------------\n",
      "DEBUG:root:Training discriminator...\n"
     ]
    },
    {
     "name": "stdout",
     "output_type": "stream",
     "text": [
      "real loss: 3.5066468715667725\n",
      "fake loss: -3.710507869720459\n",
      "g:0.0009367072489112616\n",
      "real loss: 3.573317289352417\n",
      "fake loss: -4.16487979888916\n",
      "g:0.0008309072582051158\n",
      "real loss: 3.6441895961761475\n",
      "fake loss: -4.218472957611084\n",
      "g:0.0057490114122629166\n"
     ]
    },
    {
     "name": "stderr",
     "output_type": "stream",
     "text": [
      "DEBUG:root:Done. Classification accuracy: 0.5 Loss: -0.5685343742370605\n",
      "DEBUG:root:Training generator...\n",
      "DEBUG:root:Done training generator.\n",
      "\n",
      "DEBUG:root:----------------- 188 / 500 -----------------\n",
      "DEBUG:root:Training discriminator...\n",
      "DEBUG:root:Done. Classification accuracy: 0.5 Loss: -0.4690813720226288\n",
      "DEBUG:root:Training generator...\n",
      "DEBUG:root:Done training generator.\n",
      "\n",
      "DEBUG:root:----------------- 189 / 500 -----------------\n",
      "DEBUG:root:Training discriminator...\n",
      "DEBUG:root:Done. Classification accuracy: 0.5 Loss: -0.6544596552848816\n",
      "DEBUG:root:Training generator...\n",
      "DEBUG:root:Done training generator.\n",
      "\n",
      "DEBUG:root:----------------- 190 / 500 -----------------\n",
      "DEBUG:root:Training discriminator...\n",
      "DEBUG:root:Done. Classification accuracy: 0.5 Loss: -0.32776743173599243\n",
      "DEBUG:root:Training generator...\n",
      "DEBUG:root:Done training generator.\n",
      "\n"
     ]
    },
    {
     "name": "stdout",
     "output_type": "stream",
     "text": [
      "real loss: 3.765718936920166\n",
      "fake loss: -4.284644603729248\n",
      "g:0.049844302237033844\n",
      "real loss: 3.664379358291626\n",
      "fake loss: -4.319052696228027\n",
      "g:0.00021366092551033944\n",
      "real loss: 3.9255642890930176\n",
      "fake loss: -4.366240501403809\n",
      "g:0.11290879547595978\n"
     ]
    },
    {
     "name": "stderr",
     "output_type": "stream",
     "text": [
      "DEBUG:root:----------------- 191 / 500 -----------------\n",
      "DEBUG:root:Training discriminator...\n",
      "DEBUG:root:Done. Classification accuracy: 0.5 Loss: 0.47004884481430054\n",
      "DEBUG:root:Training generator...\n",
      "DEBUG:root:Done training generator.\n",
      "\n",
      "DEBUG:root:----------------- 192 / 500 -----------------\n",
      "DEBUG:root:Training discriminator...\n",
      "DEBUG:root:Done. Classification accuracy: 0.5 Loss: -0.17673259973526\n",
      "DEBUG:root:Training generator...\n",
      "DEBUG:root:Done training generator.\n",
      "\n",
      "DEBUG:root:----------------- 193 / 500 -----------------\n",
      "DEBUG:root:Training discriminator...\n",
      "DEBUG:root:Done. Classification accuracy: 0.5 Loss: -0.24742701649665833\n",
      "DEBUG:root:Training generator...\n"
     ]
    },
    {
     "name": "stdout",
     "output_type": "stream",
     "text": [
      "real loss: 4.4035444259643555\n",
      "fake loss: -4.466418743133545\n",
      "g:0.53292316198349\n",
      "real loss: 3.795605421066284\n",
      "fake loss: -4.412352561950684\n",
      "g:0.4400145411491394\n",
      "real loss: 4.039289474487305\n",
      "fake loss: -4.558434963226318\n",
      "g:0.27171847224235535\n"
     ]
    },
    {
     "name": "stderr",
     "output_type": "stream",
     "text": [
      "DEBUG:root:Done training generator.\n",
      "\n",
      "DEBUG:root:----------------- 194 / 500 -----------------\n",
      "DEBUG:root:Training discriminator...\n",
      "DEBUG:root:Done. Classification accuracy: 0.5 Loss: -0.22970323264598846\n",
      "DEBUG:root:Training generator...\n",
      "DEBUG:root:Done training generator.\n",
      "\n",
      "DEBUG:root:----------------- 195 / 500 -----------------\n",
      "DEBUG:root:Training discriminator...\n",
      "DEBUG:root:Done. Classification accuracy: 0.5 Loss: -0.639100193977356\n",
      "DEBUG:root:Training generator...\n",
      "DEBUG:root:Done training generator.\n",
      "\n",
      "DEBUG:root:----------------- 196 / 500 -----------------\n",
      "DEBUG:root:Training discriminator...\n",
      "DEBUG:root:Done. Classification accuracy: 0.5 Loss: -0.6249749660491943\n",
      "DEBUG:root:Training generator...\n",
      "DEBUG:root:Done training generator.\n",
      "\n",
      "DEBUG:root:----------------- 197 / 500 -----------------\n",
      "DEBUG:root:Training discriminator...\n"
     ]
    },
    {
     "name": "stdout",
     "output_type": "stream",
     "text": [
      "real loss: 3.9402127265930176\n",
      "fake loss: -4.205972194671631\n",
      "g:0.03605623170733452\n",
      "real loss: 3.9999799728393555\n",
      "fake loss: -4.643610954284668\n",
      "g:0.004530777223408222\n",
      "real loss: 4.073444366455078\n",
      "fake loss: -4.701589107513428\n",
      "g:0.0031697754748165607\n"
     ]
    },
    {
     "name": "stderr",
     "output_type": "stream",
     "text": [
      "DEBUG:root:Done. Classification accuracy: 0.5 Loss: -0.5468005537986755\n",
      "DEBUG:root:Training generator...\n",
      "DEBUG:root:Done training generator.\n",
      "\n",
      "DEBUG:root:----------------- 198 / 500 -----------------\n",
      "DEBUG:root:Training discriminator...\n",
      "DEBUG:root:Done. Classification accuracy: 0.5 Loss: 0.020120155066251755\n",
      "DEBUG:root:Training generator...\n",
      "DEBUG:root:Done training generator.\n",
      "\n",
      "DEBUG:root:----------------- 199 / 500 -----------------\n",
      "DEBUG:root:Training discriminator...\n",
      "DEBUG:root:Done. Classification accuracy: 0.5 Loss: 0.049253761768341064\n",
      "DEBUG:root:Training generator...\n"
     ]
    },
    {
     "name": "stdout",
     "output_type": "stream",
     "text": [
      "real loss: 4.223888397216797\n",
      "fake loss: -4.774901390075684\n",
      "g:0.004212456289678812\n",
      "real loss: 4.794973850250244\n",
      "fake loss: -4.812170028686523\n",
      "g:0.03731633350253105\n",
      "real loss: 4.873600006103516\n",
      "fake loss: -4.944074630737305\n",
      "g:0.11972838640213013\n"
     ]
    },
    {
     "name": "stderr",
     "output_type": "stream",
     "text": [
      "DEBUG:root:Done training generator.\n",
      "\n",
      "DEBUG:root:----------------- 200 / 500 -----------------\n",
      "DEBUG:root:Training discriminator...\n",
      "DEBUG:root:Done. Classification accuracy: 0.5 Loss: -0.49103403091430664\n",
      "DEBUG:root:Training generator...\n",
      "DEBUG:root:Done training generator.\n",
      "\n",
      "DEBUG:root:----------------- 201 / 500 -----------------\n",
      "DEBUG:root:Training discriminator...\n",
      "DEBUG:root:Done. Classification accuracy: 0.5 Loss: -0.3634844124317169\n",
      "DEBUG:root:Training generator...\n",
      "DEBUG:root:Done training generator.\n",
      "\n",
      "DEBUG:root:----------------- 202 / 500 -----------------\n",
      "DEBUG:root:Training discriminator...\n",
      "DEBUG:root:Done. Classification accuracy: 0.5 Loss: -0.5281077027320862\n",
      "DEBUG:root:Training generator...\n"
     ]
    },
    {
     "name": "stdout",
     "output_type": "stream",
     "text": [
      "real loss: 4.44511604309082\n",
      "fake loss: -4.970756530761719\n",
      "g:0.034606464207172394\n",
      "real loss: 4.698006629943848\n",
      "fake loss: -5.100593566894531\n",
      "g:0.03910252824425697\n",
      "real loss: 4.596814155578613\n",
      "fake loss: -5.158107757568359\n",
      "g:0.0331859216094017\n"
     ]
    },
    {
     "name": "stderr",
     "output_type": "stream",
     "text": [
      "DEBUG:root:Done training generator.\n",
      "\n",
      "DEBUG:root:----------------- 203 / 500 -----------------\n",
      "DEBUG:root:Training discriminator...\n",
      "DEBUG:root:Done. Classification accuracy: 0.5 Loss: -0.37654855847358704\n",
      "DEBUG:root:Training generator...\n",
      "DEBUG:root:Done training generator.\n",
      "\n",
      "DEBUG:root:----------------- 204 / 500 -----------------\n",
      "DEBUG:root:Training discriminator...\n",
      "DEBUG:root:Done. Classification accuracy: 0.5 Loss: 0.034102171659469604\n",
      "DEBUG:root:Training generator...\n",
      "DEBUG:root:Done training generator.\n",
      "\n",
      "DEBUG:root:----------------- 205 / 500 -----------------\n",
      "DEBUG:root:Training discriminator...\n",
      "DEBUG:root:Done. Classification accuracy: 0.5 Loss: 0.4916340708732605\n",
      "DEBUG:root:Training generator...\n"
     ]
    },
    {
     "name": "stdout",
     "output_type": "stream",
     "text": [
      "real loss: 4.8136796951293945\n",
      "fake loss: -5.2785162925720215\n",
      "g:0.08828803896903992\n",
      "real loss: 4.796528339385986\n",
      "fake loss: -4.974569320678711\n",
      "g:0.2121431529521942\n",
      "real loss: 5.080422878265381\n",
      "fake loss: -5.501266002655029\n",
      "g:0.9124771952629089\n"
     ]
    },
    {
     "name": "stderr",
     "output_type": "stream",
     "text": [
      "DEBUG:root:Done training generator.\n",
      "\n",
      "DEBUG:root:----------------- 206 / 500 -----------------\n",
      "DEBUG:root:Training discriminator...\n",
      "DEBUG:root:Done. Classification accuracy: 0.5 Loss: -0.5714154839515686\n",
      "DEBUG:root:Training generator...\n",
      "DEBUG:root:Done training generator.\n",
      "\n",
      "DEBUG:root:----------------- 207 / 500 -----------------\n",
      "DEBUG:root:Training discriminator...\n",
      "DEBUG:root:Done. Classification accuracy: 0.5 Loss: -0.38619130849838257\n",
      "DEBUG:root:Training generator...\n",
      "DEBUG:root:Done training generator.\n",
      "\n",
      "DEBUG:root:----------------- 208 / 500 -----------------\n",
      "DEBUG:root:Training discriminator...\n",
      "DEBUG:root:Done. Classification accuracy: 0.5 Loss: -0.18864883482456207\n",
      "DEBUG:root:Training generator...\n"
     ]
    },
    {
     "name": "stdout",
     "output_type": "stream",
     "text": [
      "real loss: 4.996791362762451\n",
      "fake loss: -5.5688018798828125\n",
      "g:0.0005950049962848425\n",
      "real loss: 5.129414081573486\n",
      "fake loss: -5.706048011779785\n",
      "g:0.19044262170791626\n",
      "real loss: 5.425159454345703\n",
      "fake loss: -5.826727867126465\n",
      "g:0.21291957795619965\n"
     ]
    },
    {
     "name": "stderr",
     "output_type": "stream",
     "text": [
      "DEBUG:root:Done training generator.\n",
      "\n",
      "DEBUG:root:----------------- 209 / 500 -----------------\n",
      "DEBUG:root:Training discriminator...\n",
      "DEBUG:root:Done. Classification accuracy: 0.5 Loss: 3.2428524494171143\n",
      "DEBUG:root:Training generator...\n",
      "DEBUG:root:Done training generator.\n",
      "\n",
      "DEBUG:root:----------------- 210 / 500 -----------------\n",
      "DEBUG:root:Training discriminator...\n",
      "DEBUG:root:Done. Classification accuracy: 0.5 Loss: 3.0754969120025635\n",
      "DEBUG:root:Training generator...\n",
      "DEBUG:root:Done training generator.\n",
      "\n",
      "DEBUG:root:----------------- 211 / 500 -----------------\n",
      "DEBUG:root:Training discriminator...\n",
      "DEBUG:root:Done. Classification accuracy: 0.5 Loss: -0.5145365595817566\n",
      "DEBUG:root:Training generator...\n"
     ]
    },
    {
     "name": "stdout",
     "output_type": "stream",
     "text": [
      "real loss: 5.6143798828125\n",
      "fake loss: -6.055323600769043\n",
      "g:3.6837961673736572\n",
      "real loss: 5.485160827636719\n",
      "fake loss: -5.545969486236572\n",
      "g:3.136305570602417\n",
      "real loss: 4.732792854309082\n",
      "fake loss: -5.281718730926514\n",
      "g:0.03438934311270714\n"
     ]
    },
    {
     "name": "stderr",
     "output_type": "stream",
     "text": [
      "DEBUG:root:Done training generator.\n",
      "\n",
      "DEBUG:root:----------------- 212 / 500 -----------------\n",
      "DEBUG:root:Training discriminator...\n",
      "DEBUG:root:Done. Classification accuracy: 0.5 Loss: -0.5457426905632019\n",
      "DEBUG:root:Training generator...\n",
      "DEBUG:root:Done training generator.\n",
      "\n",
      "DEBUG:root:----------------- 213 / 500 -----------------\n",
      "DEBUG:root:Training discriminator...\n",
      "DEBUG:root:Done. Classification accuracy: 0.5 Loss: 0.1301758885383606\n",
      "DEBUG:root:Training generator...\n",
      "DEBUG:root:Done training generator.\n",
      "\n",
      "DEBUG:root:----------------- 214 / 500 -----------------\n",
      "DEBUG:root:Training discriminator...\n",
      "DEBUG:root:Done. Classification accuracy: 0.5 Loss: -0.601913571357727\n",
      "DEBUG:root:Training generator...\n",
      "DEBUG:root:Done training generator.\n",
      "\n"
     ]
    },
    {
     "name": "stdout",
     "output_type": "stream",
     "text": [
      "real loss: 4.613607406616211\n",
      "fake loss: -5.225067615509033\n",
      "g:0.06571754068136215\n",
      "real loss: 4.790822982788086\n",
      "fake loss: -5.266228199005127\n",
      "g:0.6055811047554016\n",
      "real loss: 4.64401912689209\n",
      "fake loss: -5.291357517242432\n",
      "g:0.04542480409145355\n"
     ]
    },
    {
     "name": "stderr",
     "output_type": "stream",
     "text": [
      "DEBUG:root:----------------- 215 / 500 -----------------\n",
      "DEBUG:root:Training discriminator...\n",
      "DEBUG:root:Done. Classification accuracy: 0.5 Loss: -0.15881267189979553\n",
      "DEBUG:root:Training generator...\n",
      "DEBUG:root:Done training generator.\n",
      "\n",
      "DEBUG:root:----------------- 216 / 500 -----------------\n",
      "DEBUG:root:Training discriminator...\n",
      "DEBUG:root:Done. Classification accuracy: 0.5 Loss: -0.4225045442581177\n",
      "DEBUG:root:Training generator...\n",
      "DEBUG:root:Done training generator.\n",
      "\n",
      "DEBUG:root:----------------- 217 / 500 -----------------\n",
      "DEBUG:root:Training discriminator...\n",
      "DEBUG:root:Done. Classification accuracy: 0.5 Loss: 0.7956010103225708\n",
      "DEBUG:root:Training generator...\n"
     ]
    },
    {
     "name": "stdout",
     "output_type": "stream",
     "text": [
      "real loss: 4.818974494934082\n",
      "fake loss: -5.3279290199279785\n",
      "g:0.35014185309410095\n",
      "real loss: 4.748822212219238\n",
      "fake loss: -5.419730186462402\n",
      "g:0.2484034299850464\n",
      "real loss: 4.953293323516846\n",
      "fake loss: -5.518489360809326\n",
      "g:1.3607970476150513\n"
     ]
    },
    {
     "name": "stderr",
     "output_type": "stream",
     "text": [
      "DEBUG:root:Done training generator.\n",
      "\n",
      "DEBUG:root:----------------- 218 / 500 -----------------\n",
      "DEBUG:root:Training discriminator...\n",
      "DEBUG:root:Done. Classification accuracy: 0.5 Loss: 0.07860910892486572\n",
      "DEBUG:root:Training generator...\n",
      "DEBUG:root:Done training generator.\n",
      "\n",
      "DEBUG:root:----------------- 219 / 500 -----------------\n",
      "DEBUG:root:Training discriminator...\n",
      "DEBUG:root:Done. Classification accuracy: 0.5 Loss: -0.1650579869747162\n",
      "DEBUG:root:Training generator...\n",
      "DEBUG:root:Done training generator.\n",
      "\n",
      "DEBUG:root:----------------- 220 / 500 -----------------\n",
      "DEBUG:root:Training discriminator...\n",
      "DEBUG:root:Done. Classification accuracy: 0.5 Loss: 0.021989107131958008\n",
      "DEBUG:root:Training generator...\n",
      "DEBUG:root:Done training generator.\n",
      "\n"
     ]
    },
    {
     "name": "stdout",
     "output_type": "stream",
     "text": [
      "real loss: 5.236433506011963\n",
      "fake loss: -5.756104946136475\n",
      "g:0.5982805490493774\n",
      "real loss: 5.355558395385742\n",
      "fake loss: -5.8888139724731445\n",
      "g:0.36819759011268616\n",
      "real loss: 5.810451984405518\n",
      "fake loss: -6.126532554626465\n",
      "g:0.3380696773529053\n"
     ]
    },
    {
     "name": "stderr",
     "output_type": "stream",
     "text": [
      "DEBUG:root:----------------- 221 / 500 -----------------\n",
      "DEBUG:root:Training discriminator...\n",
      "DEBUG:root:Done. Classification accuracy: 0.5 Loss: -0.17491112649440765\n",
      "DEBUG:root:Training generator...\n",
      "DEBUG:root:Done training generator.\n",
      "\n",
      "DEBUG:root:----------------- 222 / 500 -----------------\n",
      "DEBUG:root:Training discriminator...\n",
      "DEBUG:root:Done. Classification accuracy: 0.5 Loss: 2.5073344707489014\n",
      "DEBUG:root:Training generator...\n",
      "DEBUG:root:Done training generator.\n",
      "\n",
      "DEBUG:root:----------------- 223 / 500 -----------------\n",
      "DEBUG:root:Training discriminator...\n",
      "DEBUG:root:Done. Classification accuracy: 0.5 Loss: -0.4008536636829376\n",
      "DEBUG:root:Training generator...\n",
      "DEBUG:root:Done training generator.\n",
      "\n",
      "DEBUG:root:----------------- 224 / 500 -----------------\n",
      "DEBUG:root:Training discriminator...\n",
      "DEBUG:root:Done. Classification accuracy: 0.5 Loss: -0.5429648756980896\n",
      "DEBUG:root:Training generator...\n"
     ]
    },
    {
     "name": "stdout",
     "output_type": "stream",
     "text": [
      "real loss: 6.074349880218506\n",
      "fake loss: -6.374997138977051\n",
      "g:0.12573613226413727\n",
      "real loss: 6.72998571395874\n",
      "fake loss: -6.53440523147583\n",
      "g:2.311753988265991\n",
      "real loss: 5.841250419616699\n",
      "fake loss: -6.246994972229004\n",
      "g:0.004890890792012215\n",
      "real loss: 5.692888259887695\n",
      "fake loss: -6.236048698425293\n",
      "g:0.0001955612824531272\n"
     ]
    },
    {
     "name": "stderr",
     "output_type": "stream",
     "text": [
      "DEBUG:root:Done training generator.\n",
      "\n",
      "DEBUG:root:----------------- 225 / 500 -----------------\n",
      "DEBUG:root:Training discriminator...\n",
      "DEBUG:root:Done. Classification accuracy: 0.5 Loss: -0.5566881895065308\n",
      "DEBUG:root:Training generator...\n",
      "DEBUG:root:Done training generator.\n",
      "\n",
      "DEBUG:root:----------------- 226 / 500 -----------------\n",
      "DEBUG:root:Training discriminator...\n",
      "DEBUG:root:Done. Classification accuracy: 0.5 Loss: -0.4343002140522003\n",
      "DEBUG:root:Training generator...\n",
      "DEBUG:root:Done training generator.\n",
      "\n",
      "DEBUG:root:----------------- 227 / 500 -----------------\n",
      "DEBUG:root:Training discriminator...\n",
      "DEBUG:root:Done. Classification accuracy: 0.5 Loss: -0.4120844006538391\n",
      "DEBUG:root:Training generator...\n",
      "DEBUG:root:Done training generator.\n",
      "\n",
      "DEBUG:root:----------------- 228 / 500 -----------------\n",
      "DEBUG:root:Training discriminator...\n",
      "DEBUG:root:Done. Classification accuracy: 0.5 Loss: -0.34504905343055725\n",
      "DEBUG:root:Training generator...\n"
     ]
    },
    {
     "name": "stdout",
     "output_type": "stream",
     "text": [
      "real loss: 5.72017240524292\n",
      "fake loss: -6.284547328948975\n",
      "g:0.007686755154281855\n",
      "real loss: 5.861989974975586\n",
      "fake loss: -6.381129741668701\n",
      "g:0.08483954519033432\n",
      "real loss: 6.106308937072754\n",
      "fake loss: -6.52230167388916\n",
      "g:0.003908321727067232\n",
      "real loss: 6.254860877990723\n",
      "fake loss: -6.675646781921387\n",
      "g:0.07573685050010681\n"
     ]
    },
    {
     "name": "stderr",
     "output_type": "stream",
     "text": [
      "DEBUG:root:Done training generator.\n",
      "\n",
      "DEBUG:root:----------------- 229 / 500 -----------------\n",
      "DEBUG:root:Training discriminator...\n",
      "DEBUG:root:Done. Classification accuracy: 0.5 Loss: -0.5505503416061401\n",
      "DEBUG:root:Training generator...\n",
      "DEBUG:root:Done training generator.\n",
      "\n",
      "DEBUG:root:----------------- 230 / 500 -----------------\n",
      "DEBUG:root:Training discriminator...\n",
      "DEBUG:root:Done. Classification accuracy: 0.5 Loss: -0.37107616662979126\n",
      "DEBUG:root:Training generator...\n",
      "DEBUG:root:Done training generator.\n",
      "\n",
      "DEBUG:root:----------------- 231 / 500 -----------------\n",
      "DEBUG:root:Training discriminator...\n",
      "DEBUG:root:Done. Classification accuracy: 0.5 Loss: -0.30325013399124146\n",
      "DEBUG:root:Training generator...\n",
      "DEBUG:root:Done training generator.\n",
      "\n",
      "DEBUG:root:----------------- 232 / 500 -----------------\n"
     ]
    },
    {
     "name": "stdout",
     "output_type": "stream",
     "text": [
      "real loss: 6.353992938995361\n",
      "fake loss: -6.934206008911133\n",
      "g:0.02966270223259926\n",
      "real loss: 6.631605625152588\n",
      "fake loss: -7.003188133239746\n",
      "g:0.0005063322023488581\n",
      "real loss: 6.874878883361816\n",
      "fake loss: -7.180363178253174\n",
      "g:0.00223416555672884\n"
     ]
    },
    {
     "name": "stderr",
     "output_type": "stream",
     "text": [
      "DEBUG:root:Training discriminator...\n",
      "DEBUG:root:Done. Classification accuracy: 0.5 Loss: 2.654273509979248\n",
      "DEBUG:root:Training generator...\n",
      "DEBUG:root:Done training generator.\n",
      "\n",
      "DEBUG:root:----------------- 233 / 500 -----------------\n",
      "DEBUG:root:Training discriminator...\n",
      "DEBUG:root:Done. Classification accuracy: 0.5 Loss: -0.33602577447891235\n",
      "DEBUG:root:Training generator...\n",
      "DEBUG:root:Done training generator.\n",
      "\n",
      "DEBUG:root:----------------- 234 / 500 -----------------\n",
      "DEBUG:root:Training discriminator...\n",
      "DEBUG:root:Done. Classification accuracy: 0.5 Loss: -0.480484277009964\n",
      "DEBUG:root:Training generator...\n",
      "DEBUG:root:Done training generator.\n",
      "\n",
      "DEBUG:root:----------------- 235 / 500 -----------------\n",
      "DEBUG:root:Training discriminator...\n"
     ]
    },
    {
     "name": "stdout",
     "output_type": "stream",
     "text": [
      "real loss: 7.527641773223877\n",
      "fake loss: -7.355105876922607\n",
      "g:2.4817376136779785\n",
      "real loss: 6.329869747161865\n",
      "fake loss: -6.878385066986084\n",
      "g:0.2124895304441452\n",
      "real loss: 6.291324138641357\n",
      "fake loss: -6.81514835357666\n",
      "g:0.04333993420004845\n",
      "real loss: 6.296213626861572\n"
     ]
    },
    {
     "name": "stderr",
     "output_type": "stream",
     "text": [
      "DEBUG:root:Done. Classification accuracy: 0.5 Loss: -0.1331779956817627\n",
      "DEBUG:root:Training generator...\n",
      "DEBUG:root:Done training generator.\n",
      "\n",
      "DEBUG:root:----------------- 236 / 500 -----------------\n",
      "DEBUG:root:Training discriminator...\n",
      "DEBUG:root:Done. Classification accuracy: 0.5 Loss: -0.5278164744377136\n",
      "DEBUG:root:Training generator...\n",
      "DEBUG:root:Done training generator.\n",
      "\n",
      "DEBUG:root:----------------- 237 / 500 -----------------\n",
      "DEBUG:root:Training discriminator...\n",
      "DEBUG:root:Done. Classification accuracy: 0.5 Loss: -0.4749338626861572\n",
      "DEBUG:root:Training generator...\n",
      "DEBUG:root:Done training generator.\n",
      "\n",
      "DEBUG:root:----------------- 238 / 500 -----------------\n",
      "DEBUG:root:Training discriminator...\n"
     ]
    },
    {
     "name": "stdout",
     "output_type": "stream",
     "text": [
      "fake loss: -6.483587741851807\n",
      "g:0.05419611930847168\n",
      "real loss: 6.388577938079834\n",
      "fake loss: -6.941501140594482\n",
      "g:0.025106707587838173\n",
      "real loss: 6.581788539886475\n",
      "fake loss: -7.059528350830078\n",
      "g:0.0028059338219463825\n"
     ]
    },
    {
     "name": "stderr",
     "output_type": "stream",
     "text": [
      "DEBUG:root:Done. Classification accuracy: 0.5 Loss: -0.40333104133605957\n",
      "DEBUG:root:Training generator...\n",
      "DEBUG:root:Done training generator.\n",
      "\n",
      "DEBUG:root:----------------- 239 / 500 -----------------\n",
      "DEBUG:root:Training discriminator...\n",
      "DEBUG:root:Done. Classification accuracy: 0.5 Loss: -0.4196193218231201\n",
      "DEBUG:root:Training generator...\n",
      "DEBUG:root:Done training generator.\n",
      "\n",
      "DEBUG:root:----------------- 240 / 500 -----------------\n",
      "DEBUG:root:Training discriminator...\n",
      "DEBUG:root:Done. Classification accuracy: 0.5 Loss: -0.05806027352809906\n",
      "DEBUG:root:Training generator...\n"
     ]
    },
    {
     "name": "stdout",
     "output_type": "stream",
     "text": [
      "real loss: 6.672137260437012\n",
      "fake loss: -7.225149154663086\n",
      "g:0.14968086779117584\n",
      "real loss: 6.9080400466918945\n",
      "fake loss: -7.399471759796143\n",
      "g:0.07181237637996674\n",
      "real loss: 7.1201629638671875\n",
      "fake loss: -7.178620338439941\n",
      "g:0.0003971005789935589\n"
     ]
    },
    {
     "name": "stderr",
     "output_type": "stream",
     "text": [
      "DEBUG:root:Done training generator.\n",
      "\n",
      "DEBUG:root:----------------- 241 / 500 -----------------\n",
      "DEBUG:root:Training discriminator...\n",
      "DEBUG:root:Done. Classification accuracy: 0.5 Loss: -0.23002499341964722\n",
      "DEBUG:root:Training generator...\n",
      "DEBUG:root:Done training generator.\n",
      "\n",
      "DEBUG:root:----------------- 242 / 500 -----------------\n",
      "DEBUG:root:Training discriminator...\n",
      "DEBUG:root:Done. Classification accuracy: 0.5 Loss: 10.160529136657715\n",
      "DEBUG:root:Training generator...\n",
      "DEBUG:root:Done training generator.\n",
      "\n",
      "DEBUG:root:----------------- 243 / 500 -----------------\n",
      "DEBUG:root:Training discriminator...\n",
      "DEBUG:root:Done. Classification accuracy: 0.5 Loss: 14.232292175292969\n",
      "DEBUG:root:Training generator...\n",
      "DEBUG:root:Done training generator.\n",
      "\n"
     ]
    },
    {
     "name": "stdout",
     "output_type": "stream",
     "text": [
      "real loss: 7.378773212432861\n",
      "fake loss: -7.778205394744873\n",
      "g:0.1694071888923645\n",
      "real loss: 7.444624900817871\n",
      "fake loss: -8.033815383911133\n",
      "g:10.749719619750977\n",
      "real loss: 6.448616981506348\n",
      "fake loss: -6.5994133949279785\n",
      "g:14.383089065551758\n"
     ]
    },
    {
     "name": "stderr",
     "output_type": "stream",
     "text": [
      "DEBUG:root:----------------- 244 / 500 -----------------\n",
      "DEBUG:root:Training discriminator...\n",
      "DEBUG:root:Done. Classification accuracy: 0.5 Loss: 0.808517336845398\n",
      "DEBUG:root:Training generator...\n",
      "DEBUG:root:Done training generator.\n",
      "\n",
      "DEBUG:root:----------------- 245 / 500 -----------------\n",
      "DEBUG:root:Training discriminator...\n",
      "DEBUG:root:Done. Classification accuracy: 0.5 Loss: -0.07493266463279724\n",
      "DEBUG:root:Training generator...\n",
      "DEBUG:root:Done training generator.\n",
      "\n",
      "DEBUG:root:----------------- 246 / 500 -----------------\n",
      "DEBUG:root:Training discriminator...\n",
      "DEBUG:root:Done. Classification accuracy: 0.5 Loss: -0.6032081246376038\n",
      "DEBUG:root:Training generator...\n"
     ]
    },
    {
     "name": "stdout",
     "output_type": "stream",
     "text": [
      "real loss: 5.781814098358154\n",
      "fake loss: -5.566738605499268\n",
      "g:0.5934418439865112\n",
      "real loss: 5.198236465454102\n",
      "fake loss: -5.7036895751953125\n",
      "g:0.4305204451084137\n",
      "real loss: 5.004883766174316\n",
      "fake loss: -5.64816951751709\n",
      "g:0.04007763788104057\n"
     ]
    },
    {
     "name": "stderr",
     "output_type": "stream",
     "text": [
      "DEBUG:root:Done training generator.\n",
      "\n",
      "DEBUG:root:----------------- 247 / 500 -----------------\n",
      "DEBUG:root:Training discriminator...\n",
      "DEBUG:root:Done. Classification accuracy: 0.5 Loss: 0.12249323725700378\n",
      "DEBUG:root:Training generator...\n",
      "DEBUG:root:Done training generator.\n",
      "\n",
      "DEBUG:root:----------------- 248 / 500 -----------------\n",
      "DEBUG:root:Training discriminator...\n",
      "DEBUG:root:Done. Classification accuracy: 0.5 Loss: -0.010951902717351913\n",
      "DEBUG:root:Training generator...\n",
      "DEBUG:root:Done training generator.\n",
      "\n",
      "DEBUG:root:----------------- 249 / 500 -----------------\n",
      "DEBUG:root:Training discriminator...\n",
      "DEBUG:root:Done. Classification accuracy: 0.5 Loss: -0.3237212002277374\n",
      "DEBUG:root:Training generator...\n",
      "DEBUG:root:Done training generator.\n",
      "\n"
     ]
    },
    {
     "name": "stdout",
     "output_type": "stream",
     "text": [
      "real loss: 5.044067859649658\n",
      "fake loss: -5.2840399742126465\n",
      "g:0.36246535181999207\n",
      "real loss: 5.726533889770508\n",
      "fake loss: -5.737485885620117\n",
      "g:9.287776947530801e-08\n",
      "real loss: 5.268856525421143\n",
      "fake loss: -5.8203864097595215\n",
      "g:0.22780868411064148\n"
     ]
    },
    {
     "name": "stderr",
     "output_type": "stream",
     "text": [
      "DEBUG:root:----------------- 250 / 500 -----------------\n",
      "DEBUG:root:Training discriminator...\n",
      "DEBUG:root:Done. Classification accuracy: 0.5 Loss: -0.09096064418554306\n",
      "DEBUG:root:Training generator...\n",
      "DEBUG:root:Done training generator.\n",
      "\n",
      "DEBUG:root:----------------- 251 / 500 -----------------\n",
      "DEBUG:root:Training discriminator...\n",
      "DEBUG:root:Done. Classification accuracy: 0.5 Loss: -0.5541823506355286\n",
      "DEBUG:root:Training generator...\n",
      "DEBUG:root:Done training generator.\n",
      "\n",
      "DEBUG:root:----------------- 252 / 500 -----------------\n",
      "DEBUG:root:Training discriminator...\n",
      "DEBUG:root:Done. Classification accuracy: 0.5 Loss: 0.2111263871192932\n",
      "DEBUG:root:Training generator...\n",
      "DEBUG:root:Done training generator.\n",
      "\n",
      "DEBUG:root:----------------- 253 / 500 -----------------\n",
      "DEBUG:root:Training discriminator...\n"
     ]
    },
    {
     "name": "stdout",
     "output_type": "stream",
     "text": [
      "real loss: 5.385275363922119\n",
      "fake loss: -5.5425028800964355\n",
      "g:0.06626687198877335\n",
      "real loss: 5.4659271240234375\n",
      "fake loss: -6.029279708862305\n",
      "g:0.009170226752758026\n",
      "real loss: 5.613847732543945\n",
      "fake loss: -5.678895950317383\n",
      "g:0.2761746048927307\n"
     ]
    },
    {
     "name": "stderr",
     "output_type": "stream",
     "text": [
      "DEBUG:root:Done. Classification accuracy: 0.5 Loss: -0.6178244948387146\n",
      "DEBUG:root:Training generator...\n",
      "DEBUG:root:Done training generator.\n",
      "\n",
      "DEBUG:root:----------------- 254 / 500 -----------------\n",
      "DEBUG:root:Training discriminator...\n",
      "DEBUG:root:Done. Classification accuracy: 0.5 Loss: -0.3661278784275055\n",
      "DEBUG:root:Training generator...\n",
      "DEBUG:root:Done training generator.\n",
      "\n",
      "DEBUG:root:----------------- 255 / 500 -----------------\n",
      "DEBUG:root:Training discriminator...\n",
      "DEBUG:root:Done. Classification accuracy: 0.5 Loss: 0.41045892238616943\n",
      "DEBUG:root:Training generator...\n",
      "DEBUG:root:Done training generator.\n",
      "\n",
      "DEBUG:root:----------------- 256 / 500 -----------------\n",
      "DEBUG:root:Training discriminator...\n"
     ]
    },
    {
     "name": "stdout",
     "output_type": "stream",
     "text": [
      "real loss: 5.620983600616455\n",
      "fake loss: -6.240879058837891\n",
      "g:0.0020709806121885777\n",
      "real loss: 5.852209568023682\n",
      "fake loss: -6.376953601837158\n",
      "g:0.15861615538597107\n",
      "real loss: 6.455035209655762\n",
      "fake loss: -6.092598915100098\n",
      "g:0.04802262410521507\n",
      "real loss: 6.094803810119629\n"
     ]
    },
    {
     "name": "stderr",
     "output_type": "stream",
     "text": [
      "DEBUG:root:Done. Classification accuracy: 0.5 Loss: -0.45442265272140503\n",
      "DEBUG:root:Training generator...\n",
      "DEBUG:root:Done training generator.\n",
      "\n",
      "DEBUG:root:----------------- 257 / 500 -----------------\n",
      "DEBUG:root:Training discriminator...\n",
      "DEBUG:root:Done. Classification accuracy: 0.5 Loss: -0.5499400496482849\n",
      "DEBUG:root:Training generator...\n",
      "DEBUG:root:Done training generator.\n",
      "\n",
      "DEBUG:root:----------------- 258 / 500 -----------------\n",
      "DEBUG:root:Training discriminator...\n",
      "DEBUG:root:Done. Classification accuracy: 0.5 Loss: -0.3707934617996216\n",
      "DEBUG:root:Training generator...\n",
      "DEBUG:root:Done training generator.\n",
      "\n",
      "DEBUG:root:----------------- 259 / 500 -----------------\n",
      "DEBUG:root:Training discriminator...\n"
     ]
    },
    {
     "name": "stdout",
     "output_type": "stream",
     "text": [
      "fake loss: -6.620732307434082\n",
      "g:0.0715058371424675\n",
      "real loss: 6.171397686004639\n",
      "fake loss: -6.749060153961182\n",
      "g:0.027722399681806564\n",
      "real loss: 6.31960391998291\n",
      "fake loss: -6.882477283477783\n",
      "g:0.19207988679409027\n",
      "real loss: 6.49171257019043\n",
      "fake loss: -7.0384063720703125\n"
     ]
    },
    {
     "name": "stderr",
     "output_type": "stream",
     "text": [
      "DEBUG:root:Done. Classification accuracy: 0.5 Loss: -0.5466697216033936\n",
      "DEBUG:root:Training generator...\n",
      "DEBUG:root:Done training generator.\n",
      "\n",
      "DEBUG:root:----------------- 260 / 500 -----------------\n",
      "DEBUG:root:Training discriminator...\n",
      "DEBUG:root:Done. Classification accuracy: 0.5 Loss: -0.48147621750831604\n",
      "DEBUG:root:Training generator...\n",
      "DEBUG:root:Done training generator.\n",
      "\n",
      "DEBUG:root:----------------- 261 / 500 -----------------\n",
      "DEBUG:root:Training discriminator...\n",
      "DEBUG:root:Done. Classification accuracy: 0.5 Loss: -0.40734437108039856\n",
      "DEBUG:root:Training generator...\n",
      "DEBUG:root:Done training generator.\n",
      "\n",
      "DEBUG:root:----------------- 262 / 500 -----------------\n",
      "DEBUG:root:Training discriminator...\n"
     ]
    },
    {
     "name": "stdout",
     "output_type": "stream",
     "text": [
      "g:2.4083446987788193e-05\n",
      "real loss: 6.72885799407959\n",
      "fake loss: -7.212484836578369\n",
      "g:0.0021506219636648893\n",
      "real loss: 6.9507832527160645\n",
      "fake loss: -7.368032932281494\n",
      "g:0.009905315935611725\n",
      "real loss: 6.991484642028809\n",
      "fake loss: -7.524808883666992\n"
     ]
    },
    {
     "name": "stderr",
     "output_type": "stream",
     "text": [
      "DEBUG:root:Done. Classification accuracy: 0.5 Loss: -0.48033004999160767\n",
      "DEBUG:root:Training generator...\n",
      "DEBUG:root:Done training generator.\n",
      "\n",
      "DEBUG:root:----------------- 263 / 500 -----------------\n",
      "DEBUG:root:Training discriminator...\n",
      "DEBUG:root:Done. Classification accuracy: 0.5 Loss: -0.22511878609657288\n",
      "DEBUG:root:Training generator...\n",
      "DEBUG:root:Done training generator.\n",
      "\n",
      "DEBUG:root:----------------- 264 / 500 -----------------\n",
      "DEBUG:root:Training discriminator...\n",
      "DEBUG:root:Done. Classification accuracy: 0.5 Loss: -0.4692692160606384\n",
      "DEBUG:root:Training generator...\n",
      "DEBUG:root:Done training generator.\n",
      "\n",
      "DEBUG:root:----------------- 265 / 500 -----------------\n",
      "DEBUG:root:Training discriminator...\n"
     ]
    },
    {
     "name": "stdout",
     "output_type": "stream",
     "text": [
      "g:0.052994176745414734\n",
      "real loss: 7.452517509460449\n",
      "fake loss: -7.727907180786133\n",
      "g:0.05027088150382042\n",
      "real loss: 7.5260844230651855\n",
      "fake loss: -8.055564880371094\n",
      "g:0.06021124869585037\n",
      "real loss: 7.7685980796813965\n"
     ]
    },
    {
     "name": "stderr",
     "output_type": "stream",
     "text": [
      "DEBUG:root:Done. Classification accuracy: 0.5 Loss: -0.33455121517181396\n",
      "DEBUG:root:Training generator...\n",
      "DEBUG:root:Done training generator.\n",
      "\n",
      "DEBUG:root:----------------- 266 / 500 -----------------\n",
      "DEBUG:root:Training discriminator...\n",
      "DEBUG:root:Done. Classification accuracy: 0.5 Loss: -0.21546106040477753\n",
      "DEBUG:root:Training generator...\n",
      "DEBUG:root:Done training generator.\n",
      "\n",
      "DEBUG:root:----------------- 267 / 500 -----------------\n",
      "DEBUG:root:Training discriminator...\n",
      "DEBUG:root:Done. Classification accuracy: 0.5 Loss: -0.2343520075082779\n",
      "DEBUG:root:Training generator...\n",
      "DEBUG:root:Done training generator.\n",
      "\n",
      "DEBUG:root:----------------- 268 / 500 -----------------\n",
      "DEBUG:root:Training discriminator...\n"
     ]
    },
    {
     "name": "stdout",
     "output_type": "stream",
     "text": [
      "fake loss: -8.142617225646973\n",
      "g:0.039467934519052505\n",
      "real loss: 8.123719215393066\n",
      "fake loss: -8.3532133102417\n",
      "g:0.014033040031790733\n",
      "real loss: 8.337480545043945\n",
      "fake loss: -8.572306632995605\n",
      "g:0.00047408344107680023\n",
      "real loss: 8.686617851257324\n",
      "fake loss: -8.791854858398438\n"
     ]
    },
    {
     "name": "stderr",
     "output_type": "stream",
     "text": [
      "DEBUG:root:Done. Classification accuracy: 0.5 Loss: -0.1047232449054718\n",
      "DEBUG:root:Training generator...\n",
      "DEBUG:root:Done training generator.\n",
      "\n",
      "DEBUG:root:----------------- 269 / 500 -----------------\n",
      "DEBUG:root:Training discriminator...\n",
      "DEBUG:root:Done. Classification accuracy: 0.5 Loss: -0.24395856261253357\n",
      "DEBUG:root:Training generator...\n",
      "DEBUG:root:Done training generator.\n",
      "\n",
      "DEBUG:root:----------------- 270 / 500 -----------------\n",
      "DEBUG:root:Training discriminator...\n",
      "DEBUG:root:Done. Classification accuracy: 0.5 Loss: -0.14220330119132996\n",
      "DEBUG:root:Training generator...\n",
      "DEBUG:root:Done training generator.\n",
      "\n",
      "DEBUG:root:----------------- 271 / 500 -----------------\n",
      "DEBUG:root:Training discriminator...\n"
     ]
    },
    {
     "name": "stdout",
     "output_type": "stream",
     "text": [
      "g:0.0005137600237503648\n",
      "real loss: 8.818182945251465\n",
      "fake loss: -9.06242561340332\n",
      "g:0.000284105131868273\n",
      "real loss: 8.765721321105957\n",
      "fake loss: -9.330379486083984\n",
      "g:0.4224548637866974\n",
      "real loss: 9.512639045715332\n",
      "fake loss: -9.50011920928955\n",
      "g:0.012280477210879326\n"
     ]
    },
    {
     "name": "stderr",
     "output_type": "stream",
     "text": [
      "DEBUG:root:Done. Classification accuracy: 0.5 Loss: 0.024800313636660576\n",
      "DEBUG:root:Training generator...\n",
      "DEBUG:root:Done training generator.\n",
      "\n",
      "DEBUG:root:----------------- 272 / 500 -----------------\n",
      "DEBUG:root:Training discriminator...\n",
      "DEBUG:root:Done. Classification accuracy: 0.5 Loss: 0.5870967507362366\n",
      "DEBUG:root:Training generator...\n",
      "DEBUG:root:Done training generator.\n",
      "\n",
      "DEBUG:root:----------------- 273 / 500 -----------------\n",
      "DEBUG:root:Training discriminator...\n",
      "DEBUG:root:Done. Classification accuracy: 0.5 Loss: 0.5567586421966553\n",
      "DEBUG:root:Training generator...\n",
      "DEBUG:root:Done training generator.\n",
      "\n",
      "DEBUG:root:----------------- 274 / 500 -----------------\n",
      "DEBUG:root:Training discriminator...\n",
      "DEBUG:root:Done. Classification accuracy: 0.5 Loss: 0.007434227969497442\n",
      "DEBUG:root:Training generator...\n",
      "DEBUG:root:Done training generator.\n",
      "\n",
      "DEBUG:root:----------------- 275 / 500 -----------------\n",
      "DEBUG:root:Training discriminator...\n"
     ]
    },
    {
     "name": "stdout",
     "output_type": "stream",
     "text": [
      "real loss: 10.116968154907227\n",
      "fake loss: -9.74001693725586\n",
      "g:0.21014554798603058\n",
      "real loss: 10.514898300170898\n",
      "fake loss: -9.980609893798828\n",
      "g:0.022470248863101006\n",
      "real loss: 10.26555061340332\n",
      "fake loss: -10.261528968811035\n",
      "g:0.003412583377212286\n",
      "real loss: 10.70727825164795\n"
     ]
    },
    {
     "name": "stderr",
     "output_type": "stream",
     "text": [
      "DEBUG:root:Done. Classification accuracy: 0.5 Loss: 0.13179591298103333\n",
      "DEBUG:root:Training generator...\n",
      "DEBUG:root:Done training generator.\n",
      "\n",
      "DEBUG:root:----------------- 276 / 500 -----------------\n",
      "DEBUG:root:Training discriminator...\n",
      "DEBUG:root:Done. Classification accuracy: 0.5 Loss: 0.8214845657348633\n",
      "DEBUG:root:Training generator...\n",
      "DEBUG:root:Done training generator.\n",
      "\n",
      "DEBUG:root:----------------- 277 / 500 -----------------\n",
      "DEBUG:root:Training discriminator...\n",
      "DEBUG:root:Done. Classification accuracy: 0.5 Loss: 2.896329402923584\n",
      "DEBUG:root:Training generator...\n",
      "DEBUG:root:Done training generator.\n",
      "\n",
      "DEBUG:root:----------------- 278 / 500 -----------------\n",
      "DEBUG:root:Training discriminator...\n"
     ]
    },
    {
     "name": "stdout",
     "output_type": "stream",
     "text": [
      "fake loss: -10.585370063781738\n",
      "g:0.009887728840112686\n",
      "real loss: 11.738306999206543\n",
      "fake loss: -10.953946113586426\n",
      "g:0.037123698741197586\n",
      "real loss: 12.798575401306152\n",
      "fake loss: -9.910157203674316\n",
      "g:0.007911218330264091\n",
      "real loss: 12.83495044708252\n"
     ]
    },
    {
     "name": "stderr",
     "output_type": "stream",
     "text": [
      "DEBUG:root:Done. Classification accuracy: 0.5 Loss: 1.1510714292526245\n",
      "DEBUG:root:Training generator...\n",
      "DEBUG:root:Done training generator.\n",
      "\n",
      "DEBUG:root:----------------- 279 / 500 -----------------\n",
      "DEBUG:root:Training discriminator...\n",
      "DEBUG:root:Done. Classification accuracy: 0.5 Loss: 1.3384461402893066\n",
      "DEBUG:root:Training generator...\n",
      "DEBUG:root:Done training generator.\n",
      "\n",
      "DEBUG:root:----------------- 280 / 500 -----------------\n",
      "DEBUG:root:Training discriminator...\n",
      "DEBUG:root:Done. Classification accuracy: 0.5 Loss: 1.661905288696289\n",
      "DEBUG:root:Training generator...\n",
      "DEBUG:root:Done training generator.\n",
      "\n",
      "DEBUG:root:----------------- 281 / 500 -----------------\n",
      "DEBUG:root:Training discriminator...\n"
     ]
    },
    {
     "name": "stdout",
     "output_type": "stream",
     "text": [
      "fake loss: -11.688497543334961\n",
      "g:0.004618499893695116\n",
      "real loss: 13.437679290771484\n",
      "fake loss: -12.10019588470459\n",
      "g:0.0009627831750549376\n",
      "real loss: 14.228477478027344\n",
      "fake loss: -12.567131042480469\n",
      "g:0.0005588062340393662\n",
      "real loss: 14.092192649841309\n",
      "fake loss: -13.085026741027832\n",
      "g:0.21330492198467255\n"
     ]
    },
    {
     "name": "stderr",
     "output_type": "stream",
     "text": [
      "DEBUG:root:Done. Classification accuracy: 0.5 Loss: 1.2204707860946655\n",
      "DEBUG:root:Training generator...\n",
      "DEBUG:root:Done training generator.\n",
      "\n",
      "DEBUG:root:----------------- 282 / 500 -----------------\n",
      "DEBUG:root:Training discriminator...\n",
      "DEBUG:root:Done. Classification accuracy: 0.5 Loss: 3.9896059036254883\n",
      "DEBUG:root:Training generator...\n",
      "DEBUG:root:Done training generator.\n",
      "\n",
      "DEBUG:root:----------------- 283 / 500 -----------------\n",
      "DEBUG:root:Training discriminator...\n",
      "DEBUG:root:Done. Classification accuracy: 0.5 Loss: 14.61582088470459\n",
      "DEBUG:root:Training generator...\n",
      "DEBUG:root:Done training generator.\n",
      "\n",
      "DEBUG:root:----------------- 284 / 500 -----------------\n",
      "DEBUG:root:Training discriminator...\n",
      "DEBUG:root:Done. Classification accuracy: 0.5 Loss: 3.202641487121582\n",
      "DEBUG:root:Training generator...\n"
     ]
    },
    {
     "name": "stdout",
     "output_type": "stream",
     "text": [
      "real loss: 15.949365615844727\n",
      "fake loss: -13.452376365661621\n",
      "g:1.4926166534423828\n",
      "real loss: 17.994646072387695\n",
      "fake loss: -13.744368553161621\n",
      "g:10.365543365478516\n",
      "real loss: 11.090365409851074\n",
      "fake loss: -10.76347541809082\n",
      "g:2.875751495361328\n"
     ]
    },
    {
     "name": "stderr",
     "output_type": "stream",
     "text": [
      "DEBUG:root:Done training generator.\n",
      "\n",
      "DEBUG:root:----------------- 285 / 500 -----------------\n",
      "DEBUG:root:Training discriminator...\n",
      "DEBUG:root:Done. Classification accuracy: 0.5 Loss: -0.5910346508026123\n",
      "DEBUG:root:Training generator...\n",
      "DEBUG:root:Done training generator.\n",
      "\n",
      "DEBUG:root:----------------- 286 / 500 -----------------\n",
      "DEBUG:root:Training discriminator...\n",
      "DEBUG:root:Done. Classification accuracy: 0.5 Loss: -0.589836597442627\n",
      "DEBUG:root:Training generator...\n",
      "DEBUG:root:Done training generator.\n",
      "\n",
      "DEBUG:root:----------------- 287 / 500 -----------------\n",
      "DEBUG:root:Training discriminator...\n",
      "DEBUG:root:Done. Classification accuracy: 0.5 Loss: -0.9262743592262268\n",
      "DEBUG:root:Training generator...\n"
     ]
    },
    {
     "name": "stdout",
     "output_type": "stream",
     "text": [
      "real loss: 8.584875106811523\n",
      "fake loss: -9.193062782287598\n",
      "g:0.017153017222881317\n",
      "real loss: 7.479349613189697\n",
      "fake loss: -8.62617015838623\n",
      "g:0.5569839477539062\n",
      "real loss: 7.275359153747559\n",
      "fake loss: -8.454519271850586\n",
      "g:0.25288575887680054\n"
     ]
    },
    {
     "name": "stderr",
     "output_type": "stream",
     "text": [
      "DEBUG:root:Done training generator.\n",
      "\n",
      "DEBUG:root:----------------- 288 / 500 -----------------\n",
      "DEBUG:root:Training discriminator...\n",
      "DEBUG:root:Done. Classification accuracy: 0.5 Loss: -0.034877896308898926\n",
      "DEBUG:root:Training generator...\n",
      "DEBUG:root:Done training generator.\n",
      "\n",
      "DEBUG:root:----------------- 289 / 500 -----------------\n",
      "DEBUG:root:Training discriminator...\n",
      "DEBUG:root:Done. Classification accuracy: 0.5 Loss: 1.1361221075057983\n",
      "DEBUG:root:Training generator...\n",
      "DEBUG:root:Done training generator.\n",
      "\n",
      "DEBUG:root:----------------- 290 / 500 -----------------\n",
      "DEBUG:root:Training discriminator...\n",
      "DEBUG:root:Done. Classification accuracy: 0.5 Loss: -0.9221389889717102\n",
      "DEBUG:root:Training generator...\n",
      "DEBUG:root:Done training generator.\n",
      "\n",
      "DEBUG:root:----------------- 291 / 500 -----------------\n",
      "DEBUG:root:Training discriminator...\n"
     ]
    },
    {
     "name": "stdout",
     "output_type": "stream",
     "text": [
      "real loss: 8.11585521697998\n",
      "fake loss: -8.51240348815918\n",
      "g:0.3616703748703003\n",
      "real loss: 8.408373832702637\n",
      "fake loss: -8.448309898376465\n",
      "g:1.1760581731796265\n",
      "real loss: 8.084026336669922\n",
      "fake loss: -9.128006935119629\n",
      "g:0.12184163182973862\n",
      "real loss: 8.456171989440918\n",
      "fake loss: -9.482027053833008\n",
      "g:0.6610820293426514\n"
     ]
    },
    {
     "name": "stderr",
     "output_type": "stream",
     "text": [
      "DEBUG:root:Done. Classification accuracy: 0.5 Loss: -0.3647730350494385\n",
      "DEBUG:root:Training generator...\n",
      "DEBUG:root:Done training generator.\n",
      "\n",
      "DEBUG:root:----------------- 292 / 500 -----------------\n",
      "DEBUG:root:Training discriminator...\n",
      "DEBUG:root:Done. Classification accuracy: 0.5 Loss: -0.43970414996147156\n",
      "DEBUG:root:Training generator...\n",
      "DEBUG:root:Done training generator.\n",
      "\n",
      "DEBUG:root:----------------- 293 / 500 -----------------\n",
      "DEBUG:root:Training discriminator...\n",
      "DEBUG:root:Done. Classification accuracy: 0.5 Loss: -0.474475234746933\n",
      "DEBUG:root:Training generator...\n",
      "DEBUG:root:Done training generator.\n",
      "\n",
      "DEBUG:root:----------------- 294 / 500 -----------------\n",
      "DEBUG:root:Training discriminator...\n",
      "DEBUG:root:Done. Classification accuracy: 0.5 Loss: -0.4786362648010254\n",
      "DEBUG:root:Training generator...\n"
     ]
    },
    {
     "name": "stdout",
     "output_type": "stream",
     "text": [
      "real loss: 9.252584457397461\n",
      "fake loss: -9.759764671325684\n",
      "g:0.0674760714173317\n",
      "real loss: 9.475525856018066\n",
      "fake loss: -10.218937873840332\n",
      "g:0.26893678307533264\n",
      "real loss: 9.919668197631836\n",
      "fake loss: -10.599725723266602\n",
      "g:0.20142124593257904\n"
     ]
    },
    {
     "name": "stderr",
     "output_type": "stream",
     "text": [
      "DEBUG:root:Done training generator.\n",
      "\n",
      "DEBUG:root:----------------- 295 / 500 -----------------\n",
      "DEBUG:root:Training discriminator...\n",
      "DEBUG:root:Done. Classification accuracy: 0.5 Loss: -0.17316436767578125\n",
      "DEBUG:root:Training generator...\n",
      "DEBUG:root:Done training generator.\n",
      "\n",
      "DEBUG:root:----------------- 296 / 500 -----------------\n",
      "DEBUG:root:Training discriminator...\n",
      "DEBUG:root:Done. Classification accuracy: 0.5 Loss: 5.097683429718018\n",
      "DEBUG:root:Training generator...\n",
      "DEBUG:root:Done training generator.\n",
      "\n",
      "DEBUG:root:----------------- 297 / 500 -----------------\n",
      "DEBUG:root:Training discriminator...\n",
      "DEBUG:root:Done. Classification accuracy: 0.5 Loss: -0.5478656888008118\n",
      "DEBUG:root:Training generator...\n"
     ]
    },
    {
     "name": "stdout",
     "output_type": "stream",
     "text": [
      "real loss: 10.262336730957031\n",
      "fake loss: -10.982126235961914\n",
      "g:0.5466251373291016\n",
      "real loss: 11.278392791748047\n",
      "fake loss: -11.409538269042969\n",
      "g:5.2288289070129395\n",
      "real loss: 9.590017318725586\n",
      "fake loss: -10.161179542541504\n",
      "g:0.02329656295478344\n"
     ]
    },
    {
     "name": "stderr",
     "output_type": "stream",
     "text": [
      "DEBUG:root:Done training generator.\n",
      "\n",
      "DEBUG:root:----------------- 298 / 500 -----------------\n",
      "DEBUG:root:Training discriminator...\n",
      "DEBUG:root:Done. Classification accuracy: 0.5 Loss: 0.0939861536026001\n",
      "DEBUG:root:Training generator...\n",
      "DEBUG:root:Done training generator.\n",
      "\n",
      "DEBUG:root:----------------- 299 / 500 -----------------\n",
      "DEBUG:root:Training discriminator...\n",
      "DEBUG:root:Done. Classification accuracy: 0.5 Loss: -1.203503131866455\n",
      "DEBUG:root:Training generator...\n",
      "DEBUG:root:Done training generator.\n",
      "\n",
      "DEBUG:root:----------------- 300 / 500 -----------------\n",
      "DEBUG:root:Training discriminator...\n",
      "DEBUG:root:Done. Classification accuracy: 0.5 Loss: -0.2739377021789551\n",
      "DEBUG:root:Training generator...\n"
     ]
    },
    {
     "name": "stdout",
     "output_type": "stream",
     "text": [
      "real loss: 9.234009742736816\n",
      "fake loss: -10.000090599060059\n",
      "g:0.8600670099258423\n",
      "real loss: 8.874898910522461\n",
      "fake loss: -10.101133346557617\n",
      "g:0.022731343284249306\n",
      "real loss: 9.6317777633667\n",
      "fake loss: -10.148908615112305\n",
      "g:0.2431931495666504\n"
     ]
    },
    {
     "name": "stderr",
     "output_type": "stream",
     "text": [
      "DEBUG:root:Done training generator.\n",
      "\n",
      "DEBUG:root:----------------- 301 / 500 -----------------\n",
      "DEBUG:root:Training discriminator...\n",
      "DEBUG:root:Done. Classification accuracy: 0.5 Loss: -0.756011426448822\n",
      "DEBUG:root:Training generator...\n",
      "DEBUG:root:Done training generator.\n",
      "\n",
      "DEBUG:root:----------------- 302 / 500 -----------------\n",
      "DEBUG:root:Training discriminator...\n",
      "DEBUG:root:Done. Classification accuracy: 0.5 Loss: -0.021008867770433426\n",
      "DEBUG:root:Training generator...\n",
      "DEBUG:root:Done training generator.\n",
      "\n",
      "DEBUG:root:----------------- 303 / 500 -----------------\n",
      "DEBUG:root:Training discriminator...\n",
      "DEBUG:root:Done. Classification accuracy: 0.5 Loss: -0.2428617924451828\n",
      "DEBUG:root:Training generator...\n"
     ]
    },
    {
     "name": "stdout",
     "output_type": "stream",
     "text": [
      "real loss: 9.929386138916016\n",
      "fake loss: -10.685784339904785\n",
      "g:0.00038678734563291073\n",
      "real loss: 11.0274658203125\n",
      "fake loss: -11.062509536743164\n",
      "g:0.014034847728908062\n",
      "real loss: 10.780696868896484\n",
      "fake loss: -11.070466041564941\n",
      "g:0.04690737649798393\n"
     ]
    },
    {
     "name": "stderr",
     "output_type": "stream",
     "text": [
      "DEBUG:root:Done training generator.\n",
      "\n",
      "DEBUG:root:----------------- 304 / 500 -----------------\n",
      "DEBUG:root:Training discriminator...\n",
      "DEBUG:root:Done. Classification accuracy: 0.5 Loss: -0.6720283031463623\n",
      "DEBUG:root:Training generator...\n",
      "DEBUG:root:Done training generator.\n",
      "\n",
      "DEBUG:root:----------------- 305 / 500 -----------------\n",
      "DEBUG:root:Training discriminator...\n",
      "DEBUG:root:Done. Classification accuracy: 0.5 Loss: -0.5377240180969238\n",
      "DEBUG:root:Training generator...\n",
      "DEBUG:root:Done training generator.\n",
      "\n",
      "DEBUG:root:----------------- 306 / 500 -----------------\n",
      "DEBUG:root:Training discriminator...\n",
      "DEBUG:root:Done. Classification accuracy: 0.5 Loss: 0.03929316997528076\n",
      "DEBUG:root:Training generator...\n"
     ]
    },
    {
     "name": "stdout",
     "output_type": "stream",
     "text": [
      "real loss: 11.176819801330566\n",
      "fake loss: -11.889859199523926\n",
      "g:0.04101112112402916\n",
      "real loss: 11.781825065612793\n",
      "fake loss: -12.352133750915527\n",
      "g:0.03258465230464935\n",
      "real loss: 12.70439624786377\n",
      "fake loss: -13.220381736755371\n",
      "g:0.5552786588668823\n"
     ]
    },
    {
     "name": "stderr",
     "output_type": "stream",
     "text": [
      "DEBUG:root:Done training generator.\n",
      "\n",
      "DEBUG:root:----------------- 307 / 500 -----------------\n",
      "DEBUG:root:Training discriminator...\n",
      "DEBUG:root:Done. Classification accuracy: 0.5 Loss: -0.4026826322078705\n",
      "DEBUG:root:Training generator...\n",
      "DEBUG:root:Done training generator.\n",
      "\n",
      "DEBUG:root:----------------- 308 / 500 -----------------\n",
      "DEBUG:root:Training discriminator...\n",
      "DEBUG:root:Done. Classification accuracy: 0.5 Loss: -0.2746434509754181\n",
      "DEBUG:root:Training generator...\n",
      "DEBUG:root:Done training generator.\n",
      "\n",
      "DEBUG:root:----------------- 309 / 500 -----------------\n",
      "DEBUG:root:Training discriminator...\n",
      "DEBUG:root:Done. Classification accuracy: 0.5 Loss: 0.37684154510498047\n",
      "DEBUG:root:Training generator...\n"
     ]
    },
    {
     "name": "stdout",
     "output_type": "stream",
     "text": [
      "real loss: 12.669233322143555\n",
      "fake loss: -13.072257041931152\n",
      "g:0.00034109645639546216\n",
      "real loss: 13.214837074279785\n",
      "fake loss: -13.517398834228516\n",
      "g:0.027918310835957527\n",
      "real loss: 14.281584739685059\n",
      "fake loss: -14.075052261352539\n",
      "g:0.17030908167362213\n"
     ]
    },
    {
     "name": "stderr",
     "output_type": "stream",
     "text": [
      "DEBUG:root:Done training generator.\n",
      "\n",
      "DEBUG:root:----------------- 310 / 500 -----------------\n",
      "DEBUG:root:Training discriminator...\n",
      "DEBUG:root:Done. Classification accuracy: 0.5 Loss: 1.9778928756713867\n",
      "DEBUG:root:Training generator...\n",
      "DEBUG:root:Done training generator.\n",
      "\n",
      "DEBUG:root:----------------- 311 / 500 -----------------\n",
      "DEBUG:root:Training discriminator...\n",
      "DEBUG:root:Done. Classification accuracy: 0.5 Loss: 0.5401629209518433\n",
      "DEBUG:root:Training generator...\n",
      "DEBUG:root:Done training generator.\n",
      "\n",
      "DEBUG:root:----------------- 312 / 500 -----------------\n",
      "DEBUG:root:Training discriminator...\n",
      "DEBUG:root:Done. Classification accuracy: 0.5 Loss: 0.327724814414978\n",
      "DEBUG:root:Training generator...\n",
      "DEBUG:root:Done training generator.\n",
      "\n"
     ]
    },
    {
     "name": "stdout",
     "output_type": "stream",
     "text": [
      "real loss: 15.021244049072266\n",
      "fake loss: -14.705451965332031\n",
      "g:1.6621007919311523\n",
      "real loss: 14.37138843536377\n",
      "fake loss: -14.068842887878418\n",
      "g:0.2376173883676529\n",
      "real loss: 14.870701789855957\n",
      "fake loss: -14.732686042785645\n",
      "g:0.18970908224582672\n"
     ]
    },
    {
     "name": "stderr",
     "output_type": "stream",
     "text": [
      "DEBUG:root:----------------- 313 / 500 -----------------\n",
      "DEBUG:root:Training discriminator...\n",
      "DEBUG:root:Done. Classification accuracy: 0.5 Loss: 8.407596588134766\n",
      "DEBUG:root:Training generator...\n",
      "DEBUG:root:Done training generator.\n",
      "\n",
      "DEBUG:root:----------------- 314 / 500 -----------------\n",
      "DEBUG:root:Training discriminator...\n",
      "DEBUG:root:Done. Classification accuracy: 0.5 Loss: 5.8600664138793945\n",
      "DEBUG:root:Training generator...\n",
      "DEBUG:root:Done training generator.\n",
      "\n",
      "DEBUG:root:----------------- 315 / 500 -----------------\n",
      "DEBUG:root:Training discriminator...\n",
      "DEBUG:root:Done. Classification accuracy: 0.5 Loss: -0.7388026118278503\n",
      "DEBUG:root:Training generator...\n",
      "DEBUG:root:Done training generator.\n",
      "\n",
      "DEBUG:root:----------------- 316 / 500 -----------------\n",
      "DEBUG:root:Training discriminator...\n"
     ]
    },
    {
     "name": "stdout",
     "output_type": "stream",
     "text": [
      "real loss: 15.40139102935791\n",
      "fake loss: -15.110394477844238\n",
      "g:8.116600036621094\n",
      "real loss: 13.669075012207031\n",
      "fake loss: -13.852054595947266\n",
      "g:6.043045997619629\n",
      "real loss: 11.207830429077148\n",
      "fake loss: -12.010788917541504\n",
      "g:0.06415585428476334\n"
     ]
    },
    {
     "name": "stderr",
     "output_type": "stream",
     "text": [
      "DEBUG:root:Done. Classification accuracy: 0.5 Loss: -1.2314633131027222\n",
      "DEBUG:root:Training generator...\n",
      "DEBUG:root:Done training generator.\n",
      "\n",
      "DEBUG:root:----------------- 317 / 500 -----------------\n",
      "DEBUG:root:Training discriminator...\n",
      "DEBUG:root:Done. Classification accuracy: 0.5 Loss: 0.4897136688232422\n",
      "DEBUG:root:Training generator...\n",
      "DEBUG:root:Done training generator.\n",
      "\n",
      "DEBUG:root:----------------- 318 / 500 -----------------\n",
      "DEBUG:root:Training discriminator...\n",
      "DEBUG:root:Done. Classification accuracy: 0.5 Loss: 0.25584667921066284\n",
      "DEBUG:root:Training generator...\n",
      "DEBUG:root:Done training generator.\n",
      "\n",
      "DEBUG:root:----------------- 319 / 500 -----------------\n",
      "DEBUG:root:Training discriminator...\n"
     ]
    },
    {
     "name": "stdout",
     "output_type": "stream",
     "text": [
      "real loss: 9.786653518676758\n",
      "fake loss: -11.491214752197266\n",
      "g:0.47309792041778564\n",
      "real loss: 10.331735610961914\n",
      "fake loss: -11.308385848999023\n",
      "g:1.4663639068603516\n",
      "real loss: 11.638721466064453\n",
      "fake loss: -11.669753074645996\n",
      "g:0.2868782877922058\n",
      "real loss: 11.940837860107422\n"
     ]
    },
    {
     "name": "stderr",
     "output_type": "stream",
     "text": [
      "DEBUG:root:Done. Classification accuracy: 0.5 Loss: 0.002368556335568428\n",
      "DEBUG:root:Training generator...\n",
      "DEBUG:root:Done training generator.\n",
      "\n",
      "DEBUG:root:----------------- 320 / 500 -----------------\n",
      "DEBUG:root:Training discriminator...\n",
      "DEBUG:root:Done. Classification accuracy: 0.5 Loss: -0.09711027145385742\n",
      "DEBUG:root:Training generator...\n",
      "DEBUG:root:Done training generator.\n",
      "\n",
      "DEBUG:root:----------------- 321 / 500 -----------------\n",
      "DEBUG:root:Training discriminator...\n",
      "DEBUG:root:Done. Classification accuracy: 0.5 Loss: -0.3437229096889496\n",
      "DEBUG:root:Training generator...\n",
      "DEBUG:root:Done training generator.\n",
      "\n",
      "DEBUG:root:----------------- 322 / 500 -----------------\n",
      "DEBUG:root:Training discriminator...\n"
     ]
    },
    {
     "name": "stdout",
     "output_type": "stream",
     "text": [
      "fake loss: -11.96595573425293\n",
      "g:0.02748643048107624\n",
      "real loss: 11.250539779663086\n",
      "fake loss: -11.93632984161377\n",
      "g:0.5886797904968262\n",
      "real loss: 12.059770584106445\n",
      "fake loss: -12.798465728759766\n",
      "g:0.3949722349643707\n",
      "real loss: 12.797372817993164\n",
      "fake loss: -13.273000717163086\n"
     ]
    },
    {
     "name": "stderr",
     "output_type": "stream",
     "text": [
      "DEBUG:root:Done. Classification accuracy: 0.5 Loss: -0.26645520329475403\n",
      "DEBUG:root:Training generator...\n",
      "DEBUG:root:Done training generator.\n",
      "\n",
      "DEBUG:root:----------------- 323 / 500 -----------------\n",
      "DEBUG:root:Training discriminator...\n",
      "DEBUG:root:Done. Classification accuracy: 0.5 Loss: -0.10224565863609314\n",
      "DEBUG:root:Training generator...\n",
      "DEBUG:root:Done training generator.\n",
      "\n",
      "DEBUG:root:----------------- 324 / 500 -----------------\n",
      "DEBUG:root:Training discriminator...\n",
      "DEBUG:root:Done. Classification accuracy: 0.5 Loss: 7.792415618896484\n",
      "DEBUG:root:Training generator...\n",
      "DEBUG:root:Done training generator.\n",
      "\n",
      "DEBUG:root:----------------- 325 / 500 -----------------\n",
      "DEBUG:root:Training discriminator...\n"
     ]
    },
    {
     "name": "stdout",
     "output_type": "stream",
     "text": [
      "g:0.20917269587516785\n",
      "real loss: 13.381217956542969\n",
      "fake loss: -13.76303482055664\n",
      "g:0.27957120537757874\n",
      "real loss: 13.939785957336426\n",
      "fake loss: -14.556365966796875\n",
      "g:8.408995628356934\n",
      "real loss: 12.618916511535645\n",
      "fake loss: -13.132882118225098\n",
      "g:0.026959195733070374\n"
     ]
    },
    {
     "name": "stderr",
     "output_type": "stream",
     "text": [
      "DEBUG:root:Done. Classification accuracy: 0.5 Loss: -0.48700642585754395\n",
      "DEBUG:root:Training generator...\n",
      "DEBUG:root:Done training generator.\n",
      "\n",
      "DEBUG:root:----------------- 326 / 500 -----------------\n",
      "DEBUG:root:Training discriminator...\n",
      "DEBUG:root:Done. Classification accuracy: 0.5 Loss: -0.8912625312805176\n",
      "DEBUG:root:Training generator...\n",
      "DEBUG:root:Done training generator.\n",
      "\n",
      "DEBUG:root:----------------- 327 / 500 -----------------\n",
      "DEBUG:root:Training discriminator...\n",
      "DEBUG:root:Done. Classification accuracy: 0.5 Loss: -0.25828850269317627\n",
      "DEBUG:root:Training generator...\n",
      "DEBUG:root:Done training generator.\n",
      "\n",
      "DEBUG:root:----------------- 328 / 500 -----------------\n",
      "DEBUG:root:Training discriminator...\n"
     ]
    },
    {
     "name": "stdout",
     "output_type": "stream",
     "text": [
      "real loss: 11.788392066955566\n",
      "fake loss: -12.691218376159668\n",
      "g:0.01156377699226141\n",
      "real loss: 12.357686996459961\n",
      "fake loss: -12.735971450805664\n",
      "g:0.11999595165252686\n",
      "real loss: 11.480728149414062\n"
     ]
    },
    {
     "name": "stderr",
     "output_type": "stream",
     "text": [
      "DEBUG:root:Done. Classification accuracy: 0.5 Loss: 2.1793041229248047\n",
      "DEBUG:root:Training generator...\n",
      "DEBUG:root:Done training generator.\n",
      "\n",
      "DEBUG:root:----------------- 329 / 500 -----------------\n",
      "DEBUG:root:Training discriminator...\n",
      "DEBUG:root:Done. Classification accuracy: 0.5 Loss: -0.593949556350708\n",
      "DEBUG:root:Training generator...\n",
      "DEBUG:root:Done training generator.\n",
      "\n",
      "DEBUG:root:----------------- 330 / 500 -----------------\n",
      "DEBUG:root:Training discriminator...\n",
      "DEBUG:root:Done. Classification accuracy: 0.5 Loss: -0.6141332983970642\n",
      "DEBUG:root:Training generator...\n"
     ]
    },
    {
     "name": "stdout",
     "output_type": "stream",
     "text": [
      "fake loss: -13.275524139404297\n",
      "g:3.974100112915039\n",
      "real loss: 12.266622543334961\n",
      "fake loss: -12.896689414978027\n",
      "g:0.036117326468229294\n",
      "real loss: 11.895901679992676\n",
      "fake loss: -12.845035552978516\n",
      "g:0.33500057458877563\n"
     ]
    },
    {
     "name": "stderr",
     "output_type": "stream",
     "text": [
      "DEBUG:root:Done training generator.\n",
      "\n",
      "DEBUG:root:----------------- 331 / 500 -----------------\n",
      "DEBUG:root:Training discriminator...\n",
      "DEBUG:root:Done. Classification accuracy: 0.5 Loss: -0.5733876824378967\n",
      "DEBUG:root:Training generator...\n",
      "DEBUG:root:Done training generator.\n",
      "\n",
      "DEBUG:root:----------------- 332 / 500 -----------------\n",
      "DEBUG:root:Training discriminator...\n",
      "DEBUG:root:Done. Classification accuracy: 0.5 Loss: -0.03946882486343384\n",
      "DEBUG:root:Training generator...\n",
      "DEBUG:root:Done training generator.\n",
      "\n",
      "DEBUG:root:----------------- 333 / 500 -----------------\n",
      "DEBUG:root:Training discriminator...\n",
      "DEBUG:root:Done. Classification accuracy: 0.5 Loss: 13.183792114257812\n",
      "DEBUG:root:Training generator...\n",
      "DEBUG:root:Done training generator.\n",
      "\n"
     ]
    },
    {
     "name": "stdout",
     "output_type": "stream",
     "text": [
      "real loss: 12.799938201904297\n",
      "fake loss: -13.386052131652832\n",
      "g:0.012726261280477047\n",
      "real loss: 13.90206527709961\n",
      "fake loss: -13.94197940826416\n",
      "g:0.00044530746527016163\n",
      "real loss: 14.594727516174316\n",
      "fake loss: -14.563220024108887\n",
      "g:13.152284622192383\n"
     ]
    },
    {
     "name": "stderr",
     "output_type": "stream",
     "text": [
      "DEBUG:root:----------------- 334 / 500 -----------------\n",
      "DEBUG:root:Training discriminator...\n",
      "DEBUG:root:Done. Classification accuracy: 0.5 Loss: -0.8572327494621277\n",
      "DEBUG:root:Training generator...\n",
      "DEBUG:root:Done training generator.\n",
      "\n",
      "DEBUG:root:----------------- 335 / 500 -----------------\n",
      "DEBUG:root:Training discriminator...\n",
      "DEBUG:root:Done. Classification accuracy: 0.5 Loss: -0.8086773753166199\n",
      "DEBUG:root:Training generator...\n",
      "DEBUG:root:Done training generator.\n",
      "\n",
      "DEBUG:root:----------------- 336 / 500 -----------------\n",
      "DEBUG:root:Training discriminator...\n",
      "DEBUG:root:Done. Classification accuracy: 0.5 Loss: -0.6099724769592285\n",
      "DEBUG:root:Training generator...\n",
      "DEBUG:root:Done training generator.\n",
      "\n",
      "DEBUG:root:----------------- 337 / 500 -----------------\n",
      "DEBUG:root:Training discriminator...\n"
     ]
    },
    {
     "name": "stdout",
     "output_type": "stream",
     "text": [
      "real loss: 10.138358116149902\n",
      "fake loss: -11.001799583435059\n",
      "g:0.006208729464560747\n",
      "real loss: 9.222914695739746\n",
      "fake loss: -10.279271125793457\n",
      "g:0.24767903983592987\n",
      "real loss: 8.889904022216797\n",
      "fake loss: -9.924504280090332\n",
      "g:0.42462778091430664\n"
     ]
    },
    {
     "name": "stderr",
     "output_type": "stream",
     "text": [
      "DEBUG:root:Done. Classification accuracy: 0.5 Loss: -1.1034003496170044\n",
      "DEBUG:root:Training generator...\n",
      "DEBUG:root:Done training generator.\n",
      "\n",
      "DEBUG:root:----------------- 338 / 500 -----------------\n",
      "DEBUG:root:Training discriminator...\n",
      "DEBUG:root:Done. Classification accuracy: 0.5 Loss: -1.2266442775726318\n",
      "DEBUG:root:Training generator...\n",
      "DEBUG:root:Done training generator.\n",
      "\n",
      "DEBUG:root:----------------- 339 / 500 -----------------\n",
      "DEBUG:root:Training discriminator...\n",
      "DEBUG:root:Done. Classification accuracy: 0.5 Loss: -0.889165461063385\n",
      "DEBUG:root:Training generator...\n",
      "DEBUG:root:Done training generator.\n",
      "\n"
     ]
    },
    {
     "name": "stdout",
     "output_type": "stream",
     "text": [
      "real loss: 8.797910690307617\n",
      "fake loss: -9.934926986694336\n",
      "g:0.033615898340940475\n",
      "real loss: 8.700545310974121\n",
      "fake loss: -10.090252876281738\n",
      "g:0.16306325793266296\n",
      "real loss: 8.923813819885254\n",
      "fake loss: -10.357077598571777\n",
      "g:0.5440983176231384\n"
     ]
    },
    {
     "name": "stderr",
     "output_type": "stream",
     "text": [
      "DEBUG:root:----------------- 340 / 500 -----------------\n",
      "DEBUG:root:Training discriminator...\n",
      "DEBUG:root:Done. Classification accuracy: 0.5 Loss: -1.0220222473144531\n",
      "DEBUG:root:Training generator...\n",
      "DEBUG:root:Done training generator.\n",
      "\n",
      "DEBUG:root:----------------- 341 / 500 -----------------\n",
      "DEBUG:root:Training discriminator...\n",
      "DEBUG:root:Done. Classification accuracy: 0.5 Loss: -0.9689834117889404\n",
      "DEBUG:root:Training generator...\n",
      "DEBUG:root:Done training generator.\n",
      "\n",
      "DEBUG:root:----------------- 342 / 500 -----------------\n",
      "DEBUG:root:Training discriminator...\n",
      "DEBUG:root:Done. Classification accuracy: 0.5 Loss: -0.4487420320510864\n",
      "DEBUG:root:Training generator...\n",
      "DEBUG:root:Done training generator.\n",
      "\n",
      "DEBUG:root:----------------- 343 / 500 -----------------\n",
      "DEBUG:root:Training discriminator...\n"
     ]
    },
    {
     "name": "stdout",
     "output_type": "stream",
     "text": [
      "real loss: 9.63830852508545\n",
      "fake loss: -10.680609703063965\n",
      "g:0.02027895487844944\n",
      "real loss: 10.088467597961426\n",
      "fake loss: -11.059277534484863\n",
      "g:0.0018264976097270846\n",
      "real loss: 10.864959716796875\n",
      "fake loss: -11.44852352142334\n",
      "g:0.13482175767421722\n",
      "real loss: 10.49386978149414\n",
      "fake loss: -11.822301864624023\n"
     ]
    },
    {
     "name": "stderr",
     "output_type": "stream",
     "text": [
      "DEBUG:root:Done. Classification accuracy: 0.5 Loss: -1.32436203956604\n",
      "DEBUG:root:Training generator...\n",
      "DEBUG:root:Done training generator.\n",
      "\n",
      "DEBUG:root:----------------- 344 / 500 -----------------\n",
      "DEBUG:root:Training discriminator...\n",
      "DEBUG:root:Done. Classification accuracy: 0.5 Loss: -0.7936890721321106\n",
      "DEBUG:root:Training generator...\n",
      "DEBUG:root:Done training generator.\n",
      "\n",
      "DEBUG:root:----------------- 345 / 500 -----------------\n",
      "DEBUG:root:Training discriminator...\n",
      "DEBUG:root:Done. Classification accuracy: 0.5 Loss: -0.25930890440940857\n",
      "DEBUG:root:Training generator...\n",
      "DEBUG:root:Done training generator.\n",
      "\n",
      "DEBUG:root:----------------- 346 / 500 -----------------\n",
      "DEBUG:root:Training discriminator...\n"
     ]
    },
    {
     "name": "stdout",
     "output_type": "stream",
     "text": [
      "g:0.004070011433213949\n",
      "real loss: 10.949621200561523\n",
      "fake loss: -12.245176315307617\n",
      "g:0.5018660426139832\n",
      "real loss: 12.490310668945312\n",
      "fake loss: -12.769939422607422\n",
      "g:0.020319854840636253\n",
      "real loss: 12.096773147583008\n",
      "fake loss: -13.310271263122559\n"
     ]
    },
    {
     "name": "stderr",
     "output_type": "stream",
     "text": [
      "DEBUG:root:Done. Classification accuracy: 0.5 Loss: -1.2043613195419312\n",
      "DEBUG:root:Training generator...\n",
      "DEBUG:root:Done training generator.\n",
      "\n",
      "DEBUG:root:----------------- 347 / 500 -----------------\n",
      "DEBUG:root:Training discriminator...\n",
      "DEBUG:root:Done. Classification accuracy: 0.5 Loss: -0.5667250156402588\n",
      "DEBUG:root:Training generator...\n",
      "DEBUG:root:Done training generator.\n",
      "\n",
      "DEBUG:root:----------------- 348 / 500 -----------------\n",
      "DEBUG:root:Training discriminator...\n",
      "DEBUG:root:Done. Classification accuracy: 0.5 Loss: -0.9342848062515259\n",
      "DEBUG:root:Training generator...\n",
      "DEBUG:root:Done training generator.\n",
      "\n",
      "DEBUG:root:----------------- 349 / 500 -----------------\n",
      "DEBUG:root:Training discriminator...\n"
     ]
    },
    {
     "name": "stdout",
     "output_type": "stream",
     "text": [
      "g:0.009136774577200413\n",
      "real loss: 13.325400352478027\n",
      "fake loss: -13.892333030700684\n",
      "g:0.00020766239322256297\n",
      "real loss: 13.560347557067871\n",
      "fake loss: -14.497960090637207\n",
      "g:0.0033277126494795084\n",
      "real loss: 14.328174591064453\n",
      "fake loss: -15.1862154006958\n"
     ]
    },
    {
     "name": "stderr",
     "output_type": "stream",
     "text": [
      "DEBUG:root:Done. Classification accuracy: 0.5 Loss: -0.8349913358688354\n",
      "DEBUG:root:Training generator...\n",
      "DEBUG:root:Done training generator.\n",
      "\n",
      "DEBUG:root:----------------- 350 / 500 -----------------\n",
      "DEBUG:root:Training discriminator...\n",
      "DEBUG:root:Done. Classification accuracy: 0.5 Loss: 8.599806785583496\n",
      "DEBUG:root:Training generator...\n",
      "DEBUG:root:Done training generator.\n",
      "\n",
      "DEBUG:root:----------------- 351 / 500 -----------------\n",
      "DEBUG:root:Training discriminator...\n",
      "DEBUG:root:Done. Classification accuracy: 0.5 Loss: -0.013966262340545654\n",
      "DEBUG:root:Training generator...\n",
      "DEBUG:root:Done training generator.\n",
      "\n",
      "DEBUG:root:----------------- 352 / 500 -----------------\n",
      "DEBUG:root:Training discriminator...\n"
     ]
    },
    {
     "name": "stdout",
     "output_type": "stream",
     "text": [
      "g:0.02304949425160885\n",
      "real loss: 15.451794624328613\n",
      "fake loss: -15.931114196777344\n",
      "g:9.079126358032227\n",
      "real loss: 14.19462776184082\n",
      "fake loss: -14.700515747070312\n",
      "g:0.49192172288894653\n",
      "real loss: 12.601175308227539\n",
      "fake loss: -14.212803840637207\n"
     ]
    },
    {
     "name": "stderr",
     "output_type": "stream",
     "text": [
      "DEBUG:root:Done. Classification accuracy: 0.5 Loss: 10.8339262008667\n",
      "DEBUG:root:Training generator...\n",
      "DEBUG:root:Done training generator.\n",
      "\n",
      "DEBUG:root:----------------- 353 / 500 -----------------\n",
      "DEBUG:root:Training discriminator...\n",
      "DEBUG:root:Done. Classification accuracy: 0.5 Loss: -0.2494632750749588\n",
      "DEBUG:root:Training generator...\n",
      "DEBUG:root:Done training generator.\n",
      "\n",
      "DEBUG:root:----------------- 354 / 500 -----------------\n",
      "DEBUG:root:Training discriminator...\n",
      "DEBUG:root:Done. Classification accuracy: 0.5 Loss: -0.019012540578842163\n",
      "DEBUG:root:Training generator...\n"
     ]
    },
    {
     "name": "stdout",
     "output_type": "stream",
     "text": [
      "g:12.445554733276367\n",
      "real loss: 12.511279106140137\n",
      "fake loss: -12.858844757080078\n",
      "g:0.0981023758649826\n",
      "real loss: 12.618826866149902\n",
      "fake loss: -13.025850296020508\n",
      "g:0.3880108892917633\n"
     ]
    },
    {
     "name": "stderr",
     "output_type": "stream",
     "text": [
      "DEBUG:root:Done training generator.\n",
      "\n",
      "DEBUG:root:----------------- 355 / 500 -----------------\n",
      "DEBUG:root:Training discriminator...\n",
      "DEBUG:root:Done. Classification accuracy: 0.5 Loss: 20.076671600341797\n",
      "DEBUG:root:Training generator...\n",
      "DEBUG:root:Done training generator.\n",
      "\n",
      "DEBUG:root:----------------- 356 / 500 -----------------\n",
      "DEBUG:root:Training discriminator...\n",
      "DEBUG:root:Done. Classification accuracy: 0.5 Loss: -0.5981745719909668\n",
      "DEBUG:root:Training generator...\n",
      "DEBUG:root:Done training generator.\n",
      "\n",
      "DEBUG:root:----------------- 357 / 500 -----------------\n",
      "DEBUG:root:Training discriminator...\n",
      "DEBUG:root:Done. Classification accuracy: 0.5 Loss: -0.5602805018424988\n",
      "DEBUG:root:Training generator...\n"
     ]
    },
    {
     "name": "stdout",
     "output_type": "stream",
     "text": [
      "real loss: 12.855602264404297\n",
      "fake loss: -13.427302360534668\n",
      "g:20.64837074279785\n",
      "real loss: 9.947900772094727\n",
      "fake loss: -10.55639362335205\n",
      "g:0.01031829509884119\n",
      "real loss: 8.835168838500977\n",
      "fake loss: -9.532537460327148\n",
      "g:0.1370881050825119\n"
     ]
    },
    {
     "name": "stderr",
     "output_type": "stream",
     "text": [
      "DEBUG:root:Done training generator.\n",
      "\n",
      "DEBUG:root:----------------- 358 / 500 -----------------\n",
      "DEBUG:root:Training discriminator...\n",
      "DEBUG:root:Done. Classification accuracy: 0.5 Loss: -0.62833571434021\n",
      "DEBUG:root:Training generator...\n",
      "DEBUG:root:Done training generator.\n",
      "\n",
      "DEBUG:root:----------------- 359 / 500 -----------------\n",
      "DEBUG:root:Training discriminator...\n",
      "DEBUG:root:Done. Classification accuracy: 0.5 Loss: -0.3225846290588379\n",
      "DEBUG:root:Training generator...\n",
      "DEBUG:root:Done training generator.\n",
      "\n",
      "DEBUG:root:----------------- 360 / 500 -----------------\n",
      "DEBUG:root:Training discriminator...\n",
      "DEBUG:root:Done. Classification accuracy: 0.5 Loss: -0.04450587183237076\n",
      "DEBUG:root:Training generator...\n"
     ]
    },
    {
     "name": "stdout",
     "output_type": "stream",
     "text": [
      "real loss: 8.505565643310547\n",
      "fake loss: -9.180778503417969\n",
      "g:0.046877171844244\n",
      "real loss: 8.564035415649414\n",
      "fake loss: -9.118968963623047\n",
      "g:0.23234893381595612\n",
      "real loss: 8.918510437011719\n",
      "fake loss: -9.083099365234375\n",
      "g:0.12008305639028549\n"
     ]
    },
    {
     "name": "stderr",
     "output_type": "stream",
     "text": [
      "DEBUG:root:Done training generator.\n",
      "\n",
      "DEBUG:root:----------------- 361 / 500 -----------------\n",
      "DEBUG:root:Training discriminator...\n",
      "DEBUG:root:Done. Classification accuracy: 0.5 Loss: -0.49212878942489624\n",
      "DEBUG:root:Training generator...\n",
      "DEBUG:root:Done training generator.\n",
      "\n",
      "DEBUG:root:----------------- 362 / 500 -----------------\n",
      "DEBUG:root:Training discriminator...\n",
      "DEBUG:root:Done. Classification accuracy: 0.5 Loss: -0.6739429235458374\n",
      "DEBUG:root:Training generator...\n",
      "DEBUG:root:Done training generator.\n",
      "\n",
      "DEBUG:root:----------------- 363 / 500 -----------------\n",
      "DEBUG:root:Training discriminator...\n",
      "DEBUG:root:Done. Classification accuracy: 0.5 Loss: 0.4698556661605835\n",
      "DEBUG:root:Training generator...\n",
      "DEBUG:root:Done training generator.\n",
      "\n",
      "DEBUG:root:----------------- 364 / 500 -----------------\n",
      "DEBUG:root:Training discriminator...\n",
      "DEBUG:root:Done. Classification accuracy: 0.5 Loss: -0.3941674530506134\n",
      "DEBUG:root:Training generator...\n"
     ]
    },
    {
     "name": "stdout",
     "output_type": "stream",
     "text": [
      "real loss: 8.638487815856934\n",
      "fake loss: -9.198348045349121\n",
      "g:0.06773144751787186\n",
      "real loss: 8.712294578552246\n",
      "fake loss: -9.386380195617676\n",
      "g:0.00014268324594013393\n",
      "real loss: 8.998169898986816\n",
      "fake loss: -9.596863746643066\n",
      "g:1.0685495138168335\n",
      "real loss: 8.79707145690918\n",
      "fake loss: -9.47558879852295\n",
      "g:0.28434988856315613\n"
     ]
    },
    {
     "name": "stderr",
     "output_type": "stream",
     "text": [
      "DEBUG:root:Done training generator.\n",
      "\n",
      "DEBUG:root:----------------- 365 / 500 -----------------\n",
      "DEBUG:root:Training discriminator...\n",
      "DEBUG:root:Done. Classification accuracy: 0.5 Loss: -0.5868105888366699\n",
      "DEBUG:root:Training generator...\n",
      "DEBUG:root:Done training generator.\n",
      "\n",
      "DEBUG:root:----------------- 366 / 500 -----------------\n",
      "DEBUG:root:Training discriminator...\n",
      "DEBUG:root:Done. Classification accuracy: 0.5 Loss: 0.046780064702034\n",
      "DEBUG:root:Training generator...\n",
      "DEBUG:root:Done training generator.\n",
      "\n",
      "DEBUG:root:----------------- 367 / 500 -----------------\n",
      "DEBUG:root:Training discriminator...\n",
      "DEBUG:root:Done. Classification accuracy: 0.5 Loss: -0.600241482257843\n",
      "DEBUG:root:Training generator...\n",
      "DEBUG:root:Done training generator.\n",
      "\n",
      "DEBUG:root:----------------- 368 / 500 -----------------\n"
     ]
    },
    {
     "name": "stdout",
     "output_type": "stream",
     "text": [
      "real loss: 8.814871788024902\n",
      "fake loss: -9.5444917678833\n",
      "g:0.1428094059228897\n",
      "real loss: 9.546701431274414\n",
      "fake loss: -9.726134300231934\n",
      "g:0.22621293365955353\n",
      "real loss: 9.192228317260742\n",
      "fake loss: -9.926753997802734\n",
      "g:0.13428421318531036\n"
     ]
    },
    {
     "name": "stderr",
     "output_type": "stream",
     "text": [
      "DEBUG:root:Training discriminator...\n",
      "DEBUG:root:Done. Classification accuracy: 0.5 Loss: -0.6279787421226501\n",
      "DEBUG:root:Training generator...\n",
      "DEBUG:root:Done training generator.\n",
      "\n",
      "DEBUG:root:----------------- 369 / 500 -----------------\n",
      "DEBUG:root:Training discriminator...\n",
      "DEBUG:root:Done. Classification accuracy: 0.5 Loss: -0.5925000905990601\n",
      "DEBUG:root:Training generator...\n",
      "DEBUG:root:Done training generator.\n",
      "\n",
      "DEBUG:root:----------------- 370 / 500 -----------------\n",
      "DEBUG:root:Training discriminator...\n",
      "DEBUG:root:Done. Classification accuracy: 0.5 Loss: -0.519783616065979\n",
      "DEBUG:root:Training generator...\n",
      "DEBUG:root:Done training generator.\n",
      "\n"
     ]
    },
    {
     "name": "stdout",
     "output_type": "stream",
     "text": [
      "real loss: 9.502224922180176\n",
      "fake loss: -10.16347599029541\n",
      "g:0.03327234461903572\n",
      "real loss: 9.785162925720215\n",
      "fake loss: -10.424517631530762\n",
      "g:0.046854618936777115\n",
      "real loss: 10.04742431640625\n",
      "fake loss: -10.657853126525879\n",
      "g:0.0906452089548111\n"
     ]
    },
    {
     "name": "stderr",
     "output_type": "stream",
     "text": [
      "DEBUG:root:----------------- 371 / 500 -----------------\n",
      "DEBUG:root:Training discriminator...\n",
      "DEBUG:root:Done. Classification accuracy: 0.5 Loss: -0.6837130188941956\n",
      "DEBUG:root:Training generator...\n",
      "DEBUG:root:Done training generator.\n",
      "\n",
      "DEBUG:root:----------------- 372 / 500 -----------------\n",
      "DEBUG:root:Training discriminator...\n",
      "DEBUG:root:Done. Classification accuracy: 0.5 Loss: -0.5232622623443604\n",
      "DEBUG:root:Training generator...\n",
      "DEBUG:root:Done training generator.\n",
      "\n",
      "DEBUG:root:----------------- 373 / 500 -----------------\n",
      "DEBUG:root:Training discriminator...\n",
      "DEBUG:root:Done. Classification accuracy: 0.5 Loss: -0.5795418620109558\n",
      "DEBUG:root:Training generator...\n",
      "DEBUG:root:Done training generator.\n",
      "\n",
      "DEBUG:root:----------------- 374 / 500 -----------------\n",
      "DEBUG:root:Training discriminator...\n"
     ]
    },
    {
     "name": "stdout",
     "output_type": "stream",
     "text": [
      "real loss: 10.148286819458008\n",
      "fake loss: -10.865458488464355\n",
      "g:0.03345867246389389\n",
      "real loss: 10.45773983001709\n",
      "fake loss: -11.071921348571777\n",
      "g:0.09091926366090775\n",
      "real loss: 10.734098434448242\n",
      "fake loss: -11.360785484313965\n",
      "g:0.04714520648121834\n",
      "real loss: 10.95924186706543\n",
      "fake loss: -11.619003295898438\n"
     ]
    },
    {
     "name": "stderr",
     "output_type": "stream",
     "text": [
      "DEBUG:root:Done. Classification accuracy: 0.5 Loss: -0.2909105122089386\n",
      "DEBUG:root:Training generator...\n",
      "DEBUG:root:Done training generator.\n",
      "\n",
      "DEBUG:root:----------------- 375 / 500 -----------------\n",
      "DEBUG:root:Training discriminator...\n",
      "DEBUG:root:Done. Classification accuracy: 0.5 Loss: -0.5483176112174988\n",
      "DEBUG:root:Training generator...\n",
      "DEBUG:root:Done training generator.\n",
      "\n",
      "DEBUG:root:----------------- 376 / 500 -----------------\n",
      "DEBUG:root:Training discriminator...\n",
      "DEBUG:root:Done. Classification accuracy: 0.5 Loss: -0.5461912751197815\n",
      "DEBUG:root:Training generator...\n",
      "DEBUG:root:Done training generator.\n",
      "\n"
     ]
    },
    {
     "name": "stdout",
     "output_type": "stream",
     "text": [
      "g:0.3688509166240692\n",
      "real loss: 11.249878883361816\n",
      "fake loss: -11.900590896606445\n",
      "g:0.10239438712596893\n",
      "real loss: 11.828524589538574\n",
      "fake loss: -12.403667449951172\n",
      "g:0.02895156480371952\n"
     ]
    },
    {
     "name": "stderr",
     "output_type": "stream",
     "text": [
      "DEBUG:root:----------------- 377 / 500 -----------------\n",
      "DEBUG:root:Training discriminator...\n",
      "DEBUG:root:Done. Classification accuracy: 0.5 Loss: -0.373642235994339\n",
      "DEBUG:root:Training generator...\n",
      "DEBUG:root:Done training generator.\n",
      "\n",
      "DEBUG:root:----------------- 378 / 500 -----------------\n",
      "DEBUG:root:Training discriminator...\n",
      "DEBUG:root:Done. Classification accuracy: 0.5 Loss: 1.3678134679794312\n",
      "DEBUG:root:Training generator...\n",
      "DEBUG:root:Done training generator.\n",
      "\n",
      "DEBUG:root:----------------- 379 / 500 -----------------\n",
      "DEBUG:root:Training discriminator...\n",
      "DEBUG:root:Done. Classification accuracy: 0.5 Loss: 0.45635169744491577\n"
     ]
    },
    {
     "name": "stdout",
     "output_type": "stream",
     "text": [
      "real loss: 12.4745512008667\n",
      "fake loss: -12.87194538116455\n",
      "g:0.023751934990286827\n",
      "real loss: 13.026586532592773\n",
      "fake loss: -13.377096176147461\n",
      "g:1.7183231115341187\n",
      "real loss: 12.7503662109375\n",
      "fake loss: -13.225123405456543\n",
      "g:0.9311088919639587\n"
     ]
    },
    {
     "name": "stderr",
     "output_type": "stream",
     "text": [
      "DEBUG:root:Training generator...\n",
      "DEBUG:root:Done training generator.\n",
      "\n",
      "DEBUG:root:----------------- 380 / 500 -----------------\n",
      "DEBUG:root:Training discriminator...\n",
      "DEBUG:root:Done. Classification accuracy: 0.5 Loss: -0.2668251395225525\n",
      "DEBUG:root:Training generator...\n",
      "DEBUG:root:Done training generator.\n",
      "\n",
      "DEBUG:root:----------------- 381 / 500 -----------------\n",
      "DEBUG:root:Training discriminator...\n",
      "DEBUG:root:Done. Classification accuracy: 0.5 Loss: -0.687169075012207\n",
      "DEBUG:root:Training generator...\n",
      "DEBUG:root:Done training generator.\n",
      "\n",
      "DEBUG:root:----------------- 382 / 500 -----------------\n",
      "DEBUG:root:Training discriminator...\n",
      "DEBUG:root:Done. Classification accuracy: 0.5 Loss: -0.716282069683075\n",
      "DEBUG:root:Training generator...\n"
     ]
    },
    {
     "name": "stdout",
     "output_type": "stream",
     "text": [
      "real loss: 11.984552383422852\n",
      "fake loss: -12.379549026489258\n",
      "g:0.12817150354385376\n",
      "real loss: 12.044758796691895\n",
      "fake loss: -12.786537170410156\n",
      "g:0.05460929870605469\n",
      "real loss: 12.343167304992676\n",
      "fake loss: -13.103519439697266\n",
      "g:0.044070079922676086\n"
     ]
    },
    {
     "name": "stderr",
     "output_type": "stream",
     "text": [
      "DEBUG:root:Done training generator.\n",
      "\n",
      "DEBUG:root:----------------- 383 / 500 -----------------\n",
      "DEBUG:root:Training discriminator...\n",
      "DEBUG:root:Done. Classification accuracy: 0.5 Loss: 0.06073474884033203\n",
      "DEBUG:root:Training generator...\n",
      "DEBUG:root:Done training generator.\n",
      "\n",
      "DEBUG:root:----------------- 384 / 500 -----------------\n",
      "DEBUG:root:Training discriminator...\n",
      "DEBUG:root:Done. Classification accuracy: 0.5 Loss: -0.7732158303260803\n",
      "DEBUG:root:Training generator...\n",
      "DEBUG:root:Done training generator.\n",
      "\n",
      "DEBUG:root:----------------- 385 / 500 -----------------\n",
      "DEBUG:root:Training discriminator...\n",
      "DEBUG:root:Done. Classification accuracy: 0.5 Loss: -0.5590877532958984\n",
      "DEBUG:root:Training generator...\n",
      "DEBUG:root:Done training generator.\n",
      "\n"
     ]
    },
    {
     "name": "stdout",
     "output_type": "stream",
     "text": [
      "real loss: 12.730441093444824\n",
      "fake loss: -13.603697776794434\n",
      "g:0.9339914321899414\n",
      "real loss: 13.347390174865723\n",
      "fake loss: -14.12536334991455\n",
      "g:0.004757316317409277\n",
      "real loss: 14.04958724975586\n",
      "fake loss: -14.68237590789795\n",
      "g:0.0737009197473526\n"
     ]
    },
    {
     "name": "stderr",
     "output_type": "stream",
     "text": [
      "DEBUG:root:----------------- 386 / 500 -----------------\n",
      "DEBUG:root:Training discriminator...\n",
      "DEBUG:root:Done. Classification accuracy: 0.5 Loss: -0.3385327458381653\n",
      "DEBUG:root:Training generator...\n",
      "DEBUG:root:Done training generator.\n",
      "\n",
      "DEBUG:root:----------------- 387 / 500 -----------------\n",
      "DEBUG:root:Training discriminator...\n",
      "DEBUG:root:Done. Classification accuracy: 0.5 Loss: 23.728607177734375\n",
      "DEBUG:root:Training generator...\n",
      "DEBUG:root:Done training generator.\n",
      "\n",
      "DEBUG:root:----------------- 388 / 500 -----------------\n",
      "DEBUG:root:Training discriminator...\n",
      "DEBUG:root:Done. Classification accuracy: 0.5 Loss: 0.9517552852630615\n",
      "DEBUG:root:Training generator...\n",
      "DEBUG:root:Done training generator.\n",
      "\n",
      "DEBUG:root:----------------- 389 / 500 -----------------\n",
      "DEBUG:root:Training discriminator...\n"
     ]
    },
    {
     "name": "stdout",
     "output_type": "stream",
     "text": [
      "real loss: 14.82463264465332\n",
      "fake loss: -15.213335037231445\n",
      "g:0.05016966164112091\n",
      "real loss: 15.426996231079102\n",
      "fake loss: -16.031190872192383\n",
      "g:24.332801818847656\n",
      "real loss: 10.244634628295898\n",
      "fake loss: -11.429262161254883\n",
      "g:2.136382818222046\n",
      "real loss: 9.50610637664795\n"
     ]
    },
    {
     "name": "stderr",
     "output_type": "stream",
     "text": [
      "DEBUG:root:Done. Classification accuracy: 0.5 Loss: 1.0798331499099731\n",
      "DEBUG:root:Training generator...\n",
      "DEBUG:root:Done training generator.\n",
      "\n",
      "DEBUG:root:----------------- 390 / 500 -----------------\n",
      "DEBUG:root:Training discriminator...\n",
      "DEBUG:root:Done. Classification accuracy: 0.5 Loss: 1.4618616104125977\n",
      "DEBUG:root:Training generator...\n",
      "DEBUG:root:Done training generator.\n",
      "\n",
      "DEBUG:root:----------------- 391 / 500 -----------------\n",
      "DEBUG:root:Training discriminator...\n",
      "DEBUG:root:Done. Classification accuracy: 0.5 Loss: -0.7776556015014648\n",
      "DEBUG:root:Training generator...\n"
     ]
    },
    {
     "name": "stdout",
     "output_type": "stream",
     "text": [
      "fake loss: -9.93455982208252\n",
      "g:1.5082865953445435\n",
      "real loss: 8.770983695983887\n",
      "fake loss: -9.881032943725586\n",
      "g:2.571910858154297\n",
      "real loss: 8.700640678405762\n",
      "fake loss: -9.733771324157715\n",
      "g:0.2554750144481659\n"
     ]
    },
    {
     "name": "stderr",
     "output_type": "stream",
     "text": [
      "DEBUG:root:Done training generator.\n",
      "\n",
      "DEBUG:root:----------------- 392 / 500 -----------------\n",
      "DEBUG:root:Training discriminator...\n",
      "DEBUG:root:Done. Classification accuracy: 0.5 Loss: -0.5013986825942993\n",
      "DEBUG:root:Training generator...\n",
      "DEBUG:root:Done training generator.\n",
      "\n",
      "DEBUG:root:----------------- 393 / 500 -----------------\n",
      "DEBUG:root:Training discriminator...\n",
      "DEBUG:root:Done. Classification accuracy: 0.5 Loss: -0.38936692476272583\n",
      "DEBUG:root:Training generator...\n",
      "DEBUG:root:Done training generator.\n",
      "\n",
      "DEBUG:root:----------------- 394 / 500 -----------------\n",
      "DEBUG:root:Training discriminator...\n",
      "DEBUG:root:Done. Classification accuracy: 0.5 Loss: 0.0502704381942749\n",
      "DEBUG:root:Training generator...\n",
      "DEBUG:root:Done training generator.\n",
      "\n",
      "DEBUG:root:----------------- 395 / 500 -----------------\n",
      "DEBUG:root:Training discriminator...\n"
     ]
    },
    {
     "name": "stdout",
     "output_type": "stream",
     "text": [
      "real loss: 9.072942733764648\n",
      "fake loss: -9.739179611206055\n",
      "g:0.16483819484710693\n",
      "real loss: 8.90071964263916\n",
      "fake loss: -9.417491912841797\n",
      "g:0.1274053305387497\n",
      "real loss: 8.996350288391113\n",
      "fake loss: -9.61067008972168\n",
      "g:0.6645902395248413\n",
      "real loss: 9.765694618225098\n"
     ]
    },
    {
     "name": "stderr",
     "output_type": "stream",
     "text": [
      "DEBUG:root:Done. Classification accuracy: 0.5 Loss: 1.4235379695892334\n",
      "DEBUG:root:Training generator...\n",
      "DEBUG:root:Done training generator.\n",
      "\n",
      "DEBUG:root:----------------- 396 / 500 -----------------\n",
      "DEBUG:root:Training discriminator...\n",
      "DEBUG:root:Done. Classification accuracy: 0.5 Loss: -0.5244942903518677\n",
      "DEBUG:root:Training generator...\n",
      "DEBUG:root:Done training generator.\n",
      "\n",
      "DEBUG:root:----------------- 397 / 500 -----------------\n",
      "DEBUG:root:Training discriminator...\n",
      "DEBUG:root:Done. Classification accuracy: 0.5 Loss: -0.29264214634895325\n",
      "DEBUG:root:Training generator...\n",
      "DEBUG:root:Done training generator.\n",
      "\n",
      "DEBUG:root:----------------- 398 / 500 -----------------\n",
      "DEBUG:root:Training discriminator...\n"
     ]
    },
    {
     "name": "stdout",
     "output_type": "stream",
     "text": [
      "fake loss: -10.339448928833008\n",
      "g:1.9972922801971436\n",
      "real loss: 9.382174491882324\n",
      "fake loss: -10.276211738586426\n",
      "g:0.3695429563522339\n",
      "real loss: 9.4682035446167\n",
      "fake loss: -10.03297233581543\n",
      "g:0.2721266448497772\n",
      "real loss: 9.940316200256348\n"
     ]
    },
    {
     "name": "stderr",
     "output_type": "stream",
     "text": [
      "DEBUG:root:Done. Classification accuracy: 0.5 Loss: -0.4353642463684082\n",
      "DEBUG:root:Training generator...\n",
      "DEBUG:root:Done training generator.\n",
      "\n",
      "DEBUG:root:----------------- 399 / 500 -----------------\n",
      "DEBUG:root:Training discriminator...\n",
      "DEBUG:root:Done. Classification accuracy: 0.5 Loss: -0.6028178334236145\n",
      "DEBUG:root:Training generator...\n",
      "DEBUG:root:Done training generator.\n",
      "\n",
      "DEBUG:root:----------------- 400 / 500 -----------------\n",
      "DEBUG:root:Training discriminator...\n",
      "DEBUG:root:Done. Classification accuracy: 0.5 Loss: -0.6353268623352051\n",
      "DEBUG:root:Training generator...\n",
      "DEBUG:root:Done training generator.\n",
      "\n",
      "DEBUG:root:----------------- 401 / 500 -----------------\n",
      "DEBUG:root:Training discriminator...\n"
     ]
    },
    {
     "name": "stdout",
     "output_type": "stream",
     "text": [
      "fake loss: -10.621780395507812\n",
      "g:0.24609996378421783\n",
      "real loss: 10.04755687713623\n",
      "fake loss: -10.887774467468262\n",
      "g:0.23739975690841675\n",
      "real loss: 10.315567970275879\n",
      "fake loss: -11.17131519317627\n",
      "g:0.22042034566402435\n"
     ]
    },
    {
     "name": "stderr",
     "output_type": "stream",
     "text": [
      "DEBUG:root:Done. Classification accuracy: 0.5 Loss: -0.6786726117134094\n",
      "DEBUG:root:Training generator...\n",
      "DEBUG:root:Done training generator.\n",
      "\n",
      "DEBUG:root:----------------- 402 / 500 -----------------\n",
      "DEBUG:root:Training discriminator...\n",
      "DEBUG:root:Done. Classification accuracy: 0.5 Loss: 0.0006658000638708472\n",
      "DEBUG:root:Training generator...\n",
      "DEBUG:root:Done training generator.\n",
      "\n",
      "DEBUG:root:----------------- 403 / 500 -----------------\n",
      "DEBUG:root:Training discriminator...\n",
      "DEBUG:root:Done. Classification accuracy: 0.5 Loss: -0.8504623770713806\n",
      "DEBUG:root:Training generator...\n",
      "DEBUG:root:Done training generator.\n",
      "\n",
      "DEBUG:root:----------------- 404 / 500 -----------------\n"
     ]
    },
    {
     "name": "stdout",
     "output_type": "stream",
     "text": [
      "real loss: 10.597000122070312\n",
      "fake loss: -11.477771759033203\n",
      "g:0.2020990401506424\n",
      "real loss: 11.389750480651855\n",
      "fake loss: -11.389509201049805\n",
      "g:0.00042452049092389643\n",
      "real loss: 11.103470802307129\n",
      "fake loss: -12.147711753845215\n",
      "g:0.19377858936786652\n"
     ]
    },
    {
     "name": "stderr",
     "output_type": "stream",
     "text": [
      "DEBUG:root:Training discriminator...\n",
      "DEBUG:root:Done. Classification accuracy: 0.5 Loss: 0.1282978653907776\n",
      "DEBUG:root:Training generator...\n",
      "DEBUG:root:Done training generator.\n",
      "\n",
      "DEBUG:root:----------------- 405 / 500 -----------------\n",
      "DEBUG:root:Training discriminator...\n",
      "DEBUG:root:Done. Classification accuracy: 0.5 Loss: 0.2837204337120056\n",
      "DEBUG:root:Training generator...\n",
      "DEBUG:root:Done training generator.\n",
      "\n",
      "DEBUG:root:----------------- 406 / 500 -----------------\n",
      "DEBUG:root:Training discriminator...\n",
      "DEBUG:root:Done. Classification accuracy: 0.5 Loss: -0.647318422794342\n",
      "DEBUG:root:Training generator...\n",
      "DEBUG:root:Done training generator.\n",
      "\n"
     ]
    },
    {
     "name": "stdout",
     "output_type": "stream",
     "text": [
      "real loss: 12.084567070007324\n",
      "fake loss: -12.514498710632324\n",
      "g:0.5582295060157776\n",
      "real loss: 12.742487907409668\n",
      "fake loss: -12.712803840637207\n",
      "g:0.2540363669395447\n",
      "real loss: 12.759537696838379\n",
      "fake loss: -13.679423332214355\n",
      "g:0.2725672125816345\n"
     ]
    },
    {
     "name": "stderr",
     "output_type": "stream",
     "text": [
      "DEBUG:root:----------------- 407 / 500 -----------------\n",
      "DEBUG:root:Training discriminator...\n",
      "DEBUG:root:Done. Classification accuracy: 0.5 Loss: -0.8390254974365234\n",
      "DEBUG:root:Training generator...\n",
      "DEBUG:root:Done training generator.\n",
      "\n",
      "DEBUG:root:----------------- 408 / 500 -----------------\n",
      "DEBUG:root:Training discriminator...\n",
      "DEBUG:root:Done. Classification accuracy: 0.5 Loss: -0.6616970896720886\n",
      "DEBUG:root:Training generator...\n",
      "DEBUG:root:Done training generator.\n",
      "\n",
      "DEBUG:root:----------------- 409 / 500 -----------------\n",
      "DEBUG:root:Training discriminator...\n",
      "DEBUG:root:Done. Classification accuracy: 0.5 Loss: -0.45209801197052\n",
      "DEBUG:root:Training generator...\n"
     ]
    },
    {
     "name": "stdout",
     "output_type": "stream",
     "text": [
      "real loss: 13.36740779876709\n",
      "fake loss: -14.241215705871582\n",
      "g:0.03478238731622696\n",
      "real loss: 14.179128646850586\n",
      "fake loss: -14.84096622467041\n",
      "g:0.00014046627620700747\n",
      "real loss: 14.913105010986328\n",
      "fake loss: -15.460536003112793\n",
      "g:0.09533298760652542\n"
     ]
    },
    {
     "name": "stderr",
     "output_type": "stream",
     "text": [
      "DEBUG:root:Done training generator.\n",
      "\n",
      "DEBUG:root:----------------- 410 / 500 -----------------\n",
      "DEBUG:root:Training discriminator...\n",
      "DEBUG:root:Done. Classification accuracy: 0.5 Loss: 6.458041667938232\n",
      "DEBUG:root:Training generator...\n",
      "DEBUG:root:Done training generator.\n",
      "\n",
      "DEBUG:root:----------------- 411 / 500 -----------------\n",
      "DEBUG:root:Training discriminator...\n",
      "DEBUG:root:Done. Classification accuracy: 0.5 Loss: -1.023685336112976\n",
      "DEBUG:root:Training generator...\n",
      "DEBUG:root:Done training generator.\n",
      "\n",
      "DEBUG:root:----------------- 412 / 500 -----------------\n",
      "DEBUG:root:Training discriminator...\n",
      "DEBUG:root:Done. Classification accuracy: 0.5 Loss: -0.39751988649368286\n",
      "DEBUG:root:Training generator...\n",
      "DEBUG:root:Done training generator.\n",
      "\n",
      "DEBUG:root:----------------- 413 / 500 -----------------\n",
      "DEBUG:root:Training discriminator...\n"
     ]
    },
    {
     "name": "stdout",
     "output_type": "stream",
     "text": [
      "real loss: 16.02199363708496\n",
      "fake loss: -16.195234298706055\n",
      "g:6.631282329559326\n",
      "real loss: 13.7257661819458\n",
      "fake loss: -14.761816024780273\n",
      "g:0.012364559806883335\n",
      "real loss: 13.443713188171387\n",
      "fake loss: -14.44338321685791\n",
      "g:0.6021501421928406\n",
      "real loss: 13.729362487792969\n"
     ]
    },
    {
     "name": "stderr",
     "output_type": "stream",
     "text": [
      "DEBUG:root:Done. Classification accuracy: 0.5 Loss: -0.5734996795654297\n",
      "DEBUG:root:Training generator...\n",
      "DEBUG:root:Done training generator.\n",
      "\n",
      "DEBUG:root:----------------- 414 / 500 -----------------\n",
      "DEBUG:root:Training discriminator...\n",
      "DEBUG:root:Done. Classification accuracy: 0.5 Loss: 2.8954241275787354\n",
      "DEBUG:root:Training generator...\n",
      "DEBUG:root:Done training generator.\n",
      "\n",
      "DEBUG:root:----------------- 415 / 500 -----------------\n",
      "DEBUG:root:Training discriminator...\n",
      "DEBUG:root:Done. Classification accuracy: 0.5 Loss: -0.46934059262275696\n",
      "DEBUG:root:Training generator...\n",
      "DEBUG:root:Done training generator.\n",
      "\n",
      "DEBUG:root:----------------- 416 / 500 -----------------\n",
      "DEBUG:root:Training discriminator...\n"
     ]
    },
    {
     "name": "stdout",
     "output_type": "stream",
     "text": [
      "fake loss: -14.685155868530273\n",
      "g:0.3822936713695526\n",
      "real loss: 14.883792877197266\n",
      "fake loss: -15.308685302734375\n",
      "g:3.3203165531158447\n",
      "real loss: 14.078410148620605\n",
      "fake loss: -14.56978988647461\n",
      "g:0.02203914150595665\n"
     ]
    },
    {
     "name": "stderr",
     "output_type": "stream",
     "text": [
      "DEBUG:root:Done. Classification accuracy: 0.5 Loss: -0.8081839680671692\n",
      "DEBUG:root:Training generator...\n",
      "DEBUG:root:Done training generator.\n",
      "\n",
      "DEBUG:root:----------------- 417 / 500 -----------------\n",
      "DEBUG:root:Training discriminator...\n",
      "DEBUG:root:Done. Classification accuracy: 0.5 Loss: -0.479703813791275\n",
      "DEBUG:root:Training generator...\n",
      "DEBUG:root:Done training generator.\n",
      "\n",
      "DEBUG:root:----------------- 418 / 500 -----------------\n",
      "DEBUG:root:Training discriminator...\n",
      "DEBUG:root:Done. Classification accuracy: 0.5 Loss: -0.035178378224372864\n",
      "DEBUG:root:Training generator...\n",
      "DEBUG:root:Done training generator.\n",
      "\n"
     ]
    },
    {
     "name": "stdout",
     "output_type": "stream",
     "text": [
      "real loss: 14.242393493652344\n",
      "fake loss: -15.14394760131836\n",
      "g:0.09337011724710464\n",
      "real loss: 14.630463600158691\n",
      "fake loss: -15.114267349243164\n",
      "g:0.004099931567907333\n",
      "real loss: 15.912407875061035\n",
      "fake loss: -16.06365203857422\n",
      "g:0.11606578528881073\n"
     ]
    },
    {
     "name": "stderr",
     "output_type": "stream",
     "text": [
      "DEBUG:root:----------------- 419 / 500 -----------------\n",
      "DEBUG:root:Training discriminator...\n",
      "DEBUG:root:Done. Classification accuracy: 0.5 Loss: -0.14985498785972595\n",
      "DEBUG:root:Training generator...\n",
      "DEBUG:root:Done training generator.\n",
      "\n",
      "DEBUG:root:----------------- 420 / 500 -----------------\n",
      "DEBUG:root:Training discriminator...\n",
      "DEBUG:root:Done. Classification accuracy: 0.5 Loss: 0.1501319408416748\n",
      "DEBUG:root:Training generator...\n",
      "DEBUG:root:Done training generator.\n",
      "\n",
      "DEBUG:root:----------------- 421 / 500 -----------------\n",
      "DEBUG:root:Training discriminator...\n"
     ]
    },
    {
     "name": "stdout",
     "output_type": "stream",
     "text": [
      "real loss: 16.234333038330078\n",
      "fake loss: -16.669340133666992\n",
      "g:0.2851521074771881\n",
      "real loss: 17.064037322998047\n",
      "fake loss: -17.555557250976562\n",
      "g:0.6416518688201904\n",
      "real loss: 18.275419235229492\n",
      "fake loss: -18.227401733398438\n"
     ]
    },
    {
     "name": "stderr",
     "output_type": "stream",
     "text": [
      "DEBUG:root:Done. Classification accuracy: 0.5 Loss: 0.04910976067185402\n",
      "DEBUG:root:Training generator...\n",
      "DEBUG:root:Done training generator.\n",
      "\n",
      "DEBUG:root:----------------- 422 / 500 -----------------\n",
      "DEBUG:root:Training discriminator...\n",
      "DEBUG:root:Done. Classification accuracy: 0.5 Loss: 0.12420718371868134\n",
      "DEBUG:root:Training generator...\n",
      "DEBUG:root:Done training generator.\n",
      "\n",
      "DEBUG:root:----------------- 423 / 500 -----------------\n",
      "DEBUG:root:Training discriminator...\n",
      "DEBUG:root:Done. Classification accuracy: 0.5 Loss: 0.5192520022392273\n",
      "DEBUG:root:Training generator...\n",
      "DEBUG:root:Done training generator.\n",
      "\n"
     ]
    },
    {
     "name": "stdout",
     "output_type": "stream",
     "text": [
      "g:0.0010922591900452971\n",
      "real loss: 19.310237884521484\n",
      "fake loss: -19.18648338317871\n",
      "g:0.0004526832781266421\n",
      "real loss: 20.705554962158203\n",
      "fake loss: -20.192527770996094\n",
      "g:0.006224792916327715\n"
     ]
    },
    {
     "name": "stderr",
     "output_type": "stream",
     "text": [
      "DEBUG:root:----------------- 424 / 500 -----------------\n",
      "DEBUG:root:Training discriminator...\n",
      "DEBUG:root:Done. Classification accuracy: 0.5 Loss: 1.5672852993011475\n",
      "DEBUG:root:Training generator...\n",
      "DEBUG:root:Done training generator.\n",
      "\n",
      "DEBUG:root:----------------- 425 / 500 -----------------\n",
      "DEBUG:root:Training discriminator...\n",
      "DEBUG:root:Done. Classification accuracy: 0.5 Loss: 1.2723661661148071\n",
      "DEBUG:root:Training generator...\n",
      "DEBUG:root:Done training generator.\n",
      "\n",
      "DEBUG:root:----------------- 426 / 500 -----------------\n",
      "DEBUG:root:Training discriminator...\n",
      "DEBUG:root:Done. Classification accuracy: 0.5 Loss: 1.8466520309448242\n",
      "DEBUG:root:Training generator...\n",
      "DEBUG:root:Done training generator.\n",
      "\n"
     ]
    },
    {
     "name": "stdout",
     "output_type": "stream",
     "text": [
      "real loss: 22.84627342224121\n",
      "fake loss: -21.279048919677734\n",
      "g:6.079139348003082e-05\n",
      "real loss: 23.678285598754883\n",
      "fake loss: -22.486663818359375\n",
      "g:0.08074434101581573\n",
      "real loss: 25.45149040222168\n",
      "fake loss: -23.709835052490234\n",
      "g:0.10499674081802368\n"
     ]
    },
    {
     "name": "stderr",
     "output_type": "stream",
     "text": [
      "DEBUG:root:----------------- 427 / 500 -----------------\n",
      "DEBUG:root:Training discriminator...\n",
      "DEBUG:root:Done. Classification accuracy: 0.5 Loss: 10.272300720214844\n",
      "DEBUG:root:Training generator...\n",
      "DEBUG:root:Done training generator.\n",
      "\n",
      "DEBUG:root:----------------- 428 / 500 -----------------\n",
      "DEBUG:root:Training discriminator...\n",
      "DEBUG:root:Done. Classification accuracy: 0.5 Loss: 160.5602264404297\n",
      "DEBUG:root:Training generator...\n",
      "DEBUG:root:Done training generator.\n",
      "\n",
      "DEBUG:root:----------------- 429 / 500 -----------------\n",
      "DEBUG:root:Training discriminator...\n",
      "DEBUG:root:Done. Classification accuracy: 0.5 Loss: 157.65420532226562\n",
      "DEBUG:root:Training generator...\n",
      "DEBUG:root:Done training generator.\n",
      "\n"
     ]
    },
    {
     "name": "stdout",
     "output_type": "stream",
     "text": [
      "real loss: 29.622989654541016\n",
      "fake loss: -25.289161682128906\n",
      "g:5.938473224639893\n",
      "real loss: 25.0751895904541\n",
      "fake loss: -23.548114776611328\n",
      "g:159.0331573486328\n",
      "real loss: 8.538450241088867\n",
      "fake loss: -9.894388198852539\n",
      "g:159.01014709472656\n"
     ]
    },
    {
     "name": "stderr",
     "output_type": "stream",
     "text": [
      "DEBUG:root:----------------- 430 / 500 -----------------\n",
      "DEBUG:root:Training discriminator...\n",
      "DEBUG:root:Done. Classification accuracy: 0.5 Loss: -0.1972840279340744\n",
      "DEBUG:root:Training generator...\n",
      "DEBUG:root:Done training generator.\n",
      "\n",
      "DEBUG:root:----------------- 431 / 500 -----------------\n",
      "DEBUG:root:Training discriminator...\n",
      "DEBUG:root:Done. Classification accuracy: 0.5 Loss: -0.7458915114402771\n",
      "DEBUG:root:Training generator...\n",
      "DEBUG:root:Done training generator.\n",
      "\n",
      "DEBUG:root:----------------- 432 / 500 -----------------\n",
      "DEBUG:root:Training discriminator...\n",
      "DEBUG:root:Done. Classification accuracy: 0.5 Loss: 128.62423706054688\n",
      "DEBUG:root:Training generator...\n",
      "DEBUG:root:Done training generator.\n",
      "\n",
      "DEBUG:root:----------------- 433 / 500 -----------------\n",
      "DEBUG:root:Training discriminator...\n"
     ]
    },
    {
     "name": "stdout",
     "output_type": "stream",
     "text": [
      "real loss: 6.642712593078613\n",
      "fake loss: -6.986644268035889\n",
      "g:0.146647647023201\n",
      "real loss: 5.799875736236572\n",
      "fake loss: -6.546004772186279\n",
      "g:0.00023749952379148453\n",
      "real loss: 5.029096603393555\n",
      "fake loss: -5.680375099182129\n",
      "g:129.2755126953125\n",
      "real loss: 2.6797075271606445\n"
     ]
    },
    {
     "name": "stderr",
     "output_type": "stream",
     "text": [
      "DEBUG:root:Done. Classification accuracy: 0.5 Loss: 5497.1298828125\n",
      "DEBUG:root:Training generator...\n",
      "DEBUG:root:Done training generator.\n",
      "\n",
      "DEBUG:root:----------------- 434 / 500 -----------------\n",
      "DEBUG:root:Training discriminator...\n",
      "DEBUG:root:Done. Classification accuracy: 0.5 Loss: 12.110970497131348\n",
      "DEBUG:root:Training generator...\n",
      "DEBUG:root:Done training generator.\n",
      "\n",
      "DEBUG:root:----------------- 435 / 500 -----------------\n",
      "DEBUG:root:Training discriminator...\n",
      "DEBUG:root:Done. Classification accuracy: 0.5 Loss: 347.85137939453125\n",
      "DEBUG:root:Training generator...\n",
      "DEBUG:root:Done training generator.\n",
      "\n",
      "DEBUG:root:----------------- 436 / 500 -----------------\n",
      "DEBUG:root:Training discriminator...\n"
     ]
    },
    {
     "name": "stdout",
     "output_type": "stream",
     "text": [
      "fake loss: -3.764500141143799\n",
      "g:5498.21484375\n",
      "real loss: 5.906177520751953\n",
      "fake loss: -6.070404052734375\n",
      "g:12.27519702911377\n",
      "real loss: 6.843350887298584\n",
      "fake loss: -5.7900872230529785\n",
      "g:346.7981262207031\n",
      "real loss: 6.911174774169922\n"
     ]
    },
    {
     "name": "stderr",
     "output_type": "stream",
     "text": [
      "DEBUG:root:Done. Classification accuracy: 0.5 Loss: -0.18487891554832458\n",
      "DEBUG:root:Training generator...\n",
      "DEBUG:root:Done training generator.\n",
      "\n",
      "DEBUG:root:----------------- 437 / 500 -----------------\n",
      "DEBUG:root:Training discriminator...\n",
      "DEBUG:root:Done. Classification accuracy: 0.5 Loss: 50.60205078125\n",
      "DEBUG:root:Training generator...\n",
      "DEBUG:root:Done training generator.\n",
      "\n",
      "DEBUG:root:----------------- 438 / 500 -----------------\n",
      "DEBUG:root:Training discriminator...\n",
      "DEBUG:root:Done. Classification accuracy: 0.5 Loss: 3.527176856994629\n",
      "DEBUG:root:Training generator...\n",
      "DEBUG:root:Done training generator.\n",
      "\n",
      "DEBUG:root:----------------- 439 / 500 -----------------\n",
      "DEBUG:root:Training discriminator...\n"
     ]
    },
    {
     "name": "stdout",
     "output_type": "stream",
     "text": [
      "fake loss: -7.1588664054870605\n",
      "g:0.06281271576881409\n",
      "real loss: 7.470693588256836\n",
      "fake loss: -7.685704231262207\n",
      "g:50.81706237792969\n",
      "real loss: 8.306575775146484\n",
      "fake loss: -8.209672927856445\n",
      "g:3.43027400970459\n"
     ]
    },
    {
     "name": "stderr",
     "output_type": "stream",
     "text": [
      "DEBUG:root:Done. Classification accuracy: 0.5 Loss: 11.33591079711914\n",
      "DEBUG:root:Training generator...\n",
      "DEBUG:root:Done training generator.\n",
      "\n",
      "DEBUG:root:----------------- 440 / 500 -----------------\n",
      "DEBUG:root:Training discriminator...\n",
      "DEBUG:root:Done. Classification accuracy: 0.5 Loss: 0.35262036323547363\n",
      "DEBUG:root:Training generator...\n",
      "DEBUG:root:Done training generator.\n",
      "\n",
      "DEBUG:root:----------------- 441 / 500 -----------------\n",
      "DEBUG:root:Training discriminator...\n",
      "DEBUG:root:Done. Classification accuracy: 0.5 Loss: -0.5267740488052368\n",
      "DEBUG:root:Training generator...\n",
      "DEBUG:root:Done training generator.\n",
      "\n"
     ]
    },
    {
     "name": "stdout",
     "output_type": "stream",
     "text": [
      "real loss: 8.867144584655762\n",
      "fake loss: -9.31619644165039\n",
      "g:11.78496265411377\n",
      "real loss: 8.828014373779297\n",
      "fake loss: -9.436306953430176\n",
      "g:0.9609129428863525\n",
      "real loss: 8.929265022277832\n",
      "fake loss: -9.567764282226562\n",
      "g:0.11172523349523544\n"
     ]
    },
    {
     "name": "stderr",
     "output_type": "stream",
     "text": [
      "DEBUG:root:----------------- 442 / 500 -----------------\n",
      "DEBUG:root:Training discriminator...\n",
      "DEBUG:root:Done. Classification accuracy: 0.5 Loss: 0.5136291980743408\n",
      "DEBUG:root:Training generator...\n",
      "DEBUG:root:Done training generator.\n",
      "\n",
      "DEBUG:root:----------------- 443 / 500 -----------------\n",
      "DEBUG:root:Training discriminator...\n",
      "DEBUG:root:Done. Classification accuracy: 0.5 Loss: -0.4429829716682434\n",
      "DEBUG:root:Training generator...\n",
      "DEBUG:root:Done training generator.\n",
      "\n",
      "DEBUG:root:----------------- 444 / 500 -----------------\n",
      "DEBUG:root:Training discriminator...\n",
      "DEBUG:root:Done. Classification accuracy: 0.5 Loss: 1.1175389289855957\n",
      "DEBUG:root:Training generator...\n",
      "DEBUG:root:Done training generator.\n",
      "\n"
     ]
    },
    {
     "name": "stdout",
     "output_type": "stream",
     "text": [
      "real loss: 9.552813529968262\n",
      "fake loss: -9.58062744140625\n",
      "g:0.5414431095123291\n",
      "real loss: 9.178434371948242\n",
      "fake loss: -9.632007598876953\n",
      "g:0.010590268298983574\n",
      "real loss: 9.70474910736084\n",
      "fake loss: -9.258151054382324\n",
      "g:0.6709408760070801\n"
     ]
    },
    {
     "name": "stderr",
     "output_type": "stream",
     "text": [
      "DEBUG:root:----------------- 445 / 500 -----------------\n",
      "DEBUG:root:Training discriminator...\n",
      "DEBUG:root:Done. Classification accuracy: 0.5 Loss: -0.62193363904953\n",
      "DEBUG:root:Training generator...\n",
      "DEBUG:root:Done training generator.\n",
      "\n",
      "DEBUG:root:----------------- 446 / 500 -----------------\n",
      "DEBUG:root:Training discriminator...\n",
      "DEBUG:root:Done. Classification accuracy: 0.5 Loss: -0.4687769114971161\n",
      "DEBUG:root:Training generator...\n",
      "DEBUG:root:Done training generator.\n",
      "\n",
      "DEBUG:root:----------------- 447 / 500 -----------------\n",
      "DEBUG:root:Training discriminator...\n",
      "DEBUG:root:Done. Classification accuracy: 0.5 Loss: 0.09857761859893799\n",
      "DEBUG:root:Training generator...\n",
      "DEBUG:root:Done training generator.\n",
      "\n"
     ]
    },
    {
     "name": "stdout",
     "output_type": "stream",
     "text": [
      "real loss: 9.132938385009766\n",
      "fake loss: -9.755677223205566\n",
      "g:0.0008052234770730138\n",
      "real loss: 9.274733543395996\n",
      "fake loss: -9.743571281433105\n",
      "g:6.0836944612674415e-05\n",
      "real loss: 9.254385948181152\n",
      "fake loss: -9.780560493469238\n",
      "g:0.6247521638870239\n"
     ]
    },
    {
     "name": "stderr",
     "output_type": "stream",
     "text": [
      "DEBUG:root:----------------- 448 / 500 -----------------\n",
      "DEBUG:root:Training discriminator...\n",
      "DEBUG:root:Done. Classification accuracy: 0.5 Loss: -0.42806917428970337\n",
      "DEBUG:root:Training generator...\n",
      "DEBUG:root:Done training generator.\n",
      "\n",
      "DEBUG:root:----------------- 449 / 500 -----------------\n",
      "DEBUG:root:Training discriminator...\n",
      "DEBUG:root:Done. Classification accuracy: 0.5 Loss: 0.08421093225479126\n",
      "DEBUG:root:Training generator...\n",
      "DEBUG:root:Done training generator.\n",
      "\n",
      "DEBUG:root:----------------- 450 / 500 -----------------\n",
      "DEBUG:root:Training discriminator...\n",
      "DEBUG:root:Done. Classification accuracy: 0.5 Loss: 1.0062391757965088\n",
      "DEBUG:root:Training generator...\n",
      "DEBUG:root:Done training generator.\n",
      "\n",
      "DEBUG:root:----------------- 451 / 500 -----------------\n",
      "DEBUG:root:Training discriminator...\n"
     ]
    },
    {
     "name": "stdout",
     "output_type": "stream",
     "text": [
      "real loss: 9.212578773498535\n",
      "fake loss: -9.873799324035645\n",
      "g:0.2331513911485672\n",
      "real loss: 9.356247901916504\n",
      "fake loss: -9.815335273742676\n",
      "g:0.5432983040809631\n",
      "real loss: 9.468969345092773\n",
      "fake loss: -9.83177375793457\n",
      "g:1.3690435886383057\n",
      "real loss: 9.610200881958008\n",
      "fake loss: -10.087200164794922\n"
     ]
    },
    {
     "name": "stderr",
     "output_type": "stream",
     "text": [
      "DEBUG:root:Done. Classification accuracy: 0.5 Loss: -0.4732140004634857\n",
      "DEBUG:root:Training generator...\n",
      "DEBUG:root:Done training generator.\n",
      "\n",
      "DEBUG:root:----------------- 452 / 500 -----------------\n",
      "DEBUG:root:Training discriminator...\n",
      "DEBUG:root:Done. Classification accuracy: 0.5 Loss: 0.7421436309814453\n",
      "DEBUG:root:Training generator...\n",
      "DEBUG:root:Done training generator.\n",
      "\n",
      "DEBUG:root:----------------- 453 / 500 -----------------\n",
      "DEBUG:root:Training discriminator...\n",
      "DEBUG:root:Done. Classification accuracy: 0.5 Loss: 0.06963852047920227\n",
      "DEBUG:root:Training generator...\n",
      "DEBUG:root:Done training generator.\n",
      "\n",
      "DEBUG:root:----------------- 454 / 500 -----------------\n",
      "DEBUG:root:Training discriminator...\n"
     ]
    },
    {
     "name": "stdout",
     "output_type": "stream",
     "text": [
      "g:0.003785280045121908\n",
      "real loss: 9.82120132446289\n",
      "fake loss: -10.227518081665039\n",
      "g:1.1484603881835938\n",
      "real loss: 9.76911449432373\n",
      "fake loss: -9.838356018066406\n",
      "g:0.13888004422187805\n",
      "real loss: 9.662199974060059\n",
      "fake loss: -10.207127571105957\n"
     ]
    },
    {
     "name": "stderr",
     "output_type": "stream",
     "text": [
      "DEBUG:root:Done. Classification accuracy: 0.5 Loss: -0.42365702986717224\n",
      "DEBUG:root:Training generator...\n",
      "DEBUG:root:Done training generator.\n",
      "\n",
      "DEBUG:root:----------------- 455 / 500 -----------------\n",
      "DEBUG:root:Training discriminator...\n",
      "DEBUG:root:Done. Classification accuracy: 0.5 Loss: -0.421504944562912\n",
      "DEBUG:root:Training generator...\n",
      "DEBUG:root:Done training generator.\n",
      "\n",
      "DEBUG:root:----------------- 456 / 500 -----------------\n",
      "DEBUG:root:Training discriminator...\n",
      "DEBUG:root:Done. Classification accuracy: 0.5 Loss: -0.06425672769546509\n",
      "DEBUG:root:Training generator...\n",
      "DEBUG:root:Done training generator.\n",
      "\n"
     ]
    },
    {
     "name": "stdout",
     "output_type": "stream",
     "text": [
      "g:0.1212705671787262\n",
      "real loss: 9.898791313171387\n",
      "fake loss: -10.323431015014648\n",
      "g:0.0031347444746643305\n",
      "real loss: 9.746713638305664\n",
      "fake loss: -10.36213493347168\n",
      "g:0.5511645674705505\n"
     ]
    },
    {
     "name": "stderr",
     "output_type": "stream",
     "text": [
      "DEBUG:root:----------------- 457 / 500 -----------------\n",
      "DEBUG:root:Training discriminator...\n",
      "DEBUG:root:Done. Classification accuracy: 0.5 Loss: -0.5059971809387207\n",
      "DEBUG:root:Training generator...\n",
      "DEBUG:root:Done training generator.\n",
      "\n",
      "DEBUG:root:----------------- 458 / 500 -----------------\n",
      "DEBUG:root:Training discriminator...\n",
      "DEBUG:root:Done. Classification accuracy: 0.5 Loss: 0.01244702935218811\n",
      "DEBUG:root:Training generator...\n",
      "DEBUG:root:Done training generator.\n",
      "\n",
      "DEBUG:root:----------------- 459 / 500 -----------------\n",
      "DEBUG:root:Training discriminator...\n",
      "DEBUG:root:Done. Classification accuracy: 0.5 Loss: -0.3282013535499573\n",
      "DEBUG:root:Training generator...\n",
      "DEBUG:root:Done training generator.\n",
      "\n"
     ]
    },
    {
     "name": "stdout",
     "output_type": "stream",
     "text": [
      "real loss: 9.781900405883789\n",
      "fake loss: -10.3399658203125\n",
      "g:0.05206820368766785\n",
      "real loss: 9.994197845458984\n",
      "fake loss: -10.385435104370117\n",
      "g:0.4036842882633209\n",
      "real loss: 9.81251335144043\n",
      "fake loss: -10.351428985595703\n",
      "g:0.21071426570415497\n"
     ]
    },
    {
     "name": "stderr",
     "output_type": "stream",
     "text": [
      "DEBUG:root:----------------- 460 / 500 -----------------\n",
      "DEBUG:root:Training discriminator...\n",
      "DEBUG:root:Done. Classification accuracy: 0.5 Loss: -0.31921690702438354\n",
      "DEBUG:root:Training generator...\n",
      "DEBUG:root:Done training generator.\n",
      "\n",
      "DEBUG:root:----------------- 461 / 500 -----------------\n",
      "DEBUG:root:Training discriminator...\n",
      "DEBUG:root:Done. Classification accuracy: 0.5 Loss: -0.4323221743106842\n",
      "DEBUG:root:Training generator...\n",
      "DEBUG:root:Done training generator.\n",
      "\n",
      "DEBUG:root:----------------- 462 / 500 -----------------\n",
      "DEBUG:root:Training discriminator...\n"
     ]
    },
    {
     "name": "stdout",
     "output_type": "stream",
     "text": [
      "real loss: 9.832514762878418\n",
      "fake loss: -10.362476348876953\n",
      "g:0.2107446938753128\n",
      "real loss: 9.969786643981934\n",
      "fake loss: -10.402154922485352\n",
      "g:4.609414827427827e-05\n",
      "real loss: 10.022971153259277\n",
      "fake loss: -10.43871021270752\n",
      "g:0.027988646179437637\n"
     ]
    },
    {
     "name": "stderr",
     "output_type": "stream",
     "text": [
      "DEBUG:root:Done. Classification accuracy: 0.5 Loss: -0.38775041699409485\n",
      "DEBUG:root:Training generator...\n",
      "DEBUG:root:Done training generator.\n",
      "\n",
      "DEBUG:root:----------------- 463 / 500 -----------------\n",
      "DEBUG:root:Training discriminator...\n",
      "DEBUG:root:Done. Classification accuracy: 0.5 Loss: -0.4781687557697296\n",
      "DEBUG:root:Training generator...\n",
      "DEBUG:root:Done training generator.\n",
      "\n",
      "DEBUG:root:----------------- 464 / 500 -----------------\n",
      "DEBUG:root:Training discriminator...\n",
      "DEBUG:root:Done. Classification accuracy: 0.5 Loss: -0.07427671551704407\n",
      "DEBUG:root:Training generator...\n",
      "DEBUG:root:Done training generator.\n",
      "\n",
      "DEBUG:root:----------------- 465 / 500 -----------------\n",
      "DEBUG:root:Training discriminator...\n",
      "DEBUG:root:Done. Classification accuracy: 0.5 Loss: 7.285299301147461\n",
      "DEBUG:root:Training generator...\n"
     ]
    },
    {
     "name": "stdout",
     "output_type": "stream",
     "text": [
      "real loss: 9.97624683380127\n",
      "fake loss: -10.473020553588867\n",
      "g:0.018604956567287445\n",
      "real loss: 10.131285667419434\n",
      "fake loss: -10.514055252075195\n",
      "g:0.30849286913871765\n",
      "real loss: 10.014232635498047\n",
      "fake loss: -10.061710357666016\n",
      "g:7.33277702331543\n"
     ]
    },
    {
     "name": "stderr",
     "output_type": "stream",
     "text": [
      "DEBUG:root:Done training generator.\n",
      "\n",
      "DEBUG:root:----------------- 466 / 500 -----------------\n",
      "DEBUG:root:Training discriminator...\n",
      "DEBUG:root:Done. Classification accuracy: 0.5 Loss: 0.14360439777374268\n",
      "DEBUG:root:Training generator...\n",
      "DEBUG:root:Done training generator.\n",
      "\n",
      "DEBUG:root:----------------- 467 / 500 -----------------\n",
      "DEBUG:root:Training discriminator...\n",
      "DEBUG:root:Done. Classification accuracy: 0.5 Loss: 24.280338287353516\n",
      "DEBUG:root:Training generator...\n",
      "DEBUG:root:Done training generator.\n",
      "\n",
      "DEBUG:root:----------------- 468 / 500 -----------------\n",
      "DEBUG:root:Training discriminator...\n",
      "DEBUG:root:Done. Classification accuracy: 0.5 Loss: -0.45161694288253784\n",
      "DEBUG:root:Training generator...\n",
      "DEBUG:root:Done training generator.\n",
      "\n"
     ]
    },
    {
     "name": "stdout",
     "output_type": "stream",
     "text": [
      "real loss: 9.211207389831543\n",
      "fake loss: -9.825887680053711\n",
      "g:0.7582846879959106\n",
      "real loss: 8.849358558654785\n",
      "fake loss: -9.526809692382812\n",
      "g:24.957788467407227\n",
      "real loss: 8.93956184387207\n",
      "fake loss: -9.528178215026855\n",
      "g:0.1369994431734085\n"
     ]
    },
    {
     "name": "stderr",
     "output_type": "stream",
     "text": [
      "DEBUG:root:----------------- 469 / 500 -----------------\n",
      "DEBUG:root:Training discriminator...\n",
      "DEBUG:root:Done. Classification accuracy: 0.5 Loss: -0.27124130725860596\n",
      "DEBUG:root:Training generator...\n",
      "DEBUG:root:Done training generator.\n",
      "\n",
      "DEBUG:root:----------------- 470 / 500 -----------------\n",
      "DEBUG:root:Training discriminator...\n",
      "DEBUG:root:Done. Classification accuracy: 0.5 Loss: 0.23943018913269043\n",
      "DEBUG:root:Training generator...\n",
      "DEBUG:root:Done training generator.\n",
      "\n",
      "DEBUG:root:----------------- 471 / 500 -----------------\n",
      "DEBUG:root:Training discriminator...\n",
      "DEBUG:root:Done. Classification accuracy: 0.5 Loss: 1.3515410423278809\n",
      "DEBUG:root:Training generator...\n",
      "DEBUG:root:Done training generator.\n",
      "\n"
     ]
    },
    {
     "name": "stdout",
     "output_type": "stream",
     "text": [
      "real loss: 9.210616111755371\n",
      "fake loss: -9.53846263885498\n",
      "g:0.05660521239042282\n",
      "real loss: 9.20715618133545\n",
      "fake loss: -9.562315940856934\n",
      "g:0.5945899486541748\n",
      "real loss: 9.155145645141602\n",
      "fake loss: -9.588587760925293\n",
      "g:1.7849831581115723\n"
     ]
    },
    {
     "name": "stderr",
     "output_type": "stream",
     "text": [
      "DEBUG:root:----------------- 472 / 500 -----------------\n",
      "DEBUG:root:Training discriminator...\n",
      "DEBUG:root:Done. Classification accuracy: 0.5 Loss: 0.5209093689918518\n",
      "DEBUG:root:Training generator...\n",
      "DEBUG:root:Done training generator.\n",
      "\n",
      "DEBUG:root:----------------- 473 / 500 -----------------\n",
      "DEBUG:root:Training discriminator...\n",
      "DEBUG:root:Done. Classification accuracy: 0.5 Loss: -0.4524156153202057\n",
      "DEBUG:root:Training generator...\n",
      "DEBUG:root:Done training generator.\n",
      "\n",
      "DEBUG:root:----------------- 474 / 500 -----------------\n",
      "DEBUG:root:Training discriminator...\n",
      "DEBUG:root:Done. Classification accuracy: 0.5 Loss: -0.22584927082061768\n",
      "DEBUG:root:Training generator...\n"
     ]
    },
    {
     "name": "stdout",
     "output_type": "stream",
     "text": [
      "real loss: 9.312236785888672\n",
      "fake loss: -9.676374435424805\n",
      "g:0.8850470185279846\n",
      "real loss: 9.090572357177734\n",
      "fake loss: -9.582674026489258\n",
      "g:0.039686042815446854\n",
      "real loss: 9.079718589782715\n",
      "fake loss: -9.877461433410645\n",
      "g:0.571893572807312\n"
     ]
    },
    {
     "name": "stderr",
     "output_type": "stream",
     "text": [
      "DEBUG:root:Done training generator.\n",
      "\n",
      "DEBUG:root:----------------- 475 / 500 -----------------\n",
      "DEBUG:root:Training discriminator...\n",
      "DEBUG:root:Done. Classification accuracy: 0.5 Loss: 0.020605266094207764\n",
      "DEBUG:root:Training generator...\n",
      "DEBUG:root:Done training generator.\n",
      "\n",
      "DEBUG:root:----------------- 476 / 500 -----------------\n",
      "DEBUG:root:Training discriminator...\n",
      "DEBUG:root:Done. Classification accuracy: 0.5 Loss: -0.1257261037826538\n",
      "DEBUG:root:Training generator...\n",
      "DEBUG:root:Done training generator.\n",
      "\n",
      "DEBUG:root:----------------- 477 / 500 -----------------\n",
      "DEBUG:root:Training discriminator...\n",
      "DEBUG:root:Done. Classification accuracy: 0.5 Loss: 0.2471955120563507\n",
      "DEBUG:root:Training generator...\n"
     ]
    },
    {
     "name": "stdout",
     "output_type": "stream",
     "text": [
      "real loss: 9.086060523986816\n",
      "fake loss: -9.62060832977295\n",
      "g:0.5551530718803406\n",
      "real loss: 9.186177253723145\n",
      "fake loss: -9.640671730041504\n",
      "g:0.32876837253570557\n",
      "real loss: 9.774231910705566\n",
      "fake loss: -9.677124977111816\n",
      "g:0.1500885784626007\n"
     ]
    },
    {
     "name": "stderr",
     "output_type": "stream",
     "text": [
      "DEBUG:root:Done training generator.\n",
      "\n",
      "DEBUG:root:----------------- 478 / 500 -----------------\n",
      "DEBUG:root:Training discriminator...\n",
      "DEBUG:root:Done. Classification accuracy: 0.5 Loss: 15.071036338806152\n",
      "DEBUG:root:Training generator...\n",
      "DEBUG:root:Done training generator.\n",
      "\n",
      "DEBUG:root:----------------- 479 / 500 -----------------\n",
      "DEBUG:root:Training discriminator...\n",
      "DEBUG:root:Done. Classification accuracy: 0.5 Loss: 0.6524413228034973\n",
      "DEBUG:root:Training generator...\n",
      "DEBUG:root:Done training generator.\n",
      "\n",
      "DEBUG:root:----------------- 480 / 500 -----------------\n",
      "DEBUG:root:Training discriminator...\n",
      "DEBUG:root:Done. Classification accuracy: 0.5 Loss: 77.35441589355469\n",
      "DEBUG:root:Training generator...\n",
      "DEBUG:root:Done training generator.\n",
      "\n",
      "DEBUG:root:----------------- 481 / 500 -----------------\n"
     ]
    },
    {
     "name": "stdout",
     "output_type": "stream",
     "text": [
      "real loss: 9.250449180603027\n",
      "fake loss: -9.714363098144531\n",
      "g:15.534950256347656\n",
      "real loss: 10.304079055786133\n",
      "fake loss: -10.469108581542969\n",
      "g:0.8174708485603333\n",
      "real loss: 10.628646850585938\n",
      "fake loss: -10.957530975341797\n",
      "g:77.68330383300781\n"
     ]
    },
    {
     "name": "stderr",
     "output_type": "stream",
     "text": [
      "DEBUG:root:Training discriminator...\n",
      "DEBUG:root:Done. Classification accuracy: 0.5 Loss: -0.30080339312553406\n",
      "DEBUG:root:Training generator...\n",
      "DEBUG:root:Done training generator.\n",
      "\n",
      "DEBUG:root:----------------- 482 / 500 -----------------\n",
      "DEBUG:root:Training discriminator...\n",
      "DEBUG:root:Done. Classification accuracy: 0.5 Loss: 38.147613525390625\n",
      "DEBUG:root:Training generator...\n",
      "DEBUG:root:Done training generator.\n",
      "\n",
      "DEBUG:root:----------------- 483 / 500 -----------------\n",
      "DEBUG:root:Training discriminator...\n",
      "DEBUG:root:Done. Classification accuracy: 0.5 Loss: -0.6022769212722778\n",
      "DEBUG:root:Training generator...\n"
     ]
    },
    {
     "name": "stdout",
     "output_type": "stream",
     "text": [
      "real loss: 9.673158645629883\n",
      "fake loss: -9.978711128234863\n",
      "g:0.004749081563204527\n",
      "real loss: 9.665932655334473\n",
      "fake loss: -9.56333065032959\n",
      "g:38.045013427734375\n",
      "real loss: 9.628155708312988\n",
      "fake loss: -10.249293327331543\n",
      "g:0.01886069029569626\n"
     ]
    },
    {
     "name": "stderr",
     "output_type": "stream",
     "text": [
      "DEBUG:root:Done training generator.\n",
      "\n",
      "DEBUG:root:----------------- 484 / 500 -----------------\n",
      "DEBUG:root:Training discriminator...\n",
      "DEBUG:root:Done. Classification accuracy: 0.5 Loss: -0.35894811153411865\n",
      "DEBUG:root:Training generator...\n",
      "DEBUG:root:Done training generator.\n",
      "\n",
      "DEBUG:root:----------------- 485 / 500 -----------------\n",
      "DEBUG:root:Training discriminator...\n",
      "DEBUG:root:Done. Classification accuracy: 0.5 Loss: 4.739615440368652\n",
      "DEBUG:root:Training generator...\n",
      "DEBUG:root:Done training generator.\n",
      "\n",
      "DEBUG:root:----------------- 486 / 500 -----------------\n",
      "DEBUG:root:Training discriminator...\n",
      "DEBUG:root:Done. Classification accuracy: 0.5 Loss: 0.27056968212127686\n",
      "DEBUG:root:Training generator...\n"
     ]
    },
    {
     "name": "stdout",
     "output_type": "stream",
     "text": [
      "real loss: 10.116175651550293\n",
      "fake loss: -10.621512413024902\n",
      "g:0.14638864994049072\n",
      "real loss: 10.56067943572998\n",
      "fake loss: -10.89931869506836\n",
      "g:5.078254699707031\n",
      "real loss: 10.22341251373291\n",
      "fake loss: -10.732370376586914\n",
      "g:0.7795275449752808\n"
     ]
    },
    {
     "name": "stderr",
     "output_type": "stream",
     "text": [
      "DEBUG:root:Done training generator.\n",
      "\n",
      "DEBUG:root:----------------- 487 / 500 -----------------\n",
      "DEBUG:root:Training discriminator...\n",
      "DEBUG:root:Done. Classification accuracy: 0.5 Loss: -0.5308856964111328\n",
      "DEBUG:root:Training generator...\n",
      "DEBUG:root:Done training generator.\n",
      "\n",
      "DEBUG:root:----------------- 488 / 500 -----------------\n",
      "DEBUG:root:Training discriminator...\n",
      "DEBUG:root:Done. Classification accuracy: 0.5 Loss: -0.040012240409851074\n",
      "DEBUG:root:Training generator...\n",
      "DEBUG:root:Done training generator.\n",
      "\n",
      "DEBUG:root:----------------- 489 / 500 -----------------\n",
      "DEBUG:root:Training discriminator...\n",
      "DEBUG:root:Done. Classification accuracy: 0.5 Loss: -0.18781334161758423\n",
      "DEBUG:root:Training generator...\n",
      "DEBUG:root:Done training generator.\n",
      "\n"
     ]
    },
    {
     "name": "stdout",
     "output_type": "stream",
     "text": [
      "real loss: 10.161043167114258\n",
      "fake loss: -10.691962242126465\n",
      "g:3.335790825076401e-05\n",
      "real loss: 10.105903625488281\n",
      "fake loss: -10.740419387817383\n",
      "g:0.5945035219192505\n",
      "real loss: 10.14623737335205\n",
      "fake loss: -10.724607467651367\n",
      "g:0.3905567526817322\n"
     ]
    },
    {
     "name": "stderr",
     "output_type": "stream",
     "text": [
      "DEBUG:root:----------------- 490 / 500 -----------------\n",
      "DEBUG:root:Training discriminator...\n",
      "DEBUG:root:Done. Classification accuracy: 0.5 Loss: -0.3111478388309479\n",
      "DEBUG:root:Training generator...\n",
      "DEBUG:root:Done training generator.\n",
      "\n",
      "DEBUG:root:----------------- 491 / 500 -----------------\n",
      "DEBUG:root:Training discriminator...\n",
      "DEBUG:root:Done. Classification accuracy: 0.5 Loss: -0.3628515899181366\n",
      "DEBUG:root:Training generator...\n",
      "DEBUG:root:Done training generator.\n",
      "\n",
      "DEBUG:root:----------------- 492 / 500 -----------------\n",
      "DEBUG:root:Training discriminator...\n",
      "DEBUG:root:Done. Classification accuracy: 0.5 Loss: -0.4247804284095764\n",
      "DEBUG:root:Training generator...\n",
      "DEBUG:root:Done training generator.\n",
      "\n"
     ]
    },
    {
     "name": "stdout",
     "output_type": "stream",
     "text": [
      "real loss: 10.4739408493042\n",
      "fake loss: -10.881795883178711\n",
      "g:0.09670720249414444\n",
      "real loss: 10.356142044067383\n",
      "fake loss: -10.814112663269043\n",
      "g:0.09511903673410416\n",
      "real loss: 10.373289108276367\n",
      "fake loss: -10.810221672058105\n",
      "g:0.012152143754065037\n"
     ]
    },
    {
     "name": "stderr",
     "output_type": "stream",
     "text": [
      "DEBUG:root:----------------- 493 / 500 -----------------\n",
      "DEBUG:root:Training discriminator...\n",
      "DEBUG:root:Done. Classification accuracy: 0.5 Loss: -0.33241885900497437\n",
      "DEBUG:root:Training generator...\n",
      "DEBUG:root:Done training generator.\n",
      "\n",
      "DEBUG:root:----------------- 494 / 500 -----------------\n",
      "DEBUG:root:Training discriminator...\n",
      "DEBUG:root:Done. Classification accuracy: 0.5 Loss: -0.10534122586250305\n",
      "DEBUG:root:Training generator...\n",
      "DEBUG:root:Done training generator.\n",
      "\n",
      "DEBUG:root:----------------- 495 / 500 -----------------\n",
      "DEBUG:root:Training discriminator...\n",
      "DEBUG:root:Done. Classification accuracy: 0.5 Loss: -0.3361468017101288\n",
      "DEBUG:root:Training generator...\n"
     ]
    },
    {
     "name": "stdout",
     "output_type": "stream",
     "text": [
      "real loss: 10.338041305541992\n",
      "fake loss: -10.810619354248047\n",
      "g:0.14015917479991913\n",
      "real loss: 10.289726257324219\n",
      "fake loss: -10.404458999633789\n",
      "g:0.009391513653099537\n",
      "real loss: 10.517175674438477\n",
      "fake loss: -10.856155395507812\n",
      "g:0.0028329112101346254\n"
     ]
    },
    {
     "name": "stderr",
     "output_type": "stream",
     "text": [
      "DEBUG:root:Done training generator.\n",
      "\n",
      "DEBUG:root:----------------- 496 / 500 -----------------\n",
      "DEBUG:root:Training discriminator...\n",
      "DEBUG:root:Done. Classification accuracy: 0.5 Loss: 92.36235046386719\n",
      "DEBUG:root:Training generator...\n",
      "DEBUG:root:Done training generator.\n",
      "\n",
      "DEBUG:root:----------------- 497 / 500 -----------------\n",
      "DEBUG:root:Training discriminator...\n",
      "DEBUG:root:Done. Classification accuracy: 0.5 Loss: 35.55141830444336\n",
      "DEBUG:root:Training generator...\n",
      "DEBUG:root:Done training generator.\n",
      "\n",
      "DEBUG:root:----------------- 498 / 500 -----------------\n",
      "DEBUG:root:Training discriminator...\n",
      "DEBUG:root:Done. Classification accuracy: 0.5 Loss: 209.4132080078125\n",
      "DEBUG:root:Training generator...\n"
     ]
    },
    {
     "name": "stdout",
     "output_type": "stream",
     "text": [
      "real loss: 10.359780311584473\n",
      "fake loss: -10.950222969055176\n",
      "g:92.95279693603516\n",
      "real loss: 8.530238151550293\n",
      "fake loss: -9.294565200805664\n",
      "g:36.31574630737305\n",
      "real loss: 7.976924419403076\n",
      "fake loss: -8.547250747680664\n",
      "g:209.98353576660156\n"
     ]
    },
    {
     "name": "stderr",
     "output_type": "stream",
     "text": [
      "DEBUG:root:Done training generator.\n",
      "\n",
      "DEBUG:root:----------------- 499 / 500 -----------------\n",
      "DEBUG:root:Training discriminator...\n",
      "DEBUG:root:Done. Classification accuracy: 0.5 Loss: 0.3559790253639221\n",
      "DEBUG:root:Training generator...\n",
      "DEBUG:root:Done training generator.\n",
      "\n",
      "DEBUG:root:----------------- 500 / 500 -----------------\n",
      "DEBUG:root:Training discriminator...\n",
      "DEBUG:root:Done. Classification accuracy: 0.5 Loss: -0.23035652935504913\n",
      "DEBUG:root:Training generator...\n",
      "DEBUG:root:Done training generator.\n",
      "\n"
     ]
    },
    {
     "name": "stdout",
     "output_type": "stream",
     "text": [
      "real loss: 8.572864532470703\n",
      "fake loss: -9.122283935546875\n",
      "g:0.905398428440094\n",
      "real loss: 8.936383247375488\n",
      "fake loss: -9.402112007141113\n",
      "g:0.23537223041057587\n"
     ]
    }
   ],
   "source": [
    "logger.setLevel(logging.DEBUG)\n",
    "logging.info(\"---------- Adversarial Training ----------\\n\")\n",
    "\n",
    "for i in range(1, ADVERSIVE_ITERS + 1):\n",
    "    logging.debug(\"----------------- %d / %d -----------------\" % (i, ADVERSIVE_ITERS))\n",
    "    logging.debug(\"Training discriminator...\")\n",
    "    \n",
    "    d.requiresGrad()\n",
    "    g.zero_grad()\n",
    "    \n",
    "    correct = 0\n",
    "    for j in range(CRITIC_ITERS):\n",
    "        L = 0\n",
    "        # Genuine\n",
    "        genuine_password_tensor = P.passwordToInputTensor(next(passwords)).to(device)\n",
    "        category = 1\n",
    "        output, loss_real = d.train(genuine_password_tensor, category)\n",
    "        print(\"real loss: \"+str(loss_real))\n",
    "        L += loss_real\n",
    "        if output > 0:\n",
    "            correct = correct + 1\n",
    "        # Fake\n",
    "        fake_password_tensor = g.generatePassTensor().to(device)\n",
    "        category = -1\n",
    "        output, loss_fake = d.train(fake_password_tensor, category)\n",
    "        print(\"fake loss: \"+str(loss_fake))\n",
    "        L += loss_fake\n",
    "        if output < 0:\n",
    "            correct = correct + 1\n",
    "        # Gradient penalty\n",
    "        loss_gp = d.calcGradientPenalty(genuine_password_tensor, fake_password_tensor, 1)\n",
    "        loss_gp.backward(retain_graph=True)\n",
    "        print(\"g:\"+str(loss_gp.item()))\n",
    "        L += loss_gp\n",
    "        \n",
    "        opt_d.step()\n",
    "        \n",
    "    logging.debug(\"Done. Classification accuracy: \" + str(correct / CRITIC_ITERS / 2) + \" Loss: \" + str(L.item()))    \n",
    "    \n",
    "    logging.debug(\"Training generator...\")\n",
    "    \n",
    "    d.requiresNoGrad()\n",
    "    \n",
    "    g.train(d, p)\n",
    "    \n",
    "    logging.debug(\"Done training generator.\\n\")\n",
    "    "
   ]
  },
  {
   "cell_type": "code",
   "execution_count": 18,
   "metadata": {},
   "outputs": [
    {
     "data": {
      "text/plain": [
       "['baaaea',\n",
       " 'Foaae',\n",
       " 'taaaaae',\n",
       " '2aaaa',\n",
       " 'daaaaa',\n",
       " 'paaaa',\n",
       " 'maaaa',\n",
       " 'caaaa',\n",
       " 'maaaa',\n",
       " 'raeaa',\n",
       " 'faaaa',\n",
       " '1aeea',\n",
       " 'taaaa',\n",
       " '2aaaa',\n",
       " '0aaaea',\n",
       " 'maaaa',\n",
       " '5aeaa',\n",
       " 'laaaa',\n",
       " '1aaaa',\n",
       " 'paaae',\n",
       " 'taaaa',\n",
       " 'aaaea',\n",
       " 'aaaaa',\n",
       " '1aaaa',\n",
       " 'laaaa',\n",
       " 'daaea',\n",
       " 'laaaa',\n",
       " 'daaa',\n",
       " '*aaaa',\n",
       " 'iaaaa',\n",
       " '9aaee',\n",
       " 'haaaa',\n",
       " 'Faeaa',\n",
       " 'Naaaa',\n",
       " '1aaaa',\n",
       " 'haeea',\n",
       " 'waaaa',\n",
       " 'maaaa',\n",
       " 'maaaa',\n",
       " 'paaea',\n",
       " 'jaaaa',\n",
       " '8aaaaa',\n",
       " 'Oaaaa',\n",
       " '7aaaa',\n",
       " 'aaaaa',\n",
       " 'daaae',\n",
       " '8aaaa',\n",
       " 'laeaa',\n",
       " 'naaaa',\n",
       " 'eaaea',\n",
       " 'vaaaa',\n",
       " '1aaaa',\n",
       " '9aaaa',\n",
       " 'uaaaa',\n",
       " '0aaaa',\n",
       " '2aae',\n",
       " 'Daaaa',\n",
       " '1aaaa',\n",
       " 'eoaaa',\n",
       " 'raaaaa',\n",
       " 'yaaaaae',\n",
       " 'jaeaa',\n",
       " '6aaaaa',\n",
       " '2aaaa',\n",
       " 'raaaa',\n",
       " 'haaaa',\n",
       " '6aeaa',\n",
       " '1aaea',\n",
       " 'taaaa',\n",
       " '2aeaa',\n",
       " 'eaaaa',\n",
       " '5oaaa',\n",
       " 'eaaaaa',\n",
       " '0aaaa',\n",
       " '1aaae',\n",
       " '1aaae',\n",
       " 'naaaa',\n",
       " 'haaaa',\n",
       " 'naaaa',\n",
       " 'naaea',\n",
       " 'paaea',\n",
       " 'maaaa',\n",
       " '9aaaa',\n",
       " 'saaaa',\n",
       " 'oaaaa',\n",
       " '2eaee',\n",
       " '0aaaa',\n",
       " 'iaaaa',\n",
       " 'caaae',\n",
       " 'zaaaa',\n",
       " 'maaaa',\n",
       " 'saaaa',\n",
       " 'gaaaa',\n",
       " 'saaaa',\n",
       " 'daaea',\n",
       " 'haaaa',\n",
       " 'eaaea',\n",
       " '0aaaa',\n",
       " 'taaaa',\n",
       " '1aaaa']"
      ]
     },
     "execution_count": 18,
     "metadata": {},
     "output_type": "execute_result"
    }
   ],
   "source": [
    "g.generate_N(p)"
   ]
  },
  {
   "cell_type": "code",
   "execution_count": null,
   "metadata": {
    "scrolled": true
   },
   "outputs": [],
   "source": [
    "import matplotlib.pyplot as plt\n",
    "import matplotlib.ticker as ticker\n",
    "\n",
    "%matplotlib inline\n",
    "\n",
    "logger.setLevel(logging.INFO)\n",
    "\n",
    "plt.figure()\n",
    "plt.plot(loss_trend)\n",
    "#plt.savefig('pictures/rnn-rnn-loss.png',dpi=400)\n",
    "plt.show()"
   ]
  },
  {
   "cell_type": "code",
   "execution_count": null,
   "metadata": {},
   "outputs": [],
   "source": [
    "m = nn.LogSoftmax(dim=1)\n",
    "loss = nn.NLLLoss()\n",
    "# input is of size N x C = 3 x 5\n",
    "input = torch.randn(3, 5, requires_grad=True)\n",
    "# each element in target has to have 0 <= value < C\n",
    "target = torch.tensor([1, 0, 4])\n",
    "output = loss(m(input), target)"
   ]
  },
  {
   "cell_type": "code",
   "execution_count": null,
   "metadata": {},
   "outputs": [],
   "source": [
    "import torch\n",
    "a = torch.ones(3,2)\n",
    "a.requires_grad = True\n",
    "b = a * 2\n",
    "ones = torch.ones_like(a)\n",
    "g = torch.autograd.grad(\n",
    "            outputs=b,\n",
    "            inputs=a,\n",
    "            grad_outputs=ones,\n",
    "            create_graph=True,\n",
    "            retain_graph=True,\n",
    "            only_inputs=True,\n",
    "        )"
   ]
  },
  {
   "cell_type": "code",
   "execution_count": null,
   "metadata": {},
   "outputs": [],
   "source": [
    "g"
   ]
  },
  {
   "cell_type": "code",
   "execution_count": null,
   "metadata": {},
   "outputs": [],
   "source": [
    "g[0].view(g[0].size(0), -1).pow(2).sum(1)**(3)"
   ]
  },
  {
   "cell_type": "code",
   "execution_count": 38,
   "metadata": {},
   "outputs": [
    {
     "data": {
      "text/plain": [
       "tensor(True)"
      ]
     },
     "execution_count": 38,
     "metadata": {},
     "output_type": "execute_result"
    }
   ],
   "source": [
    "torch.ones(1,1,2).norm(2, dim=2)[0][0]"
   ]
  },
  {
   "cell_type": "code",
   "execution_count": 30,
   "metadata": {},
   "outputs": [
    {
     "ename": "TypeError",
     "evalue": "'Generator' object is not subscriptable",
     "output_type": "error",
     "traceback": [
      "\u001b[1;31m---------------------------------------------------------------------------\u001b[0m",
      "\u001b[1;31mTypeError\u001b[0m                                 Traceback (most recent call last)",
      "\u001b[1;32m<ipython-input-30-73ec0726ff88>\u001b[0m in \u001b[0;36m<module>\u001b[1;34m\u001b[0m\n\u001b[1;32m----> 1\u001b[1;33m \u001b[0mg\u001b[0m\u001b[1;33m[\u001b[0m\u001b[1;36m0\u001b[0m\u001b[1;33m]\u001b[0m\u001b[1;33m\u001b[0m\u001b[1;33m\u001b[0m\u001b[0m\n\u001b[0m",
      "\u001b[1;31mTypeError\u001b[0m: 'Generator' object is not subscriptable"
     ]
    }
   ],
   "source": [
    "g[0]"
   ]
  },
  {
   "cell_type": "code",
   "execution_count": null,
   "metadata": {},
   "outputs": [],
   "source": [
    "a = [0,1,2]\n",
    "a[-1]"
   ]
  },
  {
   "cell_type": "code",
   "execution_count": null,
   "metadata": {},
   "outputs": [],
   "source": []
  }
 ],
 "metadata": {
  "file_extension": ".py",
  "kernelspec": {
   "display_name": "Python [conda env:.conda-pytorch]",
   "language": "python",
   "name": "conda-env-.conda-pytorch-py"
  },
  "language_info": {
   "codemirror_mode": {
    "name": "ipython",
    "version": 3
   },
   "file_extension": ".py",
   "mimetype": "text/x-python",
   "name": "python",
   "nbconvert_exporter": "python",
   "pygments_lexer": "ipython3",
   "version": "3.7.3"
  },
  "mimetype": "text/x-python",
  "name": "python",
  "npconvert_exporter": "python",
  "pygments_lexer": "ipython3",
  "version": 3
 },
 "nbformat": 4,
 "nbformat_minor": 2
}
